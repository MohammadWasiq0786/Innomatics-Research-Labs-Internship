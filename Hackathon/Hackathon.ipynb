{
 "cells": [
  {
   "cell_type": "markdown",
   "metadata": {},
   "source": [
    "![inn.png](data:image/png;base64,iVBORw0KGgoAAAANSUhEUgAAAlgAAABQCAMAAADydPuqAAAAw1BMVEX///8AAAAHAADkIifiAADjDxfjGB7jAAb40NHjFx3jBxHoUFPkHCLd3d2hoaHzq6ybmpplZGTrcXPCwcHsenzKysr86OmUk5OHhoZNS0vmQET+9/fjCRPwk5XqYWT639/1vr/+9fXy8vLqaGr3yMnlKi/519c5Nzfs7Oy7u7vvkJLpWl3zrq+BgICpqalcWlrU1NTxnZ7lMjZBQUEaGhrtg4Xsd3nnRUhubW0rKytzc3Pzra5UUlKzs7MkJCT0t7geGxshuEh2AAAaRElEQVR4nO1diVbqvBamkra0FBBEQCzzIILIrOh1ev+nupnaJKUZ6vV4XOf6rX/9y1PaNMOXPWUnzeW+Ho33Tn3U7dbvrv9A4b/4HDqLeuNv10GNXr8yr9dGo9rDYV7p9wbJ38ePwLc9Jwg8H3T+RgV/kYKFG9jg5zJruinawIW88RzH82zbd4G/PfR5yTQCQT6GW/xrVf0FjwaAo2Ef/nY10tE75EHo5JMIbNevTaObHkPhR/vxb9b4FxEKiFje6G9XIw3jIrCDE1ZReOCxj++qhYlf/PrfrfYvMLDE8n+gZTJug1NZJcgtF/TgbeDkB1D423X/RQ7ZWJ4/+XHOVGMBpMKKSS144+Ppbc6vmfUj0KltfhyvNhpphYEsw+mpwIIiq/e36/+LH4nGo0uUnRdCJxDC9UPvVDL5fTgrkhYWZtwP1Oy/+PsYu0hc2S7Y1jZ34ynE+H1TawM3YcoD6Bh20ySbs9C8YWZSjVMxPjR4anhatslj3N3Zbv+f8Qffl7HoT9RkNsvwzAYgny9f7ycCodfjwxbYCY3XTrPEgq3yBWXL+ijparE8sz5EjsyerLNz3WNHy7oRy15blrXUPUZecH98sjCuzrX1I3htQTQv+UvnSwjxkuqd6I1V7W2lVipuVc8MV5Z1NKzF/fENN/zj2bTiuVJ5dYaf2TXNOusB5G0wGqf/OK37oQGxJqoXXFoWrJGG6VeoynvhEm6FsitzuRUuWyAk7rEL9WMIs6rF48Wgt4Zn9OamUAOMZ/3jCHvrDBbyormrZEnwqnjoBXWFSTWGR77IGyOarPEAwcrjLlgZqKCF7wFxian0+sq9a7CxI2ohVbhIU4VqifWMq1NW1qKE7jkTpzJ+TC2yZuSxXfKS1VI+hnCBe4lBYIsEZSu6N54ml1EpuplD0CK3Wxo58SzWjVVSIZFoX+jrcCm23LLu9c80k8+sdU8UfdAVaHWBtcML103Xc+oyuv1cbm6nEEttY1XxUK+U1XilHc7PSANiXZw+hkdarxJerZOx0z9UjlkUv3AVXzKZ+MOImere+BSxCMX11UjOKO2khzg/eUQ3jxauLSrBSEoKWol6jX4lNT6az4cb1TsIsa5Mai7UNwOxrMQlrRWztmLhY8UdrTXNGLGiAR7GPW5ErJahfEuhPamsQqoaEqtkRX3GWq4ToDP+EfKQRuc+gMeEL3azpNQSh2aDF6Jq8C8vhVjqOJYJsZpRE7nXmhOLb+atEbHi3l2VX8vVuIM1Fh0j1hv/NnNiMQ5r1E/T4kcxGtK3quIlhsT6sGiBx2a5taMs0ShQYsxY5yU4HYYXZ5b2kQpIrlm+MaNO1KKFEFrtPvxj42fUhJmIxU+eDMTi+tOIWEs6XlUqOFpmHVxmNKIPHjMR65XdfaO9mbyB2Mu3KKyiUT5mxGrRhlJil97Iv9XdbAkjQ405hZU1BbXElTXnLSQcq8bEybvv8I/JiV+oCbxnI9aH0BxjYu2ESxpiRaKdKRaqGjUGPEcs2jv7TMTakbluLOByEbFMHAMjYlFScHcZyB/sWVlP8b/xbFI53vZJjsUaStvlMyEWEx2kWYOtg8MKvaSVBSrKtmQjFkelLMRi5rQJsVqnPuilicjiiEXczhkzhQyYQhzW3dHQb8WwLL0gJTAiFm150tlRP5b0hy41xDp00f9Lz2/7q1ZUrnVj7feCKhw272/2R8SywSQIUR5ZQVyu1uaQZiMWm57ZiGXxlzTEovEYQQ60RHmfCo5YRELeZiIW9lCsJqnhmfb2uKpfSCzSckEPX1kJqqWXzD+EAwfSF/WwvGpRxUd17gtThaTbh/RfyD9uuHmAlGFv60bUCkL/XdmSXHZiRaTIRKxYBBgQiw6B6AMOSZ8rHUNCLE53LDPptht895qOrlnI+2uJRfpL9BzWWmLRICMLSgyPb0/yHm6Q2kQo0bdEoJIvCixjZhVAHvTR1bs2cEPb9kHQ0SdqmBPLEsxCY2JRi2nGLqmJ1Uy1PqunkzmJMtFlVjyAiCrWGXdBBaIJ99GbzFZfCLG+ysYiTou4UpHDpo8ylB65OoZ2IcKORfbJhdvWftmCYozS8170Eud+ZFE1+pt5526aXqoIY2JZzSfeTDQlFhnpM7pOYkCsl1R79Z6UonqQEIvUFc96POytlRmxypFtdZuiiWX4WuOd9O9H4ur5x14lsOIosGXt7g25NeO8wEv+UjRxud+xqmkHedA92bWjhjmx7ku8qDYmVou48cScNCAWGazket1F2mwWQahRRv2MBQ7RIhcvZsRigu3EgtbV9auIRUrThP1lRWNqWWfPiWDfda9xqrX48AJVvIRY0Xhyv2PRPcWZEPM4vjAwSPEzJ1aZmNBUmBgT65kaoGfskgGxktaUwcBQYiEjHC9NYCFnza6MiDVj0oL0yE7zAFfXLyKWiR2Ziipny0JUeSviHQA3352/9wR6ccRZ85ci845bByfVqaO1QhtMHuabzmHhAKC13TMRix/0DMSi4ZlmLgOxkiUbE+ueeEkz0jI4C8yIRfUo+vNWLxzFun4Zsc70fZqKlbDGZFkvrO41D/pwDrS3w3Z9M442oXLEimKDTzyxuN+J5G5EuaY2hKPLmMHIRKxX1j3GxFrG9vgsA7GSK6/GxHodWlTxYhNrZUisyCfM5SJdaDLAf4JY2jXnFJStBLUiRX7NVmICL3QB3bLF5yRREq44Yi25n2lBh0R6A5BkcjFkIhbtf3R3FmLl3qLHPk2sC2NiUZudKreyGbFKvMdQjRxELf4EsQzSZFKeLWOJw5hFTa13V6CDf0fvXzHmfJDqPzO9+MrxKqpwIxF49x50VcpGrHVs2WYiFu3W28+rwltzYmEVuKOvWpsRi7TwKLxLm9T0g4gFUbpfMW5FcySRoMf2+LN1dOoKlpn04pakWfHJVD9fV59sxCK+LXLGMxGLvsWiYWIlsfbUMhNxb04sEkKntnvOjFhn9FkC8i6DUNafMN5PiGW0JYG+ZSmmggxEORO02a3r83Ikt/DgD5fLJR7OIeVV9bXMR4nfE+kN2r1fGYlFDfFqRmLRTjuu9cS6SnXK6JqOagwJsW4peUs7IriMiEUF8VUV4/ihfxnB14YbztL6FC2uZDG76CoJ6fY7kQ1+ct24TDiECITyrXGMh3qEyRyl64Qu1K7pZCRWFB6+z0YsmitorfTEoi9IXE0PmwooU6udqhT8r5YZsaJEnQjkX/rx/Fpi3fD6OEIV5cqrFphm5VaT19oX0dTPnezaAicxTpyRDGUTasvLEfvt2LB/OW1TQhfac1VTctmJRdPhTDyni2hsET64x5TEokovsTxv6atJiHUZvSoqxYRYqSmhcb6g5rmvXdJJrH8PucmZjnM+ToBwZF0l5n2m7Ykf3ljVMp6wzWbzHguuS4tLwmHYiHtWvWRSVxKZiXXPBiELsS65x5TEovF9sUbUnlYmZMXEYjnpyBo1INZFGq9MzPevJRaVNYJ4KqdanDwQHQVRfhvbEokcKpKjPjtfrXhZfAHt+LddCa0fvuRm0CN8W3PjM3st0807hYS9pju5wZxYEYue2LhlIBbb2KBLm3lK6d8bg3EpUzeQpYLiSLrBIvQLVZ4cznSCAuOLE/1SxPIHP6dT8Sz4HdGrMLESBreLjoch7uAb5xG8WtU3a49+aMK+f6lylZxdWbvIWUwYWdoQaXZirT9HrJkpsaguPOPGi0ZY0yQ0QzliUCkmFrJX9MSiDsnVbYz7sxStlIIvJhb1UDganesfI+ts3Noq6Qe05NgRo5oo2BBnXnHMGiJtOiS1hJqQa84VpCAywjA98mJycqhpsTmx4qzKOJU8E7G4TTCanHeSUczNqmiXkHqja0ysOCUZmx43WmKdnzoGVCvpdOEXE2toJZhF55hy3fI1UTJ1wJHVUBdtLGi7t5hMPr+MWzdbPQ2jF+7igtb3iGcraN7vsexOegKaFpsTK1YMwzhYYkIsZhfFj2mIFW8ba6LmDl9v6L/VlaTEQmxcRi9CnfSmJdZNioFsJeqeji8mVhwreMFjvo4SYpT8pk5wRI3LPXvTqVMoqHurvH97vryf8YEyNHdns8vm85V4a+6UppoWmxOLWZCvnyPWqyGxIusbRYVvzmLvXzeAjFjChsYPHbGGKTYdDW9oqPzlxMrdxC2/uoobrtmYf6QW4vL19r71ZHG+TzFxbMxgLbLlGf5XRf9nFtrtandurc7pDSzLYXayG/oPSCyWW5aNWHG3aY/d2MVak+31M0xQwNOP9i5ObXrSEevyVBNG6lG3XvjlxJrxW3XpX2rLkilQPgRHuiFxDB9opBDrzVryEdgq1BPWzTnl1D6+FVZ8k41Yz1p/NupljkVRWzISi5r9Boslq2RkSc8rnlhE5JHojjaD9DU2djnQoIcmtTszsbTLM6WThn9oi1+fdhZRnkmJ1SOqsLrjiPUhEgt2/C3iloWtMbZqOMtMrGghRIXbk3vYYrQChFi8ijmeuD3yavG9ZcWbV5WPxKNMaYH/Pmd8S8dl0l/HwAnzun0SSBqe5BKnYmi672L2JDZcd/QNQulMfCYyypJL0FM44544Yi13u9b587BcZkbcrLVb3+wgsW7QDXQxcYcXqjOqwhyqiC5d8ozabwwktUIz2kiSivsfbkwewxhyDoy1Msg0IKcL0XHASSDEHx1yl9OBNUhqabo04SZ7jQ74VqN853Ou4WZPCMkKXIVqorntFmBnHKmCe+WnWimK3A9jx3uYG67ZEKD+Txjvrq5Ow+edtmuGzeoxoUwuVqulTjsNW7tlgkSvz9Wm6bFzl83VzdPN1fLV8IFSqxrr3VZ1GUnY4XlVHemctaopW1zg1Zb2xffHlf58JYLbVdXgXDCMi9YRr4a3TB/Az5AVdP74t0R2HjpMtHRPTCehR9bRzIOTcM8T7pbyCmsd0cc0yCH9xb+Kihh5J0s658/H+2dhHpWRTV9aX14OoQGyv+ANlTXSms+Ea+LpDb+Hcf8fYyzmj3rp35JoWTcl6L1hvbt/ukge9RZJ7cSSjj6F9Bf/LBR5fjFuV1Be7dbYIG7lZvAfq+d9mqtTEFmqPnXtF/82tmK8wT+NnkD7/OkWO2br9Rqvsx6XSUeNILHw6Gp3U/zi38VBRwayXQd5YWvqBM+Qg3mfEthMHJwMftxnNn7xfeiL6svmjazSMFe6icPqMbFwBBFe35VyJV4jNjKmY/3iXwY2sjz0PRPXx5+hiH+5YHH1J+wG3qID8bGhHp0IshIOA09owpP0+V/8X6EdAqd2V+j1CpWR77N9hWUunkqWRpaR6BKjrXFUbJJc0P72tvziB6FWY2bV9Sa0aVST5xVduMXEogHZHfczvVQAwvebfuYnPX/x3WiQM0EGC3rMFUecaMcIvydjyP1Orfjrwqa2ddFXo3H8HRgdkfWLfxnv81oRAPCIv5Y4x84cR5w4ZIVXV6OgO7dcKaxYNQp3h66NSvvOFsToTX/qFxKv/3XLoNdriBcqwLWxDgt8fBztBukw/uC1+ExZHHeg/7hPuYHhuvdu8NXew2ORYvGg2NxaL/J4lA9QoYs+qZj4AJCARlsoSvVl9+t28VHZhk27vc0HXjBpj+Z9TWRlWkdzrb2R1x3WjPtkw6GYFqk2Rq/9aBacrhTVez+7sImel4ct1MQk+0Xc9QeugSM+SOBv4aDUC+JXpmj6BOFalM3BE8uoDSmohYFD4bm2dBS7dnwbhNwnqNMv+9jkONQ0NEDAleWrNj5OQRAqN0bO/YDCsV31yeM18hE+OHOl86cBHJcRaxRqU45U6AFft1mY3ucA1eTKtT3SQM92VU7+dRF2fRCgro9HsSuuQjseHDfUnxxvaEBhLUgsdvit6afwToFzdiYTyGfg5wOpUSbmTPgyYtXdvO+ittnyj5yLoTblYibafRuqBBGKrkwm2+3EB/BWcCe/sx3CWgUBAF4eyCQJrBn3tpqnTTlSoQfMPm078vj4UgpQyHsymTjADfJAztW2nQ9B+9FxYSOpKXJIfqfEK6IPxvGnGFETqrm39q1Wa7+jaZnsBpNMuFTUvIgljUqYvk6J0HVCg5BYAeTtdzQ0jYMv/ZodHD7XcD3gMaAf3JChY0ed2Kg4gYKEozAPOqih05EvPTVMJNbDtxBrAPKBeuGt7eTJnX34F5CZGBs4pbGWH08C+pWblE92IT1SmTLrne4+4E7EoiYV/QYpkWEDuV0jByMWTrOQyRkzYo28uItGnqwoOHyGC00N4B0mnupbQIxYsPmBnITj6KhyiEMY5KU144hVt7+DWJvQWWxtlb5vO0H05yTwZUJ5EkT9PbAp/VI+i4pn+/aahK2uYj3HncNGRRb9HCd2E6efiobyxMrJsyHMiOUHTvTn2JUVZU6sig+mNU86SXMisXKV0JYZK+2AOx2FjcFpzThiHb6FWO0ADLpeSt4Bu4MRq+LLOnUA2Me4NiGeYNO0bwwiW6eD1VKJS0+la4bW8zO3OaB0SeyvqUL/KiAQq+vIOsOMWIBtvG4AkJ5XloFYRSeEBFVZrAKxCq4sIDwVtG8HSMx8kVjz7yAWFMo1yBeVvueIVZB2RoMj1hhgK3KT9lVURMwCSK4gR7tx9vvT8yp6QCLfNRCIBf8hqbgZsTyo56O/Gw2JADUmVgOg5XjPUXj9ArHGriRHEnKE/6Xx3kuvmkiszncQC3JqjBxDhb4XiCVj4DXgztgjXV9L+46zM0LTzMuLkUbucMjkvpoC0J7dlw5RFUrdQjNiHWz9V6HMiYU7HZapaJlArJEjmxaPAdpIoMVfsLEWDjrMcxsozBiOWCO5XdD1kofsFVO/PP+I5XcgesbcjqiEF1gB8riRGjWm33tFT+rKQSW5GQwaBNJOGADomdmHvtLYQ15hIypK5W88BiiQVFANECRWVEKj5kt9Jk/uTSVqZjcG16Q/ep5+h5MKRsQaAHyA2dxWTFvkFcIqXTf6xVAaKcFnYbnOYcwmRjqxtjTJ2N/ydmakCo9inH3QBaoQjhI1zzlg1NvAkQefuk7ec10XEPxHVtrUhYrddkF7o4i8wy7w47KkITHYVcRkCoJAdgsklvcw72w2c1h7RYDKUEbimvmh7aEj8l2DrXMqGBGr72MxUwDSOA927nzb80LgOo7Ce7xDoWkb+N1IbqWqQiSxyB6LACyYsI9i8U8CsTa+LR9qHWpeHn9uwPaCwHf7stsgsQJ4D4ErMWVySG4AH30MQTG30PB5UVGeXM91iHMDayilOwqQenYYhqj2oVwLA/2+XVYzCi/4BmJFuk11CjEkVlQhT7FSlisUAcrmc1yPSL9OmvGOBGS0K8wBo/ilQ5Sk/MTvzxlsHD/4rB7MYWIh2QGrFCz+I1dhXSco1iM8qGg8eK/l0eqJ25XcAIfPeYjLqkm7ahuQgHQllNnkuPNs4AI/gFOxIu9035hYQVyzQzv448QauDQ+c7Dlh8VCYh0O8/m8/ug6tnyO5VCQeBFCwZ0HuOtTww1I5T7EW5o9MGLlCZ+1Ljy4Yd4JDRabZah5YW/QmL4vfOXeVjPjPcJ07tl5XxFuMCkDBIv++/t7H3kEsps6tt3pDQbvWyi5FJN5ojKOhZpx59SN/nzk/T9+8Ijb2LFlQVsWeYf1g0aw3CzAuB7XXSgqcDxvm2JkIQHJX3bAZJ5kz6BfDxA/7e1nIu4RYq9w7nuKBPlsxIJ4kJrShl4h5FPgIyDp15fcFBvvIz9QOI8LxygzTfQKv4FYjwFro1QWcV4hctu1266uuzbJHL47FVkorJH4DEpgA1A8VPrTHsT4fVObABcr0ZOP3WcDCzdA0S8PsRoRq7/pMMGwkDn/hsQK8o5PkXdkapWFGxaeQuJCr4s3+fK19IZ+N7GgJ2fTJoayfcoisTayjzHfbbiXwZHE9Ct6SWKhaZhPWemxfeJLub5NM5A9gy/HKcGIhT79K50ORsQ68MG0vi8xG8yIVQDOqE8h12RcHMsJfOlAjt2Ay3m8c+30qMp3E2sT2h3aRGhQy75OwxNr7EoCcl3AdVElJEuKg3zCMUSxg04y5SEN0GX8X9QgAhcgXTh5W2aKGBHrzveZWS9dizEjVp2tZ0Ot6EvcBY5YaJ1Z2hk+r2mEhcNEzb6VWI8Bq/EkkOl7nliVUJII0bG5Hyo+lWuNbSiwBQ0ISAtvJeDnJXXJAI5YSDLLdl8YEasBuACrNEpgRqwwYElKBSDbH8lH3heOJ9OYkJqsZmMg8+2/mVhCd3Vsmb7niTUJJJNnDLjjX4rMpKwDmxLJATgkej3PgxMNKUor3/mKTYP8kk7NlipDM+Mdjm0kQjeuzOYxItYY8AvKoUwY8cTqcakxSQzgnFmQlzYm0qzUbybWJuQsP1T7dHXBvMJBUW5IwlaN6PMHnwu39g55gKLRbjG2mcY135eKLRtsPxtrF8ETCyWdSSLAXcep3VViSDwY2DuOu+hUKptHZTqdXeGQSjKo/Tjjse5J0kWEtcIHhc/+DvKed4AVg+6jp0hB/EpiOaO4x1KnxVYQP1tZrlU7yONyYNUd+eIClMOe34Vd34HqT/SBG+N+fyr08vXdI45jJ+CEIDh81cYuYRG6Is306zrMSfN9aYZOH8D77NC3g0CagY7i2yFXVmqn28L8hcZ3OhkEYsGC5Sk2G2hbQBfMdvJ+W2ZIfjGxWI+ldmoP8B4FzvhLLQgt6WDH0UM2tfR9qIGk6z2TeHmjMnIAQGtFaLeDh9xCf7H5wu2CI96dyLUBSLeyFkiexpCnfvXawPYczwZbadC2IRTlphJrCsQsIOCmE34uJHVAr9RJuwtjPAG2g7ZcyBVUDzrcjFjQ0ZLeaYAe18zUyneAsImiAUC6LtxGBQGwVS15oAYihpg7dIPC++ZQr41q9UPnbvy/uoEJ9Ap8oweFQjohpgUBikpMN/VRXUX9a7GoQpoqbBQKQglTySsbwuPXstoTjOcPD8pNYuLzU2VhWgjNTGNMsk3T9NtyhcIYoyDJIuPuhDQ53NFC/wvf5hiJcHTl4wAAAABJRU5ErkJggg==)"
   ]
  },
  {
   "cell_type": "markdown",
   "metadata": {},
   "source": [
    "# Innomatics Research Labs Hackathon\n",
    "## Submitted by:\n",
    "\n",
    "# Name: Mohammad Wasiq\n",
    "## Email: `mohammadwasiq0786@gmail.com`, and  `gl0427@myamu.ac.in`\n",
    "## Date: 11- February -2023"
   ]
  },
  {
   "cell_type": "code",
   "execution_count": 1,
   "metadata": {
    "id": "3jpVxHOsq-PL"
   },
   "outputs": [],
   "source": [
    "import numpy as np\n",
    "import pandas as pd\n",
    "import matplotlib.pyplot as plt\n",
    "import seaborn as sns"
   ]
  },
  {
   "cell_type": "code",
   "execution_count": 2,
   "metadata": {
    "colab": {
     "base_uri": "https://localhost:8080/",
     "height": 206
    },
    "id": "uy_dzSvFr4Cp",
    "outputId": "fd0b0e54-7989-4c2b-bccb-4c17a19dca92"
   },
   "outputs": [
    {
     "data": {
      "text/html": [
       "\n",
       "  <div id=\"df-988c4b55-99d9-4769-b18a-2b7585c3c8a9\">\n",
       "    <div class=\"colab-df-container\">\n",
       "      <div>\n",
       "<style scoped>\n",
       "    .dataframe tbody tr th:only-of-type {\n",
       "        vertical-align: middle;\n",
       "    }\n",
       "\n",
       "    .dataframe tbody tr th {\n",
       "        vertical-align: top;\n",
       "    }\n",
       "\n",
       "    .dataframe thead th {\n",
       "        text-align: right;\n",
       "    }\n",
       "</style>\n",
       "<table border=\"1\" class=\"dataframe\">\n",
       "  <thead>\n",
       "    <tr style=\"text-align: right;\">\n",
       "      <th></th>\n",
       "      <th>input</th>\n",
       "      <th>output</th>\n",
       "    </tr>\n",
       "  </thead>\n",
       "  <tbody>\n",
       "    <tr>\n",
       "      <th>0</th>\n",
       "      <td>-122.740667</td>\n",
       "      <td>-130.572085</td>\n",
       "    </tr>\n",
       "    <tr>\n",
       "      <th>1</th>\n",
       "      <td>-121.531419</td>\n",
       "      <td>-129.938929</td>\n",
       "    </tr>\n",
       "    <tr>\n",
       "      <th>2</th>\n",
       "      <td>-134.917019</td>\n",
       "      <td>-130.141832</td>\n",
       "    </tr>\n",
       "    <tr>\n",
       "      <th>3</th>\n",
       "      <td>-120.605951</td>\n",
       "      <td>-125.760932</td>\n",
       "    </tr>\n",
       "    <tr>\n",
       "      <th>4</th>\n",
       "      <td>-129.894781</td>\n",
       "      <td>-112.785214</td>\n",
       "    </tr>\n",
       "  </tbody>\n",
       "</table>\n",
       "</div>\n",
       "      <button class=\"colab-df-convert\" onclick=\"convertToInteractive('df-988c4b55-99d9-4769-b18a-2b7585c3c8a9')\"\n",
       "              title=\"Convert this dataframe to an interactive table.\"\n",
       "              style=\"display:none;\">\n",
       "        \n",
       "  <svg xmlns=\"http://www.w3.org/2000/svg\" height=\"24px\"viewBox=\"0 0 24 24\"\n",
       "       width=\"24px\">\n",
       "    <path d=\"M0 0h24v24H0V0z\" fill=\"none\"/>\n",
       "    <path d=\"M18.56 5.44l.94 2.06.94-2.06 2.06-.94-2.06-.94-.94-2.06-.94 2.06-2.06.94zm-11 1L8.5 8.5l.94-2.06 2.06-.94-2.06-.94L8.5 2.5l-.94 2.06-2.06.94zm10 10l.94 2.06.94-2.06 2.06-.94-2.06-.94-.94-2.06-.94 2.06-2.06.94z\"/><path d=\"M17.41 7.96l-1.37-1.37c-.4-.4-.92-.59-1.43-.59-.52 0-1.04.2-1.43.59L10.3 9.45l-7.72 7.72c-.78.78-.78 2.05 0 2.83L4 21.41c.39.39.9.59 1.41.59.51 0 1.02-.2 1.41-.59l7.78-7.78 2.81-2.81c.8-.78.8-2.07 0-2.86zM5.41 20L4 18.59l7.72-7.72 1.47 1.35L5.41 20z\"/>\n",
       "  </svg>\n",
       "      </button>\n",
       "      \n",
       "  <style>\n",
       "    .colab-df-container {\n",
       "      display:flex;\n",
       "      flex-wrap:wrap;\n",
       "      gap: 12px;\n",
       "    }\n",
       "\n",
       "    .colab-df-convert {\n",
       "      background-color: #E8F0FE;\n",
       "      border: none;\n",
       "      border-radius: 50%;\n",
       "      cursor: pointer;\n",
       "      display: none;\n",
       "      fill: #1967D2;\n",
       "      height: 32px;\n",
       "      padding: 0 0 0 0;\n",
       "      width: 32px;\n",
       "    }\n",
       "\n",
       "    .colab-df-convert:hover {\n",
       "      background-color: #E2EBFA;\n",
       "      box-shadow: 0px 1px 2px rgba(60, 64, 67, 0.3), 0px 1px 3px 1px rgba(60, 64, 67, 0.15);\n",
       "      fill: #174EA6;\n",
       "    }\n",
       "\n",
       "    [theme=dark] .colab-df-convert {\n",
       "      background-color: #3B4455;\n",
       "      fill: #D2E3FC;\n",
       "    }\n",
       "\n",
       "    [theme=dark] .colab-df-convert:hover {\n",
       "      background-color: #434B5C;\n",
       "      box-shadow: 0px 1px 3px 1px rgba(0, 0, 0, 0.15);\n",
       "      filter: drop-shadow(0px 1px 2px rgba(0, 0, 0, 0.3));\n",
       "      fill: #FFFFFF;\n",
       "    }\n",
       "  </style>\n",
       "\n",
       "      <script>\n",
       "        const buttonEl =\n",
       "          document.querySelector('#df-988c4b55-99d9-4769-b18a-2b7585c3c8a9 button.colab-df-convert');\n",
       "        buttonEl.style.display =\n",
       "          google.colab.kernel.accessAllowed ? 'block' : 'none';\n",
       "\n",
       "        async function convertToInteractive(key) {\n",
       "          const element = document.querySelector('#df-988c4b55-99d9-4769-b18a-2b7585c3c8a9');\n",
       "          const dataTable =\n",
       "            await google.colab.kernel.invokeFunction('convertToInteractive',\n",
       "                                                     [key], {});\n",
       "          if (!dataTable) return;\n",
       "\n",
       "          const docLinkHtml = 'Like what you see? Visit the ' +\n",
       "            '<a target=\"_blank\" href=https://colab.research.google.com/notebooks/data_table.ipynb>data table notebook</a>'\n",
       "            + ' to learn more about interactive tables.';\n",
       "          element.innerHTML = '';\n",
       "          dataTable['output_type'] = 'display_data';\n",
       "          await google.colab.output.renderOutput(dataTable, element);\n",
       "          const docLink = document.createElement('div');\n",
       "          docLink.innerHTML = docLinkHtml;\n",
       "          element.appendChild(docLink);\n",
       "        }\n",
       "      </script>\n",
       "    </div>\n",
       "  </div>\n",
       "  "
      ],
      "text/plain": [
       "        input      output\n",
       "0 -122.740667 -130.572085\n",
       "1 -121.531419 -129.938929\n",
       "2 -134.917019 -130.141832\n",
       "3 -120.605951 -125.760932\n",
       "4 -129.894781 -112.785214"
      ]
     },
     "execution_count": 2,
     "metadata": {},
     "output_type": "execute_result"
    }
   ],
   "source": [
    "df= pd.read_csv(\"/dataframe_.csv\")\n",
    "df.head()"
   ]
  },
  {
   "cell_type": "code",
   "execution_count": 3,
   "metadata": {
    "colab": {
     "base_uri": "https://localhost:8080/"
    },
    "id": "5gt8DVQZr9fH",
    "outputId": "5097931e-528b-4497-8217-3af7756b31a6"
   },
   "outputs": [
    {
     "data": {
      "text/plain": [
       "input     1\n",
       "output    1\n",
       "dtype: int64"
      ]
     },
     "execution_count": 3,
     "metadata": {},
     "output_type": "execute_result"
    }
   ],
   "source": [
    "df.isnull().sum()"
   ]
  },
  {
   "cell_type": "markdown",
   "metadata": {
    "id": "w3ni-ERlsSkB"
   },
   "source": [
    "There is a null value so we can drop that single null value because there is no much effect of that."
   ]
  },
  {
   "cell_type": "code",
   "execution_count": 4,
   "metadata": {
    "id": "fTZIaFK6sE4Z"
   },
   "outputs": [],
   "source": [
    "df.dropna(inplace= True)"
   ]
  },
  {
   "cell_type": "code",
   "execution_count": 5,
   "metadata": {
    "colab": {
     "base_uri": "https://localhost:8080/"
    },
    "id": "3ePlmDE0s7pa",
    "outputId": "5d6c17b3-1395-4361-b4f7-f59319cfad49"
   },
   "outputs": [
    {
     "data": {
      "text/plain": [
       "input     0\n",
       "output    0\n",
       "dtype: int64"
      ]
     },
     "execution_count": 5,
     "metadata": {},
     "output_type": "execute_result"
    }
   ],
   "source": [
    "df.isnull().sum()"
   ]
  },
  {
   "cell_type": "markdown",
   "metadata": {
    "id": "L1LgnyRZtAVB"
   },
   "source": [
    "Now there is no null value in our data set."
   ]
  },
  {
   "cell_type": "code",
   "execution_count": 7,
   "metadata": {
    "colab": {
     "base_uri": "https://localhost:8080/",
     "height": 112
    },
    "id": "-jJYTgeMs-Uj",
    "outputId": "90bb40a6-494a-4988-9081-edba011a0f1a"
   },
   "outputs": [
    {
     "data": {
      "text/html": [
       "\n",
       "  <div id=\"df-a16d5188-9c4c-4548-8eb6-cc871445aa32\">\n",
       "    <div class=\"colab-df-container\">\n",
       "      <div>\n",
       "<style scoped>\n",
       "    .dataframe tbody tr th:only-of-type {\n",
       "        vertical-align: middle;\n",
       "    }\n",
       "\n",
       "    .dataframe tbody tr th {\n",
       "        vertical-align: top;\n",
       "    }\n",
       "\n",
       "    .dataframe thead th {\n",
       "        text-align: right;\n",
       "    }\n",
       "</style>\n",
       "<table border=\"1\" class=\"dataframe\">\n",
       "  <thead>\n",
       "    <tr style=\"text-align: right;\">\n",
       "      <th></th>\n",
       "      <th>count</th>\n",
       "      <th>mean</th>\n",
       "      <th>std</th>\n",
       "      <th>min</th>\n",
       "      <th>25%</th>\n",
       "      <th>50%</th>\n",
       "      <th>75%</th>\n",
       "      <th>max</th>\n",
       "    </tr>\n",
       "  </thead>\n",
       "  <tbody>\n",
       "    <tr>\n",
       "      <th>input</th>\n",
       "      <td>1696.0</td>\n",
       "      <td>1.159933</td>\n",
       "      <td>79.005970</td>\n",
       "      <td>-134.962839</td>\n",
       "      <td>-63.386506</td>\n",
       "      <td>10.195194</td>\n",
       "      <td>70.264109</td>\n",
       "      <td>134.605775</td>\n",
       "    </tr>\n",
       "    <tr>\n",
       "      <th>output</th>\n",
       "      <td>1696.0</td>\n",
       "      <td>-34.088017</td>\n",
       "      <td>65.771112</td>\n",
       "      <td>-132.422167</td>\n",
       "      <td>-80.026767</td>\n",
       "      <td>-50.470981</td>\n",
       "      <td>-11.000000</td>\n",
       "      <td>134.425495</td>\n",
       "    </tr>\n",
       "  </tbody>\n",
       "</table>\n",
       "</div>\n",
       "      <button class=\"colab-df-convert\" onclick=\"convertToInteractive('df-a16d5188-9c4c-4548-8eb6-cc871445aa32')\"\n",
       "              title=\"Convert this dataframe to an interactive table.\"\n",
       "              style=\"display:none;\">\n",
       "        \n",
       "  <svg xmlns=\"http://www.w3.org/2000/svg\" height=\"24px\"viewBox=\"0 0 24 24\"\n",
       "       width=\"24px\">\n",
       "    <path d=\"M0 0h24v24H0V0z\" fill=\"none\"/>\n",
       "    <path d=\"M18.56 5.44l.94 2.06.94-2.06 2.06-.94-2.06-.94-.94-2.06-.94 2.06-2.06.94zm-11 1L8.5 8.5l.94-2.06 2.06-.94-2.06-.94L8.5 2.5l-.94 2.06-2.06.94zm10 10l.94 2.06.94-2.06 2.06-.94-2.06-.94-.94-2.06-.94 2.06-2.06.94z\"/><path d=\"M17.41 7.96l-1.37-1.37c-.4-.4-.92-.59-1.43-.59-.52 0-1.04.2-1.43.59L10.3 9.45l-7.72 7.72c-.78.78-.78 2.05 0 2.83L4 21.41c.39.39.9.59 1.41.59.51 0 1.02-.2 1.41-.59l7.78-7.78 2.81-2.81c.8-.78.8-2.07 0-2.86zM5.41 20L4 18.59l7.72-7.72 1.47 1.35L5.41 20z\"/>\n",
       "  </svg>\n",
       "      </button>\n",
       "      \n",
       "  <style>\n",
       "    .colab-df-container {\n",
       "      display:flex;\n",
       "      flex-wrap:wrap;\n",
       "      gap: 12px;\n",
       "    }\n",
       "\n",
       "    .colab-df-convert {\n",
       "      background-color: #E8F0FE;\n",
       "      border: none;\n",
       "      border-radius: 50%;\n",
       "      cursor: pointer;\n",
       "      display: none;\n",
       "      fill: #1967D2;\n",
       "      height: 32px;\n",
       "      padding: 0 0 0 0;\n",
       "      width: 32px;\n",
       "    }\n",
       "\n",
       "    .colab-df-convert:hover {\n",
       "      background-color: #E2EBFA;\n",
       "      box-shadow: 0px 1px 2px rgba(60, 64, 67, 0.3), 0px 1px 3px 1px rgba(60, 64, 67, 0.15);\n",
       "      fill: #174EA6;\n",
       "    }\n",
       "\n",
       "    [theme=dark] .colab-df-convert {\n",
       "      background-color: #3B4455;\n",
       "      fill: #D2E3FC;\n",
       "    }\n",
       "\n",
       "    [theme=dark] .colab-df-convert:hover {\n",
       "      background-color: #434B5C;\n",
       "      box-shadow: 0px 1px 3px 1px rgba(0, 0, 0, 0.15);\n",
       "      filter: drop-shadow(0px 1px 2px rgba(0, 0, 0, 0.3));\n",
       "      fill: #FFFFFF;\n",
       "    }\n",
       "  </style>\n",
       "\n",
       "      <script>\n",
       "        const buttonEl =\n",
       "          document.querySelector('#df-a16d5188-9c4c-4548-8eb6-cc871445aa32 button.colab-df-convert');\n",
       "        buttonEl.style.display =\n",
       "          google.colab.kernel.accessAllowed ? 'block' : 'none';\n",
       "\n",
       "        async function convertToInteractive(key) {\n",
       "          const element = document.querySelector('#df-a16d5188-9c4c-4548-8eb6-cc871445aa32');\n",
       "          const dataTable =\n",
       "            await google.colab.kernel.invokeFunction('convertToInteractive',\n",
       "                                                     [key], {});\n",
       "          if (!dataTable) return;\n",
       "\n",
       "          const docLinkHtml = 'Like what you see? Visit the ' +\n",
       "            '<a target=\"_blank\" href=https://colab.research.google.com/notebooks/data_table.ipynb>data table notebook</a>'\n",
       "            + ' to learn more about interactive tables.';\n",
       "          element.innerHTML = '';\n",
       "          dataTable['output_type'] = 'display_data';\n",
       "          await google.colab.output.renderOutput(dataTable, element);\n",
       "          const docLink = document.createElement('div');\n",
       "          docLink.innerHTML = docLinkHtml;\n",
       "          element.appendChild(docLink);\n",
       "        }\n",
       "      </script>\n",
       "    </div>\n",
       "  </div>\n",
       "  "
      ],
      "text/plain": [
       "         count       mean        std         min        25%        50%  \\\n",
       "input   1696.0   1.159933  79.005970 -134.962839 -63.386506  10.195194   \n",
       "output  1696.0 -34.088017  65.771112 -132.422167 -80.026767 -50.470981   \n",
       "\n",
       "              75%         max  \n",
       "input   70.264109  134.605775  \n",
       "output -11.000000  134.425495  "
      ]
     },
     "execution_count": 7,
     "metadata": {},
     "output_type": "execute_result"
    }
   ],
   "source": [
    "df.describe().T"
   ]
  },
  {
   "cell_type": "markdown",
   "metadata": {
    "id": "QENxB6u4tJev"
   },
   "source": [
    "**Description about `input` variable**\n",
    "* There are `1696` observations in this variable.\n",
    "* The `minimum` value of this variable is `-134.96`.\n",
    "* The `maximum` value of this variable is `134.60`.\n",
    "* The `mean` of this variable is `1.16`.\n",
    "* The `standard deviation` of this variable is `79.00`.\n",
    "* The `first quartile` of this variable is `-63.38`.\n",
    "* The `second quartile` of this variable is `10.20`.\n",
    "* The `third quartile` of this variable is `70.26`.\n",
    "\n",
    "**Description about `output` variable**\n",
    "* There are `1696` observations in this variable.\n",
    "* The `minimum` value of this variable is `-132.42`.\n",
    "* The `maximum` value of this variable is `134.42`.\n",
    "* The `mean` of this variable is `-34.08`.\n",
    "* The `standard deviation` of this variable is `65.77`.\n",
    "* The `first quartile` of this variable is `-80.02`.\n",
    "* The `second quartile` of this variable is `-50.47`.\n",
    "* The `third quartile` of this variable is `-11.00`."
   ]
  },
  {
   "cell_type": "code",
   "execution_count": 8,
   "metadata": {
    "colab": {
     "base_uri": "https://localhost:8080/"
    },
    "id": "aM2BVZ1EtIhM",
    "outputId": "d0f8bdd1-c5ed-471e-e984-f48f55c35ae0"
   },
   "outputs": [
    {
     "name": "stdout",
     "output_type": "stream",
     "text": [
      "<class 'pandas.core.frame.DataFrame'>\n",
      "Int64Index: 1696 entries, 0 to 1696\n",
      "Data columns (total 2 columns):\n",
      " #   Column  Non-Null Count  Dtype  \n",
      "---  ------  --------------  -----  \n",
      " 0   input   1696 non-null   float64\n",
      " 1   output  1696 non-null   float64\n",
      "dtypes: float64(2)\n",
      "memory usage: 39.8 KB\n"
     ]
    }
   ],
   "source": [
    "df.info()"
   ]
  },
  {
   "cell_type": "code",
   "execution_count": 10,
   "metadata": {
    "colab": {
     "base_uri": "https://localhost:8080/",
     "height": 791
    },
    "id": "q5wrnA9qvbDj",
    "outputId": "50fa4fc6-ca7d-4f11-cc6e-0b935ee59b6f"
   },
   "outputs": [
    {
     "data": {
      "image/png": "[encoded data removed]",
      "text/plain": [
       "<Figure size 1080x432 with 2 Axes>"
      ]
     },
     "metadata": {
      "needs_background": "light"
     },
     "output_type": "display_data"
    },
    {
     "data": {
      "image/png": "[encoded data removed]",
      "text/plain": [
       "<Figure size 1080x432 with 2 Axes>"
      ]
     },
     "metadata": {
      "needs_background": "light"
     },
     "output_type": "display_data"
    }
   ],
   "source": [
    "import scipy.stats as stats\n",
    "for i in df:\n",
    "    plt.figure(figsize=(15,6))\n",
    "    plt.subplot(121)\n",
    "    sns.histplot(data=df, x=i, kde=True, bins=30)\n",
    "    plt.title(\"{}'s distribution\".format(i),fontweight=\"bold\")\n",
    "    \n",
    "    plt.subplot(122)\n",
    "    stats.probplot(df[i], dist='norm', plot=plt)\n",
    "    plt.title(\"{}'s Q-Q Plot\".format(i),fontweight=\"bold\")\n",
    "    plt.show()"
   ]
  },
  {
   "cell_type": "code",
   "execution_count": 11,
   "metadata": {
    "colab": {
     "base_uri": "https://localhost:8080/",
     "height": 365
    },
    "id": "Fp65s2AovuOf",
    "outputId": "92234549-7e3a-459d-c12c-f9fc2471c017"
   },
   "outputs": [
    {
     "data": {
      "image/png": "[encoded data removed]",
      "text/plain": [
       "<Figure size 1440x2160 with 2 Axes>"
      ]
     },
     "metadata": {
      "needs_background": "light"
     },
     "output_type": "display_data"
    }
   ],
   "source": [
    "### Checking outliers \n",
    "\n",
    "plt.figure(figsize=(20,30))\n",
    "for i in enumerate(df):\n",
    "    plt.subplot(5, 2, i[0]+1)\n",
    "    sns.set(rc={'figure.figsize':(10,6)})\n",
    "    sns.boxplot(data=df, x=i[1], color='pink')\n",
    "    plt.title(\"{}\".format(i[1]), fontweight=\"bold\")"
   ]
  },
  {
   "cell_type": "markdown",
   "metadata": {
    "id": "ArxGyCsswJwF"
   },
   "source": [
    "According to above **boxplot** we can easily say that there is no outliers in **input** variable but **input** variable contains outliers."
   ]
  },
  {
   "cell_type": "code",
   "execution_count": 12,
   "metadata": {
    "colab": {
     "base_uri": "https://localhost:8080/",
     "height": 428
    },
    "id": "ZZQgu7oFwDOA",
    "outputId": "40d105c7-75d1-4b15-c4e7-d8bd35f295b8"
   },
   "outputs": [
    {
     "name": "stderr",
     "output_type": "stream",
     "text": [
      "/usr/local/lib/python3.8/dist-packages/seaborn/distributions.py:2619: FutureWarning: `distplot` is a deprecated function and will be removed in a future version. Please adapt your code to use either `displot` (a figure-level function with similar flexibility) or `histplot` (an axes-level function for histograms).\n",
      "  warnings.warn(msg, FutureWarning)\n",
      "/usr/local/lib/python3.8/dist-packages/seaborn/distributions.py:2619: FutureWarning: `distplot` is a deprecated function and will be removed in a future version. Please adapt your code to use either `displot` (a figure-level function with similar flexibility) or `histplot` (an axes-level function for histograms).\n",
      "  warnings.warn(msg, FutureWarning)\n"
     ]
    },
    {
     "data": {
      "image/png": "[encoded data removed]",
      "text/plain": [
       "<Figure size 1152x360 with 2 Axes>"
      ]
     },
     "metadata": {},
     "output_type": "display_data"
    }
   ],
   "source": [
    "plt.figure(figsize=(16,5))\n",
    "plt.subplot(1,2,1)\n",
    "sns.distplot(df['input'])\n",
    "plt.subplot(1,2,2)\n",
    "sns.distplot(df['output'])\n",
    "plt.show()"
   ]
  },
  {
   "cell_type": "code",
   "execution_count": 14,
   "metadata": {
    "id": "SysYW6C4yLzb"
   },
   "outputs": [],
   "source": [
    "upper_limit = df['output'].quantile(0.99)\n",
    "lower_limit = df['output'].quantile(0.01)"
   ]
  },
  {
   "cell_type": "code",
   "execution_count": 15,
   "metadata": {
    "id": "ijd5Oc4gydbC"
   },
   "outputs": [],
   "source": [
    "df['output'] = np.where(df['output'] >= upper_limit,\n",
    "        upper_limit,\n",
    "        np.where(df['output'] <= lower_limit,\n",
    "        lower_limit,\n",
    "        df['output']))\n"
   ]
  },
  {
   "cell_type": "code",
   "execution_count": 18,
   "metadata": {
    "colab": {
     "base_uri": "https://localhost:8080/",
     "height": 112
    },
    "id": "PySnA7l0zOKc",
    "outputId": "2b281870-3d44-48f3-9181-6c79c9a852c7"
   },
   "outputs": [
    {
     "data": {
      "text/html": [
       "\n",
       "  <div id=\"df-9ff42729-402e-4ef2-bd27-f5bba5bd7708\">\n",
       "    <div class=\"colab-df-container\">\n",
       "      <div>\n",
       "<style scoped>\n",
       "    .dataframe tbody tr th:only-of-type {\n",
       "        vertical-align: middle;\n",
       "    }\n",
       "\n",
       "    .dataframe tbody tr th {\n",
       "        vertical-align: top;\n",
       "    }\n",
       "\n",
       "    .dataframe thead th {\n",
       "        text-align: right;\n",
       "    }\n",
       "</style>\n",
       "<table border=\"1\" class=\"dataframe\">\n",
       "  <thead>\n",
       "    <tr style=\"text-align: right;\">\n",
       "      <th></th>\n",
       "      <th>input</th>\n",
       "      <th>output</th>\n",
       "    </tr>\n",
       "  </thead>\n",
       "  <tbody>\n",
       "    <tr>\n",
       "      <th>input</th>\n",
       "      <td>1.00</td>\n",
       "      <td>0.51</td>\n",
       "    </tr>\n",
       "    <tr>\n",
       "      <th>output</th>\n",
       "      <td>0.51</td>\n",
       "      <td>1.00</td>\n",
       "    </tr>\n",
       "  </tbody>\n",
       "</table>\n",
       "</div>\n",
       "      <button class=\"colab-df-convert\" onclick=\"convertToInteractive('df-9ff42729-402e-4ef2-bd27-f5bba5bd7708')\"\n",
       "              title=\"Convert this dataframe to an interactive table.\"\n",
       "              style=\"display:none;\">\n",
       "        \n",
       "  <svg xmlns=\"http://www.w3.org/2000/svg\" height=\"24px\"viewBox=\"0 0 24 24\"\n",
       "       width=\"24px\">\n",
       "    <path d=\"M0 0h24v24H0V0z\" fill=\"none\"/>\n",
       "    <path d=\"M18.56 5.44l.94 2.06.94-2.06 2.06-.94-2.06-.94-.94-2.06-.94 2.06-2.06.94zm-11 1L8.5 8.5l.94-2.06 2.06-.94-2.06-.94L8.5 2.5l-.94 2.06-2.06.94zm10 10l.94 2.06.94-2.06 2.06-.94-2.06-.94-.94-2.06-.94 2.06-2.06.94z\"/><path d=\"M17.41 7.96l-1.37-1.37c-.4-.4-.92-.59-1.43-.59-.52 0-1.04.2-1.43.59L10.3 9.45l-7.72 7.72c-.78.78-.78 2.05 0 2.83L4 21.41c.39.39.9.59 1.41.59.51 0 1.02-.2 1.41-.59l7.78-7.78 2.81-2.81c.8-.78.8-2.07 0-2.86zM5.41 20L4 18.59l7.72-7.72 1.47 1.35L5.41 20z\"/>\n",
       "  </svg>\n",
       "      </button>\n",
       "      \n",
       "  <style>\n",
       "    .colab-df-container {\n",
       "      display:flex;\n",
       "      flex-wrap:wrap;\n",
       "      gap: 12px;\n",
       "    }\n",
       "\n",
       "    .colab-df-convert {\n",
       "      background-color: #E8F0FE;\n",
       "      border: none;\n",
       "      border-radius: 50%;\n",
       "      cursor: pointer;\n",
       "      display: none;\n",
       "      fill: #1967D2;\n",
       "      height: 32px;\n",
       "      padding: 0 0 0 0;\n",
       "      width: 32px;\n",
       "    }\n",
       "\n",
       "    .colab-df-convert:hover {\n",
       "      background-color: #E2EBFA;\n",
       "      box-shadow: 0px 1px 2px rgba(60, 64, 67, 0.3), 0px 1px 3px 1px rgba(60, 64, 67, 0.15);\n",
       "      fill: #174EA6;\n",
       "    }\n",
       "\n",
       "    [theme=dark] .colab-df-convert {\n",
       "      background-color: #3B4455;\n",
       "      fill: #D2E3FC;\n",
       "    }\n",
       "\n",
       "    [theme=dark] .colab-df-convert:hover {\n",
       "      background-color: #434B5C;\n",
       "      box-shadow: 0px 1px 3px 1px rgba(0, 0, 0, 0.15);\n",
       "      filter: drop-shadow(0px 1px 2px rgba(0, 0, 0, 0.3));\n",
       "      fill: #FFFFFF;\n",
       "    }\n",
       "  </style>\n",
       "\n",
       "      <script>\n",
       "        const buttonEl =\n",
       "          document.querySelector('#df-9ff42729-402e-4ef2-bd27-f5bba5bd7708 button.colab-df-convert');\n",
       "        buttonEl.style.display =\n",
       "          google.colab.kernel.accessAllowed ? 'block' : 'none';\n",
       "\n",
       "        async function convertToInteractive(key) {\n",
       "          const element = document.querySelector('#df-9ff42729-402e-4ef2-bd27-f5bba5bd7708');\n",
       "          const dataTable =\n",
       "            await google.colab.kernel.invokeFunction('convertToInteractive',\n",
       "                                                     [key], {});\n",
       "          if (!dataTable) return;\n",
       "\n",
       "          const docLinkHtml = 'Like what you see? Visit the ' +\n",
       "            '<a target=\"_blank\" href=https://colab.research.google.com/notebooks/data_table.ipynb>data table notebook</a>'\n",
       "            + ' to learn more about interactive tables.';\n",
       "          element.innerHTML = '';\n",
       "          dataTable['output_type'] = 'display_data';\n",
       "          await google.colab.output.renderOutput(dataTable, element);\n",
       "          const docLink = document.createElement('div');\n",
       "          docLink.innerHTML = docLinkHtml;\n",
       "          element.appendChild(docLink);\n",
       "        }\n",
       "      </script>\n",
       "    </div>\n",
       "  </div>\n",
       "  "
      ],
      "text/plain": [
       "        input  output\n",
       "input    1.00    0.51\n",
       "output   0.51    1.00"
      ]
     },
     "execution_count": 18,
     "metadata": {},
     "output_type": "execute_result"
    }
   ],
   "source": [
    "corr=round(df.corr(),2)\n",
    "corr"
   ]
  },
  {
   "cell_type": "code",
   "execution_count": 19,
   "metadata": {
    "colab": {
     "base_uri": "https://localhost:8080/",
     "height": 615
    },
    "id": "CmbyAM8kziAQ",
    "outputId": "1dcef1b8-ef49-4cff-f2cd-741d076fcb9a"
   },
   "outputs": [
    {
     "data": {
      "text/plain": [
       "<matplotlib.axes._subplots.AxesSubplot at 0x7ffb690901c0>"
      ]
     },
     "execution_count": 19,
     "metadata": {},
     "output_type": "execute_result"
    },
    {
     "data": {
      "image/png": "[encoded data removed]",
      "text/plain": [
       "<Figure size 1080x720 with 2 Axes>"
      ]
     },
     "metadata": {},
     "output_type": "display_data"
    }
   ],
   "source": [
    "sns.set(rc={'figure.figsize':(15,10)})\n",
    "sns.heatmap(data=corr, annot=True,  vmin=-1, vmax=1, cmap=\"YlGnBu\")"
   ]
  },
  {
   "cell_type": "markdown",
   "metadata": {
    "id": "M7pKpwvB0Cfn"
   },
   "source": [
    "## **Model Fitting**"
   ]
  },
  {
   "cell_type": "code",
   "execution_count": 21,
   "metadata": {
    "id": "zzS4OMEmz5D5"
   },
   "outputs": [],
   "source": [
    "# To ignore warnings\n",
    "import warnings\n",
    "warnings.filterwarnings('ignore')\n",
    "\n",
    "# Machine Learning libraries\n",
    "import sklearn\n",
    "from sklearn.model_selection import train_test_split, GridSearchCV\n",
    "from sklearn.preprocessing import StandardScaler\n",
    "from sklearn.preprocessing import OneHotEncoder, StandardScaler\n",
    "from sklearn.compose import ColumnTransformer\n",
    "from sklearn.svm import SVR\n",
    "from sklearn.tree import DecisionTreeRegressor\n",
    "from sklearn.ensemble import RandomForestRegressor, BaggingRegressor, ExtraTreesRegressor, VotingRegressor, AdaBoostRegressor, GradientBoostingRegressor\n",
    "from xgboost import XGBRegressor\n",
    "from sklearn.linear_model import LinearRegression, Lasso, Ridge, ElasticNet\n",
    "from sklearn.metrics import r2_score, mean_absolute_error,mean_squared_error "
   ]
  },
  {
   "cell_type": "code",
   "execution_count": 23,
   "metadata": {
    "colab": {
     "base_uri": "https://localhost:8080/",
     "height": 206
    },
    "id": "cVMh8HZW0LJY",
    "outputId": "b4fe4ea0-a06c-4fcc-c549-cc934c8b437a"
   },
   "outputs": [
    {
     "data": {
      "text/html": [
       "\n",
       "  <div id=\"df-041e0b53-9545-4218-95f6-a373c76bd307\">\n",
       "    <div class=\"colab-df-container\">\n",
       "      <div>\n",
       "<style scoped>\n",
       "    .dataframe tbody tr th:only-of-type {\n",
       "        vertical-align: middle;\n",
       "    }\n",
       "\n",
       "    .dataframe tbody tr th {\n",
       "        vertical-align: top;\n",
       "    }\n",
       "\n",
       "    .dataframe thead th {\n",
       "        text-align: right;\n",
       "    }\n",
       "</style>\n",
       "<table border=\"1\" class=\"dataframe\">\n",
       "  <thead>\n",
       "    <tr style=\"text-align: right;\">\n",
       "      <th></th>\n",
       "      <th>input</th>\n",
       "    </tr>\n",
       "  </thead>\n",
       "  <tbody>\n",
       "    <tr>\n",
       "      <th>0</th>\n",
       "      <td>-122.740667</td>\n",
       "    </tr>\n",
       "    <tr>\n",
       "      <th>1</th>\n",
       "      <td>-121.531419</td>\n",
       "    </tr>\n",
       "    <tr>\n",
       "      <th>2</th>\n",
       "      <td>-134.917019</td>\n",
       "    </tr>\n",
       "    <tr>\n",
       "      <th>3</th>\n",
       "      <td>-120.605951</td>\n",
       "    </tr>\n",
       "    <tr>\n",
       "      <th>4</th>\n",
       "      <td>-129.894781</td>\n",
       "    </tr>\n",
       "  </tbody>\n",
       "</table>\n",
       "</div>\n",
       "      <button class=\"colab-df-convert\" onclick=\"convertToInteractive('df-041e0b53-9545-4218-95f6-a373c76bd307')\"\n",
       "              title=\"Convert this dataframe to an interactive table.\"\n",
       "              style=\"display:none;\">\n",
       "        \n",
       "  <svg xmlns=\"http://www.w3.org/2000/svg\" height=\"24px\"viewBox=\"0 0 24 24\"\n",
       "       width=\"24px\">\n",
       "    <path d=\"M0 0h24v24H0V0z\" fill=\"none\"/>\n",
       "    <path d=\"M18.56 5.44l.94 2.06.94-2.06 2.06-.94-2.06-.94-.94-2.06-.94 2.06-2.06.94zm-11 1L8.5 8.5l.94-2.06 2.06-.94-2.06-.94L8.5 2.5l-.94 2.06-2.06.94zm10 10l.94 2.06.94-2.06 2.06-.94-2.06-.94-.94-2.06-.94 2.06-2.06.94z\"/><path d=\"M17.41 7.96l-1.37-1.37c-.4-.4-.92-.59-1.43-.59-.52 0-1.04.2-1.43.59L10.3 9.45l-7.72 7.72c-.78.78-.78 2.05 0 2.83L4 21.41c.39.39.9.59 1.41.59.51 0 1.02-.2 1.41-.59l7.78-7.78 2.81-2.81c.8-.78.8-2.07 0-2.86zM5.41 20L4 18.59l7.72-7.72 1.47 1.35L5.41 20z\"/>\n",
       "  </svg>\n",
       "      </button>\n",
       "      \n",
       "  <style>\n",
       "    .colab-df-container {\n",
       "      display:flex;\n",
       "      flex-wrap:wrap;\n",
       "      gap: 12px;\n",
       "    }\n",
       "\n",
       "    .colab-df-convert {\n",
       "      background-color: #E8F0FE;\n",
       "      border: none;\n",
       "      border-radius: 50%;\n",
       "      cursor: pointer;\n",
       "      display: none;\n",
       "      fill: #1967D2;\n",
       "      height: 32px;\n",
       "      padding: 0 0 0 0;\n",
       "      width: 32px;\n",
       "    }\n",
       "\n",
       "    .colab-df-convert:hover {\n",
       "      background-color: #E2EBFA;\n",
       "      box-shadow: 0px 1px 2px rgba(60, 64, 67, 0.3), 0px 1px 3px 1px rgba(60, 64, 67, 0.15);\n",
       "      fill: #174EA6;\n",
       "    }\n",
       "\n",
       "    [theme=dark] .colab-df-convert {\n",
       "      background-color: #3B4455;\n",
       "      fill: #D2E3FC;\n",
       "    }\n",
       "\n",
       "    [theme=dark] .colab-df-convert:hover {\n",
       "      background-color: #434B5C;\n",
       "      box-shadow: 0px 1px 3px 1px rgba(0, 0, 0, 0.15);\n",
       "      filter: drop-shadow(0px 1px 2px rgba(0, 0, 0, 0.3));\n",
       "      fill: #FFFFFF;\n",
       "    }\n",
       "  </style>\n",
       "\n",
       "      <script>\n",
       "        const buttonEl =\n",
       "          document.querySelector('#df-041e0b53-9545-4218-95f6-a373c76bd307 button.colab-df-convert');\n",
       "        buttonEl.style.display =\n",
       "          google.colab.kernel.accessAllowed ? 'block' : 'none';\n",
       "\n",
       "        async function convertToInteractive(key) {\n",
       "          const element = document.querySelector('#df-041e0b53-9545-4218-95f6-a373c76bd307');\n",
       "          const dataTable =\n",
       "            await google.colab.kernel.invokeFunction('convertToInteractive',\n",
       "                                                     [key], {});\n",
       "          if (!dataTable) return;\n",
       "\n",
       "          const docLinkHtml = 'Like what you see? Visit the ' +\n",
       "            '<a target=\"_blank\" href=https://colab.research.google.com/notebooks/data_table.ipynb>data table notebook</a>'\n",
       "            + ' to learn more about interactive tables.';\n",
       "          element.innerHTML = '';\n",
       "          dataTable['output_type'] = 'display_data';\n",
       "          await google.colab.output.renderOutput(dataTable, element);\n",
       "          const docLink = document.createElement('div');\n",
       "          docLink.innerHTML = docLinkHtml;\n",
       "          element.appendChild(docLink);\n",
       "        }\n",
       "      </script>\n",
       "    </div>\n",
       "  </div>\n",
       "  "
      ],
      "text/plain": [
       "        input\n",
       "0 -122.740667\n",
       "1 -121.531419\n",
       "2 -134.917019\n",
       "3 -120.605951\n",
       "4 -129.894781"
      ]
     },
     "execution_count": 23,
     "metadata": {},
     "output_type": "execute_result"
    }
   ],
   "source": [
    "X= df.iloc[:,:-1]\n",
    "y= df.iloc[:,-1]\n",
    "X.head()"
   ]
  },
  {
   "cell_type": "code",
   "execution_count": 24,
   "metadata": {
    "colab": {
     "base_uri": "https://localhost:8080/"
    },
    "id": "Zf7LSa8U0dMC",
    "outputId": "e1dd2ec1-76cf-4fda-a272-4e05910e8bb1"
   },
   "outputs": [
    {
     "data": {
      "text/plain": [
       "0   -127.063611\n",
       "1   -127.063611\n",
       "2   -127.063611\n",
       "3   -125.760932\n",
       "4   -112.785214\n",
       "Name: output, dtype: float64"
      ]
     },
     "execution_count": 24,
     "metadata": {},
     "output_type": "execute_result"
    }
   ],
   "source": [
    "y.head()"
   ]
  },
  {
   "cell_type": "code",
   "execution_count": 25,
   "metadata": {
    "id": "f0QpKLwe0hpG"
   },
   "outputs": [],
   "source": [
    "# random state train test split will be same with all people using random_state=19\n",
    "\n",
    "X_train, X_test, y_train, y_test = train_test_split(X, y, test_size=0.25, random_state=19)"
   ]
  },
  {
   "cell_type": "code",
   "execution_count": 26,
   "metadata": {
    "colab": {
     "base_uri": "https://localhost:8080/"
    },
    "id": "yLMgmuqT0o4I",
    "outputId": "2a10bde0-6f28-4015-c6f3-77937010a278"
   },
   "outputs": [
    {
     "data": {
      "text/plain": [
       "((1272, 1), (1272,))"
      ]
     },
     "execution_count": 26,
     "metadata": {},
     "output_type": "execute_result"
    }
   ],
   "source": [
    "# both will have same shape\n",
    "X_train.shape, y_train.shape"
   ]
  },
  {
   "cell_type": "code",
   "execution_count": 27,
   "metadata": {
    "colab": {
     "base_uri": "https://localhost:8080/"
    },
    "id": "DJgGs2xJ0t5-",
    "outputId": "a43db0b3-5d2e-4060-cba7-b37f3f907254"
   },
   "outputs": [
    {
     "data": {
      "text/plain": [
       "((424, 1), (424,))"
      ]
     },
     "execution_count": 27,
     "metadata": {},
     "output_type": "execute_result"
    }
   ],
   "source": [
    "# both will have same shape\n",
    "X_test.shape, y_test.shape"
   ]
  },
  {
   "cell_type": "markdown",
   "metadata": {
    "id": "fTABstga03jU"
   },
   "source": [
    "### **Feature Scaling**"
   ]
  },
  {
   "cell_type": "code",
   "execution_count": 28,
   "metadata": {
    "colab": {
     "base_uri": "https://localhost:8080/"
    },
    "id": "iBLbCYjh0xEW",
    "outputId": "d1437508-0d56-4222-be71-8789cc8ca894"
   },
   "outputs": [
    {
     "data": {
      "text/plain": [
       "StandardScaler()"
      ]
     },
     "execution_count": 28,
     "metadata": {},
     "output_type": "execute_result"
    }
   ],
   "source": [
    "scaler= StandardScaler()\n",
    "scaler"
   ]
  },
  {
   "cell_type": "code",
   "execution_count": 29,
   "metadata": {
    "colab": {
     "base_uri": "https://localhost:8080/"
    },
    "id": "FvXSOYi40816",
    "outputId": "06f6597c-60f0-4d61-a1cc-61d3beac6668"
   },
   "outputs": [
    {
     "data": {
      "text/plain": [
       "array([[ 1.11192513],\n",
       "       [ 0.9387124 ],\n",
       "       [-1.32067249],\n",
       "       ...,\n",
       "       [-1.00823222],\n",
       "       [ 0.35708158],\n",
       "       [ 0.25556206]])"
      ]
     },
     "execution_count": 29,
     "metadata": {},
     "output_type": "execute_result"
    }
   ],
   "source": [
    "X_train= scaler.fit_transform(X_train)\n",
    "X_train"
   ]
  },
  {
   "cell_type": "code",
   "execution_count": 30,
   "metadata": {
    "colab": {
     "base_uri": "https://localhost:8080/"
    },
    "id": "gc0sVLpm0_M3",
    "outputId": "63dbc921-7fb4-4949-b9fb-4d454c367160"
   },
   "outputs": [
    {
     "data": {
      "text/plain": [
       "array([[-1.37246002],\n",
       "       [ 0.1923074 ],\n",
       "       [-1.3010481 ],\n",
       "       [-0.78937707],\n",
       "       [ 1.19062243],\n",
       "       [-1.57882311],\n",
       "       [ 0.12422099],\n",
       "       [-0.29087106],\n",
       "       [ 1.3424972 ],\n",
       "       [-1.42662834],\n",
       "       [-0.81976718],\n",
       "       [ 1.09710621],\n",
       "       [ 0.90585904],\n",
       "       [-1.41298505],\n",
       "       [-0.32436109],\n",
       "       [-0.64265412],\n",
       "       [ 0.69583386],\n",
       "       [ 1.4067969 ],\n",
       "       [ 0.13379486],\n",
       "       [ 0.98931613],\n",
       "       [ 0.29219071],\n",
       "       [ 0.56313313],\n",
       "       [-1.39762861],\n",
       "       [ 0.4705315 ],\n",
       "       [ 0.37521618],\n",
       "       [ 0.42002418],\n",
       "       [ 1.08215084],\n",
       "       [-1.39434441],\n",
       "       [-0.43334704],\n",
       "       [ 0.96615198],\n",
       "       [ 0.31840698],\n",
       "       [-0.91740566],\n",
       "       [-0.01010751],\n",
       "       [ 0.2302602 ],\n",
       "       [ 1.69104036],\n",
       "       [ 0.52506085],\n",
       "       [ 1.24233478],\n",
       "       [ 1.0591795 ],\n",
       "       [ 0.71247668],\n",
       "       [-1.41436099],\n",
       "       [ 1.31406247],\n",
       "       [-0.76432286],\n",
       "       [-0.58979942],\n",
       "       [-0.77159528],\n",
       "       [ 1.68943862],\n",
       "       [ 0.98698613],\n",
       "       [ 1.28835132],\n",
       "       [-0.05841454],\n",
       "       [ 1.47715045],\n",
       "       [ 1.05422655],\n",
       "       [-0.26981783],\n",
       "       [-1.52616989],\n",
       "       [-1.53180889],\n",
       "       [ 1.02726893],\n",
       "       [ 0.73090081],\n",
       "       [ 0.0490493 ],\n",
       "       [-0.02528412],\n",
       "       [-0.15160214],\n",
       "       [ 0.0613432 ],\n",
       "       [ 0.75569259],\n",
       "       [ 0.07991533],\n",
       "       [ 0.97616951],\n",
       "       [ 1.5761706 ],\n",
       "       [-0.47058243],\n",
       "       [-1.02728884],\n",
       "       [ 0.55454713],\n",
       "       [-0.6366706 ],\n",
       "       [-0.05537543],\n",
       "       [ 0.12897086],\n",
       "       [ 1.42583447],\n",
       "       [-0.96910019],\n",
       "       [ 0.67304283],\n",
       "       [-1.59490208],\n",
       "       [ 0.41067127],\n",
       "       [-1.25427464],\n",
       "       [ 0.95835174],\n",
       "       [ 1.17908012],\n",
       "       [ 0.47059328],\n",
       "       [ 0.70793553],\n",
       "       [-0.18109044],\n",
       "       [-1.4739598 ],\n",
       "       [ 1.35987691],\n",
       "       [-0.77159528],\n",
       "       [-1.43455775],\n",
       "       [ 1.19173105],\n",
       "       [ 0.13232477],\n",
       "       [ 0.1385268 ],\n",
       "       [ 1.1957203 ],\n",
       "       [-1.51017008],\n",
       "       [-1.69320423],\n",
       "       [ 1.31803145],\n",
       "       [-0.43956506],\n",
       "       [-0.01173119],\n",
       "       [ 0.04049622],\n",
       "       [ 1.00892399],\n",
       "       [-0.7619781 ],\n",
       "       [ 0.11597269],\n",
       "       [ 1.36302265],\n",
       "       [-1.50291752],\n",
       "       [-1.68003057],\n",
       "       [-0.23401262],\n",
       "       [-0.66795599],\n",
       "       [ 0.58056701],\n",
       "       [-1.54948507],\n",
       "       [ 0.92606147],\n",
       "       [-0.79446531],\n",
       "       [-1.16089016],\n",
       "       [ 1.55860808],\n",
       "       [-1.41436099],\n",
       "       [-1.7002236 ],\n",
       "       [-0.4488328 ],\n",
       "       [-0.25047523],\n",
       "       [-1.42633438],\n",
       "       [ 0.6603919 ],\n",
       "       [-0.26214568],\n",
       "       [-0.32894011],\n",
       "       [-0.75378605],\n",
       "       [ 1.33648642],\n",
       "       [ 0.9766652 ],\n",
       "       [ 1.4067969 ],\n",
       "       [-1.17247541],\n",
       "       [ 0.05314715],\n",
       "       [-1.3171426 ],\n",
       "       [ 1.43209876],\n",
       "       [ 0.34548112],\n",
       "       [ 1.07966799],\n",
       "       [ 0.52800774],\n",
       "       [ 0.05310158],\n",
       "       [ 1.09748289],\n",
       "       [-1.60412497],\n",
       "       [-0.66138043],\n",
       "       [-1.28318059],\n",
       "       [-0.05841454],\n",
       "       [ 0.02956487],\n",
       "       [ 1.43429302],\n",
       "       [ 0.16483049],\n",
       "       [ 0.62614117],\n",
       "       [-1.68003057],\n",
       "       [ 0.30616579],\n",
       "       [-1.03189974],\n",
       "       [-1.41298505],\n",
       "       [-0.24646888],\n",
       "       [ 0.66025455],\n",
       "       [ 0.78109745],\n",
       "       [ 0.48402835],\n",
       "       [ 1.58390995],\n",
       "       [ 1.58390995],\n",
       "       [-1.38368863],\n",
       "       [ 0.34487057],\n",
       "       [-0.98422929],\n",
       "       [-1.56617218],\n",
       "       [ 1.05076013],\n",
       "       [ 1.12847639],\n",
       "       [ 0.13372543],\n",
       "       [-1.16491731],\n",
       "       [-0.19174227],\n",
       "       [ 1.26634012],\n",
       "       [-0.60685217],\n",
       "       [ 0.55608063],\n",
       "       [-0.35168268],\n",
       "       [ 1.15377825],\n",
       "       [-1.29547746],\n",
       "       [-0.34314988],\n",
       "       [ 0.08442049],\n",
       "       [ 0.80123936],\n",
       "       [ 0.15434938],\n",
       "       [ 0.96119274],\n",
       "       [ 1.42309678],\n",
       "       [ 0.1668847 ],\n",
       "       [-0.9587576 ],\n",
       "       [ 0.14461901],\n",
       "       [-0.5461672 ],\n",
       "       [ 0.20495833],\n",
       "       [ 1.45740063],\n",
       "       [-1.47751804],\n",
       "       [ 0.85335527],\n",
       "       [ 0.76805971],\n",
       "       [ 0.31881673],\n",
       "       [ 1.06522173],\n",
       "       [ 0.34487057],\n",
       "       [-1.45106556],\n",
       "       [-0.75651251],\n",
       "       [ 0.95136334],\n",
       "       [ 0.75252555],\n",
       "       [-0.36991356],\n",
       "       [ 1.42303622],\n",
       "       [ 1.24962088],\n",
       "       [ 0.57183537],\n",
       "       [-0.21512623],\n",
       "       [ 0.76805971],\n",
       "       [ 0.48402835],\n",
       "       [ 1.31824037],\n",
       "       [ 0.06579808],\n",
       "       [ 0.49215321],\n",
       "       [ 1.08556264],\n",
       "       [-0.1485151 ],\n",
       "       [ 0.98266423],\n",
       "       [-0.8703709 ],\n",
       "       [ 0.87545774],\n",
       "       [ 1.19465338],\n",
       "       [-0.23350754],\n",
       "       [ 0.96885699],\n",
       "       [ 0.40084489],\n",
       "       [ 0.22592741],\n",
       "       [-0.63674868],\n",
       "       [-1.51381151],\n",
       "       [ 1.60446086],\n",
       "       [-0.96131305],\n",
       "       [ 0.16700554],\n",
       "       [ 1.06579729],\n",
       "       [ 0.30616579],\n",
       "       [ 0.08026516],\n",
       "       [-1.38905913],\n",
       "       [-0.60685217],\n",
       "       [-0.31383435],\n",
       "       [ 0.16700554],\n",
       "       [ 0.42111957],\n",
       "       [ 1.53274797],\n",
       "       [-1.49362735],\n",
       "       [-1.45231379],\n",
       "       [-1.25427464],\n",
       "       [ 0.59099106],\n",
       "       [-0.62235094],\n",
       "       [-0.26981783],\n",
       "       [ 1.19173105],\n",
       "       [-0.09300989],\n",
       "       [ 0.1923074 ],\n",
       "       [ 0.24291113],\n",
       "       [ 1.53330622],\n",
       "       [ 0.89866379],\n",
       "       [-0.98214753],\n",
       "       [ 0.0860349 ],\n",
       "       [ 1.15221918],\n",
       "       [ 1.414415  ],\n",
       "       [ 0.84601855],\n",
       "       [ 1.28343166],\n",
       "       [-0.2740524 ],\n",
       "       [ 1.09082156],\n",
       "       [ 0.11597269],\n",
       "       [-1.51556845],\n",
       "       [-1.47568051],\n",
       "       [-0.38963548],\n",
       "       [-1.52434253],\n",
       "       [ 0.97185576],\n",
       "       [ 1.24874962],\n",
       "       [ 1.26390159],\n",
       "       [-0.89567277],\n",
       "       [ 1.53330622],\n",
       "       [-1.31998326],\n",
       "       [ 0.73856687],\n",
       "       [ 1.10317452],\n",
       "       [-1.48068673],\n",
       "       [ 1.0552074 ],\n",
       "       [-0.01020372],\n",
       "       [-1.54560174],\n",
       "       [ 1.28343166],\n",
       "       [ 0.17954417],\n",
       "       [ 1.58510625],\n",
       "       [-1.54560174],\n",
       "       [-1.18591639],\n",
       "       [ 0.60978817],\n",
       "       [ 1.180305  ],\n",
       "       [-1.51035081],\n",
       "       [ 0.09184054],\n",
       "       [ 0.29270258],\n",
       "       [-1.47698628],\n",
       "       [ 0.24291113],\n",
       "       [-1.59147404],\n",
       "       [-0.07546344],\n",
       "       [ 1.30558944],\n",
       "       [ 0.70899615],\n",
       "       [ 1.4312593 ],\n",
       "       [-0.2007262 ],\n",
       "       [-0.14194745],\n",
       "       [-0.96679945],\n",
       "       [-0.30107895],\n",
       "       [ 0.52524829],\n",
       "       [-1.56617218],\n",
       "       [ 0.14136974],\n",
       "       [ 0.39774302],\n",
       "       [-0.03977814],\n",
       "       [-1.32754994],\n",
       "       [-0.61627673],\n",
       "       [ 0.02094309],\n",
       "       [ 0.93658757],\n",
       "       [ 0.47254379],\n",
       "       [ 0.46692483],\n",
       "       [-0.41035096],\n",
       "       [ 1.20680399],\n",
       "       [-1.47761565],\n",
       "       [-0.86984009],\n",
       "       [ 1.18219599],\n",
       "       [ 1.34469268],\n",
       "       [ 0.24433374],\n",
       "       [ 1.40101886],\n",
       "       [ 1.43264409],\n",
       "       [-1.58359192],\n",
       "       [ 0.42111957],\n",
       "       [ 0.19208534],\n",
       "       [ 0.1507606 ],\n",
       "       [ 1.3308913 ],\n",
       "       [ 1.56667103],\n",
       "       [-1.6407568 ],\n",
       "       [-0.9587576 ],\n",
       "       [ 0.83478227],\n",
       "       [ 0.92606147],\n",
       "       [-1.64295168],\n",
       "       [ 0.1507606 ],\n",
       "       [ 0.99804092],\n",
       "       [ 0.385208  ],\n",
       "       [ 1.20438198],\n",
       "       [ 1.55079131],\n",
       "       [ 0.50858071],\n",
       "       [-0.21753245],\n",
       "       [-1.33633663],\n",
       "       [ 0.42116976],\n",
       "       [ 0.74583095],\n",
       "       [-0.79446531],\n",
       "       [ 1.3581639 ],\n",
       "       [-1.29957184],\n",
       "       [-1.3005026 ],\n",
       "       [ 1.37405419],\n",
       "       [-0.11163501],\n",
       "       [-1.03156722],\n",
       "       [ 0.6681592 ],\n",
       "       [-1.36543947],\n",
       "       [-0.06088205],\n",
       "       [-0.40523514],\n",
       "       [ 0.49215321],\n",
       "       [-0.08879715],\n",
       "       [-1.4414591 ],\n",
       "       [-1.49975394],\n",
       "       [ 0.15434938],\n",
       "       [-0.52905519],\n",
       "       [ 1.15616854],\n",
       "       [ 0.52735337],\n",
       "       [-0.4230078 ],\n",
       "       [ 0.79889162],\n",
       "       [-0.18034385],\n",
       "       [-1.50490932],\n",
       "       [ 1.58400715],\n",
       "       [ 0.23217331],\n",
       "       [ 0.43335794],\n",
       "       [-1.59490208],\n",
       "       [ 0.35638993],\n",
       "       [ 1.43209876],\n",
       "       [ 0.32864463],\n",
       "       [-0.11131497],\n",
       "       [ 0.51022411],\n",
       "       [ 1.43209876],\n",
       "       [ 0.82499229],\n",
       "       [ 1.48270249],\n",
       "       [ 0.82937548],\n",
       "       [-0.5058407 ],\n",
       "       [-0.32436109],\n",
       "       [-1.52616989],\n",
       "       [ 0.64632263],\n",
       "       [-1.57882311],\n",
       "       [ 0.96615198],\n",
       "       [ 1.05422655],\n",
       "       [ 1.55860808],\n",
       "       [ 1.56111924],\n",
       "       [ 0.40084489],\n",
       "       [ 0.74894842],\n",
       "       [-1.38500644],\n",
       "       [-0.54532528],\n",
       "       [ 1.45740063],\n",
       "       [-1.38500644],\n",
       "       [-0.08572645],\n",
       "       [ 1.15377825],\n",
       "       [-0.48888954],\n",
       "       [ 1.27522719],\n",
       "       [ 0.24291113],\n",
       "       [ 1.04406281],\n",
       "       [-1.35110633],\n",
       "       [-0.02528412],\n",
       "       [ 1.05257079],\n",
       "       [ 1.29293851],\n",
       "       [-1.51558827],\n",
       "       [-0.14162782],\n",
       "       [ 0.57183537],\n",
       "       [ 1.67596128],\n",
       "       [ 0.07844901],\n",
       "       [-1.37246002],\n",
       "       [-0.62349713],\n",
       "       [-0.23326954],\n",
       "       [ 1.44474969],\n",
       "       [ 0.77203494],\n",
       "       [-1.6547287 ],\n",
       "       [ 0.20631316],\n",
       "       [ 1.38721297],\n",
       "       [ 0.47171347],\n",
       "       [ 1.18196534],\n",
       "       [-1.45099769],\n",
       "       [-0.60470133],\n",
       "       [-0.43956506],\n",
       "       [ 0.2240861 ],\n",
       "       [-1.45231379],\n",
       "       [ 1.51295738],\n",
       "       [ 0.68927798],\n",
       "       [-1.45546487],\n",
       "       [ 1.12370484],\n",
       "       [ 1.1957203 ],\n",
       "       [ 0.47062791],\n",
       "       [-0.79446531],\n",
       "       [ 1.21709817],\n",
       "       [ 0.93658757],\n",
       "       [ 0.28004858],\n",
       "       [ 1.50800435],\n",
       "       [-1.33500106],\n",
       "       [ 0.90054313],\n",
       "       [ 0.268213  ],\n",
       "       [ 0.14253779],\n",
       "       [ 0.47254379],\n",
       "       [-0.44588481],\n",
       "       [-1.52120458],\n",
       "       [-1.28318059],\n",
       "       [-0.57823289],\n",
       "       [ 0.64372912],\n",
       "       [-1.55358678],\n",
       "       [ 0.0860349 ],\n",
       "       [-1.4256306 ],\n",
       "       [ 1.60843163],\n",
       "       [ 0.83848755]])"
      ]
     },
     "execution_count": 30,
     "metadata": {},
     "output_type": "execute_result"
    }
   ],
   "source": [
    "X_test= scaler.transform(X_test)\n",
    "X_test"
   ]
  },
  {
   "cell_type": "markdown",
   "metadata": {
    "id": "GKK6H5411D_z"
   },
   "source": [
    "### **Model Training & Performance**"
   ]
  },
  {
   "cell_type": "code",
   "execution_count": 31,
   "metadata": {
    "id": "jFc_0GnU1Bvl"
   },
   "outputs": [],
   "source": [
    "# Creating function that will evaluate model\n",
    "def model_evaluator(actual_val, pred_val, X_test_val):\n",
    "    \"\"\"\n",
    "    The function takes actual value, predicted value and X test value as \n",
    "    argument and returns Mean square error, Mean absolute error, Root \n",
    "    mean square error, r2 score and adjusted r2 score rounded to 3 decimal \n",
    "    places.\n",
    "    \"\"\"\n",
    "    mse= round(mean_squared_error(actual_val, pred_val),3)\n",
    "    mae= round(mean_absolute_error(actual_val, pred_val),3)\n",
    "    rmse= round(np.sqrt(mean_squared_error(actual_val, pred_val)),3)\n",
    "    r2_sco= round(r2_score(actual_val, pred_val),4)\n",
    "    adj_r2_sco= round(1-(1-r2_sco)*(len(actual_val)-1)/(len(actual_val)-X_test.shape[1]-1),4)\n",
    "    return mse, mae, rmse, r2_sco, adj_r2_sco"
   ]
  },
  {
   "cell_type": "code",
   "execution_count": 32,
   "metadata": {
    "id": "4PYWpyWP1O8t"
   },
   "outputs": [],
   "source": [
    "# creating dictionary containing model objects for different algorithmn\n",
    "models={\n",
    "    \"Linear Regression\":LinearRegression(),\n",
    "    \"Ridge Regression\":Ridge(),\n",
    "    \"Lasso Regresion\":Lasso(),\n",
    "    \"Elastic-Net Regression\":ElasticNet(),\n",
    "    \"Support Vector Regressor\":SVR(),\n",
    "    \"Decision Tree Regressor\":DecisionTreeRegressor(),\n",
    "    \"Random Forest Regressor\":RandomForestRegressor(),\n",
    "    \"Bagging Regressor\": BaggingRegressor(base_estimator=LinearRegression()),\n",
    "    \"Extra Tree Regressor\": ExtraTreesRegressor(), \n",
    "    \"AdaBoost Regressor\": AdaBoostRegressor(),\n",
    "    \"GradientBoost Regressor\": GradientBoostingRegressor(),\n",
    "    \"XGBoost Regressor\": XGBRegressor()\n",
    "    \n",
    "}"
   ]
  },
  {
   "cell_type": "code",
   "execution_count": 33,
   "metadata": {
    "id": "yAfEzjnf1WXI"
   },
   "outputs": [],
   "source": [
    "# Creating function for model training\n",
    "def model_trainer(model, X_train_data, y_train_data, X_test_data):\n",
    "    \"\"\"\n",
    "    This function takes model object, X train data, y train data, and \n",
    "    X test data as argument, trains model and gives prediction for train data \n",
    "    and prediction for test data.\n",
    "    \"\"\"\n",
    "    model.fit(X_train_data, y_train_data)\n",
    "    y_train_pred=model.predict(X_train_data)\n",
    "    pred_val=model.predict(X_test_data)\n",
    "    return y_train_pred, pred_val"
   ]
  },
  {
   "cell_type": "code",
   "execution_count": 34,
   "metadata": {
    "id": "jpX5xdx21Ycs"
   },
   "outputs": [],
   "source": [
    "# Creating empty list to store model names\n",
    "model_list=[]\n",
    "\n",
    "# creating empty list to store r2 score for each model\n",
    "r2_score_list=[]\n",
    "\n",
    "# creating empty list for storing adjusted r2 score\n",
    "adj_r2_score=[]\n",
    "\n",
    "# creating list to store mse\n",
    "mse_list=[]\n",
    "\n",
    "# creating list to store mae\n",
    "mae_list=[]\n",
    "\n",
    "# creating list to store rmse\n",
    "rmse_list=[]"
   ]
  },
  {
   "cell_type": "code",
   "execution_count": 35,
   "metadata": {
    "colab": {
     "base_uri": "https://localhost:8080/"
    },
    "id": "jix1LC-s1aTN",
    "outputId": "673a4695-ac13-4f1a-f376-647f3caa7fa2"
   },
   "outputs": [
    {
     "name": "stdout",
     "output_type": "stream",
     "text": [
      "Linear Regression Model\n",
      "\n",
      "Model Performance for training dataset\n",
      "Mean Square Error: 3087.874\n",
      "Mean Absolute Error: 41.81\n",
      "Root Mean Square Error: 55.569\n",
      "R2 Score: 0.2575\n",
      "Adjusted R2 Score: 0.2569\n",
      "--------------------------------------------------\n",
      "Model Performance for Test dataset\n",
      "Mean Square Error: 3484.475\n",
      "Mean Absolute Error: 44.21\n",
      "Root Mean Square Error: 59.029\n",
      "R2 Score: 0.2677\n",
      "Adjusted R2 Score: 0.266\n",
      "**************************************************\n",
      "\n",
      "\n",
      "Ridge Regression Model\n",
      "\n",
      "Model Performance for training dataset\n",
      "Mean Square Error: 3087.874\n",
      "Mean Absolute Error: 41.809\n",
      "Root Mean Square Error: 55.569\n",
      "R2 Score: 0.2575\n",
      "Adjusted R2 Score: 0.2569\n",
      "--------------------------------------------------\n",
      "Model Performance for Test dataset\n",
      "Mean Square Error: 3484.664\n",
      "Mean Absolute Error: 44.211\n",
      "Root Mean Square Error: 59.031\n",
      "R2 Score: 0.2676\n",
      "Adjusted R2 Score: 0.2659\n",
      "**************************************************\n",
      "\n",
      "\n",
      "Lasso Regresion Model\n",
      "\n",
      "Model Performance for training dataset\n",
      "Mean Square Error: 3088.874\n",
      "Mean Absolute Error: 41.774\n",
      "Root Mean Square Error: 55.578\n",
      "R2 Score: 0.2572\n",
      "Adjusted R2 Score: 0.2566\n",
      "--------------------------------------------------\n",
      "Model Performance for Test dataset\n",
      "Mean Square Error: 3492.786\n",
      "Mean Absolute Error: 44.27\n",
      "Root Mean Square Error: 59.1\n",
      "R2 Score: 0.2659\n",
      "Adjusted R2 Score: 0.2642\n",
      "**************************************************\n",
      "\n",
      "\n",
      "Elastic-Net Regression Model\n",
      "\n",
      "Model Performance for training dataset\n",
      "Mean Square Error: 3214.229\n",
      "Mean Absolute Error: 42.408\n",
      "Root Mean Square Error: 56.694\n",
      "R2 Score: 0.2271\n",
      "Adjusted R2 Score: 0.2265\n",
      "--------------------------------------------------\n",
      "Model Performance for Test dataset\n",
      "Mean Square Error: 3692.497\n",
      "Mean Absolute Error: 45.803\n",
      "Root Mean Square Error: 60.766\n",
      "R2 Score: 0.2239\n",
      "Adjusted R2 Score: 0.2221\n",
      "**************************************************\n",
      "\n",
      "\n",
      "Support Vector Regressor Model\n",
      "\n",
      "Model Performance for training dataset\n",
      "Mean Square Error: 1469.798\n",
      "Mean Absolute Error: 22.773\n",
      "Root Mean Square Error: 38.338\n",
      "R2 Score: 0.6466\n",
      "Adjusted R2 Score: 0.6463\n",
      "--------------------------------------------------\n",
      "Model Performance for Test dataset\n",
      "Mean Square Error: 1695.538\n",
      "Mean Absolute Error: 25.256\n",
      "Root Mean Square Error: 41.177\n",
      "R2 Score: 0.6436\n",
      "Adjusted R2 Score: 0.6428\n",
      "**************************************************\n",
      "\n",
      "\n",
      "Decision Tree Regressor Model\n",
      "\n",
      "Model Performance for training dataset\n",
      "Mean Square Error: 93.647\n",
      "Mean Absolute Error: 1.506\n",
      "Root Mean Square Error: 9.677\n",
      "R2 Score: 0.9775\n",
      "Adjusted R2 Score: 0.9775\n",
      "--------------------------------------------------\n",
      "Model Performance for Test dataset\n",
      "Mean Square Error: 1881.598\n",
      "Mean Absolute Error: 18.16\n",
      "Root Mean Square Error: 43.377\n",
      "R2 Score: 0.6045\n",
      "Adjusted R2 Score: 0.6036\n",
      "**************************************************\n",
      "\n",
      "\n",
      "Random Forest Regressor Model\n",
      "\n",
      "Model Performance for training dataset\n",
      "Mean Square Error: 229.869\n",
      "Mean Absolute Error: 7.246\n",
      "Root Mean Square Error: 15.161\n",
      "R2 Score: 0.9447\n",
      "Adjusted R2 Score: 0.9447\n",
      "--------------------------------------------------\n",
      "Model Performance for Test dataset\n",
      "Mean Square Error: 1847.324\n",
      "Mean Absolute Error: 21.207\n",
      "Root Mean Square Error: 42.981\n",
      "R2 Score: 0.6117\n",
      "Adjusted R2 Score: 0.6108\n",
      "**************************************************\n",
      "\n",
      "\n",
      "Bagging Regressor Model\n",
      "\n",
      "Model Performance for training dataset\n",
      "Mean Square Error: 3088.201\n",
      "Mean Absolute Error: 41.812\n",
      "Root Mean Square Error: 55.572\n",
      "R2 Score: 0.2574\n",
      "Adjusted R2 Score: 0.2568\n",
      "--------------------------------------------------\n",
      "Model Performance for Test dataset\n",
      "Mean Square Error: 3482.651\n",
      "Mean Absolute Error: 44.156\n",
      "Root Mean Square Error: 59.014\n",
      "R2 Score: 0.268\n",
      "Adjusted R2 Score: 0.2663\n",
      "**************************************************\n",
      "\n",
      "\n",
      "Extra Tree Regressor Model\n",
      "\n",
      "Model Performance for training dataset\n",
      "Mean Square Error: 93.647\n",
      "Mean Absolute Error: 1.506\n",
      "Root Mean Square Error: 9.677\n",
      "R2 Score: 0.9775\n",
      "Adjusted R2 Score: 0.9775\n",
      "--------------------------------------------------\n",
      "Model Performance for Test dataset\n",
      "Mean Square Error: 1846.459\n",
      "Mean Absolute Error: 17.713\n",
      "Root Mean Square Error: 42.97\n",
      "R2 Score: 0.6119\n",
      "Adjusted R2 Score: 0.611\n",
      "**************************************************\n",
      "\n",
      "\n",
      "AdaBoost Regressor Model\n",
      "\n",
      "Model Performance for training dataset\n",
      "Mean Square Error: 1377.605\n",
      "Mean Absolute Error: 26.373\n",
      "Root Mean Square Error: 37.116\n",
      "R2 Score: 0.6687\n",
      "Adjusted R2 Score: 0.6684\n",
      "--------------------------------------------------\n",
      "Model Performance for Test dataset\n",
      "Mean Square Error: 1655.545\n",
      "Mean Absolute Error: 28.092\n",
      "Root Mean Square Error: 40.688\n",
      "R2 Score: 0.652\n",
      "Adjusted R2 Score: 0.6512\n",
      "**************************************************\n",
      "\n",
      "\n",
      "GradientBoost Regressor Model\n",
      "\n",
      "Model Performance for training dataset\n",
      "Mean Square Error: 625.791\n",
      "Mean Absolute Error: 15.985\n",
      "Root Mean Square Error: 25.016\n",
      "R2 Score: 0.8495\n",
      "Adjusted R2 Score: 0.8494\n",
      "--------------------------------------------------\n",
      "Model Performance for Test dataset\n",
      "Mean Square Error: 1596.724\n",
      "Mean Absolute Error: 22.424\n",
      "Root Mean Square Error: 39.959\n",
      "R2 Score: 0.6644\n",
      "Adjusted R2 Score: 0.6636\n",
      "**************************************************\n",
      "\n",
      "\n",
      "[09:37:09] WARNING: /workspace/src/objective/regression_obj.cu:152: reg:linear is now deprecated in favor of reg:squarederror.\n",
      "XGBoost Regressor Model\n",
      "\n",
      "Model Performance for training dataset\n",
      "Mean Square Error: 695.862\n",
      "Mean Absolute Error: 16.699\n",
      "Root Mean Square Error: 26.379\n",
      "R2 Score: 0.8327\n",
      "Adjusted R2 Score: 0.8326\n",
      "--------------------------------------------------\n",
      "Model Performance for Test dataset\n",
      "Mean Square Error: 1577.694\n",
      "Mean Absolute Error: 22.627\n",
      "Root Mean Square Error: 39.72\n",
      "R2 Score: 0.6684\n",
      "Adjusted R2 Score: 0.6676\n",
      "**************************************************\n",
      "\n",
      "\n"
     ]
    }
   ],
   "source": [
    "# Training all models and getting their performance and storing it in empty list\n",
    "for num in range(len(list(models))):\n",
    "    # selecting model\n",
    "    model=list(models.values())[num]\n",
    "    \n",
    "    # getting training data prediction and test data prediction\n",
    "    y_pred, pred_val=model_trainer(model,X_train, y_train, X_test)\n",
    "    \n",
    "    # Getting model performance parameters for training data\n",
    "    mse, mae, rmse, r2_sco, adj_r2_sco=model_evaluator(y_train,y_pred,X_train )\n",
    "    print(\"{} Model\\n\".format(list(models.keys())[num]))\n",
    "    print(\"Model Performance for training dataset\")\n",
    "    print(\"Mean Square Error: {}\\nMean Absolute Error: {}\\nRoot Mean Square Error: {}\\nR2 Score: {}\\nAdjusted R2 Score: {}\".format(mse,mae, rmse, r2_sco, adj_r2_sco))\n",
    "    print(\"-\"*50)\n",
    "    \n",
    "    # Getting model performance parameters for test data\n",
    "    mse, mae, rmse, r2_sco, adj_r2_sco=model_evaluator(y_test,pred_val,X_test )\n",
    "    print(\"Model Performance for Test dataset\")\n",
    "    print(\"Mean Square Error: {}\\nMean Absolute Error: {}\\nRoot Mean Square Error: {}\\nR2 Score: {}\\nAdjusted R2 Score: {}\".format(mse,mae, rmse, r2_sco, adj_r2_sco))\n",
    "    \n",
    "    # Appending model name and R2 Score in seperate list so that models can be sorted in terms of performance\n",
    "    model_list.append(list(models.keys())[num])\n",
    "    r2_score_list.append(r2_sco)\n",
    "    adj_r2_score.append(adj_r2_sco)\n",
    "    mse_list.append(mse)\n",
    "    mae_list.append(mae)\n",
    "    rmse_list.append(rmse)\n",
    "    print(\"*\"*50)\n",
    "    print(\"\\n\")"
   ]
  },
  {
   "cell_type": "code",
   "execution_count": 36,
   "metadata": {
    "colab": {
     "base_uri": "https://localhost:8080/"
    },
    "id": "1FeDS5QN1d75",
    "outputId": "9272bb65-b12c-41db-f34c-5b6ddad5c81e"
   },
   "outputs": [
    {
     "name": "stdout",
     "output_type": "stream",
     "text": [
      "Voting Regressor Model\n",
      "\n",
      "Model Performance for training dataset\n",
      "Mean Square Error: 1568.438\n",
      "Mean Absolute Error: 29.123\n",
      "Root Mean Square Error: 39.604\n",
      "R2 Score: 0.6228\n",
      "Adjusted R2 Score: 0.6225\n",
      "--------------------------------------------------\n",
      "Model Performance for Test dataset\n",
      "Mean Square Error: 2385.694\n",
      "Mean Absolute Error: 34.173\n",
      "Root Mean Square Error: 48.844\n",
      "R2 Score: 0.4986\n",
      "Adjusted R2 Score: 0.4974\n",
      "**************************************************\n",
      "\n",
      "\n"
     ]
    }
   ],
   "source": [
    "# for voting Regressor\n",
    "r1= LinearRegression()\n",
    "r2= Ridge()\n",
    "r3= RandomForestRegressor() \n",
    "vr= VotingRegressor([('Linear_Regression', r1), ('Ridge', r2), ('Random_Forest_Regressor', r3)])\n",
    "\n",
    "# Model prediction \n",
    "y_pred, pred_val=model_trainer(vr, X_train, y_train, X_test)\n",
    "\n",
    "# Model evaluation for training data\n",
    "mse, mae, rmse, r2_sco, adj_r2_sco=model_evaluator(y_train,y_pred,X_train )\n",
    "print(\"Voting Regressor Model\\n\")\n",
    "print(\"Model Performance for training dataset\")\n",
    "print(\"Mean Square Error: {}\\nMean Absolute Error: {}\\nRoot Mean Square Error: {}\\nR2 Score: {}\\nAdjusted R2 Score: {}\".format(mse,mae, rmse, r2_sco, adj_r2_sco))\n",
    "print(\"-\"*50)\n",
    "\n",
    "# Model evaluation for test data      \n",
    "mse, mae, rmse, r2_sco, adj_r2_sco=model_evaluator(y_test,pred_val,X_test )\n",
    "print(\"Model Performance for Test dataset\")\n",
    "print(\"Mean Square Error: {}\\nMean Absolute Error: {}\\nRoot Mean Square Error: {}\\nR2 Score: {}\\nAdjusted R2 Score: {}\".format(mse,mae, rmse, r2_sco, adj_r2_sco))\n",
    "    \n",
    "# Appending model name and R2 Score in seperate list so that models can be sorted in terms of performance\n",
    "model_list.append('Voting Regressor')\n",
    "r2_score_list.append(r2_sco)\n",
    "adj_r2_score.append(adj_r2_sco)\n",
    "mse_list.append(mse)\n",
    "mae_list.append(mae)\n",
    "rmse_list.append(rmse)\n",
    "print(\"*\"*50)\n",
    "print(\"\\n\")"
   ]
  },
  {
   "cell_type": "markdown",
   "metadata": {
    "id": "YIRel_D71qYw"
   },
   "source": [
    "### **Model Performance and Visulaization**"
   ]
  },
  {
   "cell_type": "code",
   "execution_count": 37,
   "metadata": {
    "colab": {
     "base_uri": "https://localhost:8080/",
     "height": 457
    },
    "id": "7MjZ-RMn1mQy",
    "outputId": "88c9965f-5163-44b2-ae5f-f6fecb94911c"
   },
   "outputs": [
    {
     "data": {
      "text/html": [
       "\n",
       "  <div id=\"df-9bbbb696-5fa1-4358-adfb-6b313862e807\">\n",
       "    <div class=\"colab-df-container\">\n",
       "      <div>\n",
       "<style scoped>\n",
       "    .dataframe tbody tr th:only-of-type {\n",
       "        vertical-align: middle;\n",
       "    }\n",
       "\n",
       "    .dataframe tbody tr th {\n",
       "        vertical-align: top;\n",
       "    }\n",
       "\n",
       "    .dataframe thead th {\n",
       "        text-align: right;\n",
       "    }\n",
       "</style>\n",
       "<table border=\"1\" class=\"dataframe\">\n",
       "  <thead>\n",
       "    <tr style=\"text-align: right;\">\n",
       "      <th></th>\n",
       "      <th>Model</th>\n",
       "      <th>R2_score</th>\n",
       "      <th>Adjusted R2_score</th>\n",
       "      <th>MSE</th>\n",
       "      <th>MAE</th>\n",
       "      <th>RMSE</th>\n",
       "    </tr>\n",
       "  </thead>\n",
       "  <tbody>\n",
       "    <tr>\n",
       "      <th>0</th>\n",
       "      <td>XGBoost Regressor</td>\n",
       "      <td>0.6684</td>\n",
       "      <td>0.6676</td>\n",
       "      <td>1577.694</td>\n",
       "      <td>22.627</td>\n",
       "      <td>39.720</td>\n",
       "    </tr>\n",
       "    <tr>\n",
       "      <th>1</th>\n",
       "      <td>GradientBoost Regressor</td>\n",
       "      <td>0.6644</td>\n",
       "      <td>0.6636</td>\n",
       "      <td>1596.724</td>\n",
       "      <td>22.424</td>\n",
       "      <td>39.959</td>\n",
       "    </tr>\n",
       "    <tr>\n",
       "      <th>2</th>\n",
       "      <td>AdaBoost Regressor</td>\n",
       "      <td>0.6520</td>\n",
       "      <td>0.6512</td>\n",
       "      <td>1655.545</td>\n",
       "      <td>28.092</td>\n",
       "      <td>40.688</td>\n",
       "    </tr>\n",
       "    <tr>\n",
       "      <th>3</th>\n",
       "      <td>Support Vector Regressor</td>\n",
       "      <td>0.6436</td>\n",
       "      <td>0.6428</td>\n",
       "      <td>1695.538</td>\n",
       "      <td>25.256</td>\n",
       "      <td>41.177</td>\n",
       "    </tr>\n",
       "    <tr>\n",
       "      <th>4</th>\n",
       "      <td>Extra Tree Regressor</td>\n",
       "      <td>0.6119</td>\n",
       "      <td>0.6110</td>\n",
       "      <td>1846.459</td>\n",
       "      <td>17.713</td>\n",
       "      <td>42.970</td>\n",
       "    </tr>\n",
       "    <tr>\n",
       "      <th>5</th>\n",
       "      <td>Random Forest Regressor</td>\n",
       "      <td>0.6117</td>\n",
       "      <td>0.6108</td>\n",
       "      <td>1847.324</td>\n",
       "      <td>21.207</td>\n",
       "      <td>42.981</td>\n",
       "    </tr>\n",
       "    <tr>\n",
       "      <th>6</th>\n",
       "      <td>Decision Tree Regressor</td>\n",
       "      <td>0.6045</td>\n",
       "      <td>0.6036</td>\n",
       "      <td>1881.598</td>\n",
       "      <td>18.160</td>\n",
       "      <td>43.377</td>\n",
       "    </tr>\n",
       "    <tr>\n",
       "      <th>7</th>\n",
       "      <td>Voting Regressor</td>\n",
       "      <td>0.4986</td>\n",
       "      <td>0.4974</td>\n",
       "      <td>2385.694</td>\n",
       "      <td>34.173</td>\n",
       "      <td>48.844</td>\n",
       "    </tr>\n",
       "    <tr>\n",
       "      <th>8</th>\n",
       "      <td>Bagging Regressor</td>\n",
       "      <td>0.2680</td>\n",
       "      <td>0.2663</td>\n",
       "      <td>3482.651</td>\n",
       "      <td>44.156</td>\n",
       "      <td>59.014</td>\n",
       "    </tr>\n",
       "    <tr>\n",
       "      <th>9</th>\n",
       "      <td>Linear Regression</td>\n",
       "      <td>0.2677</td>\n",
       "      <td>0.2660</td>\n",
       "      <td>3484.475</td>\n",
       "      <td>44.210</td>\n",
       "      <td>59.029</td>\n",
       "    </tr>\n",
       "    <tr>\n",
       "      <th>10</th>\n",
       "      <td>Ridge Regression</td>\n",
       "      <td>0.2676</td>\n",
       "      <td>0.2659</td>\n",
       "      <td>3484.664</td>\n",
       "      <td>44.211</td>\n",
       "      <td>59.031</td>\n",
       "    </tr>\n",
       "    <tr>\n",
       "      <th>11</th>\n",
       "      <td>Lasso Regresion</td>\n",
       "      <td>0.2659</td>\n",
       "      <td>0.2642</td>\n",
       "      <td>3492.786</td>\n",
       "      <td>44.270</td>\n",
       "      <td>59.100</td>\n",
       "    </tr>\n",
       "    <tr>\n",
       "      <th>12</th>\n",
       "      <td>Elastic-Net Regression</td>\n",
       "      <td>0.2239</td>\n",
       "      <td>0.2221</td>\n",
       "      <td>3692.497</td>\n",
       "      <td>45.803</td>\n",
       "      <td>60.766</td>\n",
       "    </tr>\n",
       "  </tbody>\n",
       "</table>\n",
       "</div>\n",
       "      <button class=\"colab-df-convert\" onclick=\"convertToInteractive('df-9bbbb696-5fa1-4358-adfb-6b313862e807')\"\n",
       "              title=\"Convert this dataframe to an interactive table.\"\n",
       "              style=\"display:none;\">\n",
       "        \n",
       "  <svg xmlns=\"http://www.w3.org/2000/svg\" height=\"24px\"viewBox=\"0 0 24 24\"\n",
       "       width=\"24px\">\n",
       "    <path d=\"M0 0h24v24H0V0z\" fill=\"none\"/>\n",
       "    <path d=\"M18.56 5.44l.94 2.06.94-2.06 2.06-.94-2.06-.94-.94-2.06-.94 2.06-2.06.94zm-11 1L8.5 8.5l.94-2.06 2.06-.94-2.06-.94L8.5 2.5l-.94 2.06-2.06.94zm10 10l.94 2.06.94-2.06 2.06-.94-2.06-.94-.94-2.06-.94 2.06-2.06.94z\"/><path d=\"M17.41 7.96l-1.37-1.37c-.4-.4-.92-.59-1.43-.59-.52 0-1.04.2-1.43.59L10.3 9.45l-7.72 7.72c-.78.78-.78 2.05 0 2.83L4 21.41c.39.39.9.59 1.41.59.51 0 1.02-.2 1.41-.59l7.78-7.78 2.81-2.81c.8-.78.8-2.07 0-2.86zM5.41 20L4 18.59l7.72-7.72 1.47 1.35L5.41 20z\"/>\n",
       "  </svg>\n",
       "      </button>\n",
       "      \n",
       "  <style>\n",
       "    .colab-df-container {\n",
       "      display:flex;\n",
       "      flex-wrap:wrap;\n",
       "      gap: 12px;\n",
       "    }\n",
       "\n",
       "    .colab-df-convert {\n",
       "      background-color: #E8F0FE;\n",
       "      border: none;\n",
       "      border-radius: 50%;\n",
       "      cursor: pointer;\n",
       "      display: none;\n",
       "      fill: #1967D2;\n",
       "      height: 32px;\n",
       "      padding: 0 0 0 0;\n",
       "      width: 32px;\n",
       "    }\n",
       "\n",
       "    .colab-df-convert:hover {\n",
       "      background-color: #E2EBFA;\n",
       "      box-shadow: 0px 1px 2px rgba(60, 64, 67, 0.3), 0px 1px 3px 1px rgba(60, 64, 67, 0.15);\n",
       "      fill: #174EA6;\n",
       "    }\n",
       "\n",
       "    [theme=dark] .colab-df-convert {\n",
       "      background-color: #3B4455;\n",
       "      fill: #D2E3FC;\n",
       "    }\n",
       "\n",
       "    [theme=dark] .colab-df-convert:hover {\n",
       "      background-color: #434B5C;\n",
       "      box-shadow: 0px 1px 3px 1px rgba(0, 0, 0, 0.15);\n",
       "      filter: drop-shadow(0px 1px 2px rgba(0, 0, 0, 0.3));\n",
       "      fill: #FFFFFF;\n",
       "    }\n",
       "  </style>\n",
       "\n",
       "      <script>\n",
       "        const buttonEl =\n",
       "          document.querySelector('#df-9bbbb696-5fa1-4358-adfb-6b313862e807 button.colab-df-convert');\n",
       "        buttonEl.style.display =\n",
       "          google.colab.kernel.accessAllowed ? 'block' : 'none';\n",
       "\n",
       "        async function convertToInteractive(key) {\n",
       "          const element = document.querySelector('#df-9bbbb696-5fa1-4358-adfb-6b313862e807');\n",
       "          const dataTable =\n",
       "            await google.colab.kernel.invokeFunction('convertToInteractive',\n",
       "                                                     [key], {});\n",
       "          if (!dataTable) return;\n",
       "\n",
       "          const docLinkHtml = 'Like what you see? Visit the ' +\n",
       "            '<a target=\"_blank\" href=https://colab.research.google.com/notebooks/data_table.ipynb>data table notebook</a>'\n",
       "            + ' to learn more about interactive tables.';\n",
       "          element.innerHTML = '';\n",
       "          dataTable['output_type'] = 'display_data';\n",
       "          await google.colab.output.renderOutput(dataTable, element);\n",
       "          const docLink = document.createElement('div');\n",
       "          docLink.innerHTML = docLinkHtml;\n",
       "          element.appendChild(docLink);\n",
       "        }\n",
       "      </script>\n",
       "    </div>\n",
       "  </div>\n",
       "  "
      ],
      "text/plain": [
       "                       Model  R2_score  Adjusted R2_score       MSE     MAE  \\\n",
       "0          XGBoost Regressor    0.6684             0.6676  1577.694  22.627   \n",
       "1    GradientBoost Regressor    0.6644             0.6636  1596.724  22.424   \n",
       "2         AdaBoost Regressor    0.6520             0.6512  1655.545  28.092   \n",
       "3   Support Vector Regressor    0.6436             0.6428  1695.538  25.256   \n",
       "4       Extra Tree Regressor    0.6119             0.6110  1846.459  17.713   \n",
       "5    Random Forest Regressor    0.6117             0.6108  1847.324  21.207   \n",
       "6    Decision Tree Regressor    0.6045             0.6036  1881.598  18.160   \n",
       "7           Voting Regressor    0.4986             0.4974  2385.694  34.173   \n",
       "8          Bagging Regressor    0.2680             0.2663  3482.651  44.156   \n",
       "9          Linear Regression    0.2677             0.2660  3484.475  44.210   \n",
       "10          Ridge Regression    0.2676             0.2659  3484.664  44.211   \n",
       "11           Lasso Regresion    0.2659             0.2642  3492.786  44.270   \n",
       "12    Elastic-Net Regression    0.2239             0.2221  3692.497  45.803   \n",
       "\n",
       "      RMSE  \n",
       "0   39.720  \n",
       "1   39.959  \n",
       "2   40.688  \n",
       "3   41.177  \n",
       "4   42.970  \n",
       "5   42.981  \n",
       "6   43.377  \n",
       "7   48.844  \n",
       "8   59.014  \n",
       "9   59.029  \n",
       "10  59.031  \n",
       "11  59.100  \n",
       "12  60.766  "
      ]
     },
     "execution_count": 37,
     "metadata": {},
     "output_type": "execute_result"
    }
   ],
   "source": [
    "# Tabulating model performance in dataframe\n",
    "model_perf= pd.DataFrame(list(zip(model_list, r2_score_list, adj_r2_score, mse_list, mae_list, rmse_list)), columns=['Model', 'R2_score', 'Adjusted R2_score', 'MSE', 'MAE', 'RMSE']).sort_values(by=['R2_score'], ascending=False,).reset_index()\n",
    "model_perf.drop('index', axis=1, inplace=True)\n",
    "model_perf"
   ]
  },
  {
   "cell_type": "markdown",
   "metadata": {
    "id": "dJH68hyQ2FY5"
   },
   "source": [
    "From above data frame or table we can easily conclude that **Model XGBoost Regressor** is the best model because it has maximaum value of $R^2= 0.6684$ and $R^2_{adj}= 0.6676$ and least values of **MSE,\tMAE,\tRMSE** are **1577.694,\t22.627.\t39.720** respectively as compare to others."
   ]
  },
  {
   "cell_type": "code",
   "execution_count": 38,
   "metadata": {
    "colab": {
     "base_uri": "https://localhost:8080/",
     "height": 1000
    },
    "id": "ZGLYxP8I1w9d",
    "outputId": "012d1ae4-8fe7-482e-d9ef-12e623dc2209"
   },
   "outputs": [
    {
     "data": {
      "image/png": "[encoded data removed]",
      "text/plain": [
       "<Figure size 720x432 with 1 Axes>"
      ]
     },
     "metadata": {},
     "output_type": "display_data"
    },
    {
     "data": {
      "image/png": "[encoded data removed]",
      "text/plain": [
       "<Figure size 720x432 with 1 Axes>"
      ]
     },
     "metadata": {},
     "output_type": "display_data"
    },
    {
     "data": {
      "image/png": "[encoded data removed]",
      "text/plain": [
       "<Figure size 720x432 with 1 Axes>"
      ]
     },
     "metadata": {},
     "output_type": "display_data"
    }
   ],
   "source": [
    "for feature in ['MSE', 'MAE', 'RMSE']:\n",
    "    plt.figure(figsize=(10,6))\n",
    "    sns.lineplot(x=feature, y='R2_score', data=model_perf)\n",
    "    plt.xlabel(\"{}\".format(feature), fontweight='bold', fontsize=15)\n",
    "    plt.ylabel(\"R2 Score\", fontweight='bold', fontsize=15)\n",
    "    plt.title(\"{} Error Vs R2 Score\".format(feature), fontweight='bold', fontsize=15)"
   ]
  },
  {
   "cell_type": "markdown",
   "metadata": {
    "id": "D6V12hfq8OIl"
   },
   "source": [
    "### **Hyperparameter Tunning**"
   ]
  },
  {
   "cell_type": "code",
   "execution_count": 40,
   "metadata": {
    "id": "T9mXuEfW8B73"
   },
   "outputs": [],
   "source": [
    "import numpy as np\n",
    "import pandas as pd\n",
    "from sklearn.model_selection import GridSearchCV\n",
    "from sklearn.linear_model import LinearRegression, Ridge, Lasso, ElasticNet\n",
    "from sklearn.ensemble import RandomForestRegressor, ExtraTreesRegressor, BaggingRegressor, AdaBoostRegressor, GradientBoostingRegressor, VotingRegressor\n",
    "from sklearn.svm import SVR\n",
    "import xgboost as xgb"
   ]
  },
  {
   "cell_type": "code",
   "execution_count": 42,
   "metadata": {
    "colab": {
     "base_uri": "https://localhost:8080/"
    },
    "id": "1_Fyjzf37lxk",
    "outputId": "cd9d4402-3368-4f26-cdc1-e595dfd7eefa"
   },
   "outputs": [
    {
     "name": "stdout",
     "output_type": "stream",
     "text": [
      "Best parameters for Linear Regression: {'fit_intercept': True, 'normalize': True}\n",
      "Best score for Linear Regression: -3102.123086579766\n",
      "**************************************************\n",
      "\n",
      "\n",
      "Best parameters for Ridge Regression: {'alpha': 0.01}\n",
      "Best score for Ridge Regression: -3102.1231094191526\n",
      "**************************************************\n",
      "\n",
      "\n",
      "Best parameters for Lasso Regression: {'alpha': 0.01}\n",
      "Best score for Lasso Regression: -3102.1268744646986\n",
      "**************************************************\n",
      "\n",
      "\n",
      "Best parameters for Elastic-Net Regression: {'alpha': 0.01, 'l1_ratio': 1}\n",
      "Best score for Elastic-Net Regression: -3102.1268744646986\n",
      "**************************************************\n",
      "\n",
      "\n",
      "Best parameters for Decision Tree Regression: {'criterion': 'mse', 'max_depth': 5}\n",
      "Best score for Decision Tree Regression: -1275.7734343131879\n",
      "**************************************************\n",
      "\n",
      "\n",
      "Best parameters for Random Forest Regression: {'max_depth': 5, 'n_estimators': 10}\n",
      "Best score for Random Forest Regression: -1215.4467648967454\n",
      "**************************************************\n",
      "\n",
      "\n",
      "Best parameters for Extra Trees Regression: {'max_depth': None, 'n_estimators': 30}\n",
      "Best score for Extra Trees Regression: -1237.6692643229248\n",
      "**************************************************\n",
      "\n",
      "\n",
      "Best parameters for Bagging Regression: {'n_estimators': 20}\n",
      "Best score for Bagging Regression: -1339.5333675737152\n",
      "**************************************************\n",
      "\n",
      "\n",
      "Best parameters for AdaBoost Regression: {'n_estimators': 30}\n",
      "Best score for AdaBoost Regression: -1548.277943432203\n",
      "**************************************************\n",
      "\n",
      "\n",
      "Best parameters for Gradient Boosting Regression: {'learning_rate': 0.5, 'n_estimators': 10}\n",
      "Best score for Gradient Boosting Regression: -1156.0004426517717\n",
      "**************************************************\n",
      "\n",
      "\n",
      "Best parameters for Support Vector Regression: {'C': 10, 'kernel': 'rbf'}\n",
      "Best score for Support Vector Regression: -1374.4007063138172\n",
      "**************************************************\n",
      "\n",
      "\n",
      "[10:09:44] WARNING: /workspace/src/objective/regression_obj.cu:152: reg:linear is now deprecated in favor of reg:squarederror.\n",
      "Best parameters for XGBoost Regression: {'learning_rate': 0.1, 'max_depth': 2}\n",
      "Best score for XGBoost Regression: -1182.4043609360556\n",
      "**************************************************\n",
      "\n",
      "\n"
     ]
    }
   ],
   "source": [
    "# Define a dictionary of hyperparameters to search over for each model\n",
    "param_grid_linear = {'fit_intercept': [True, False], 'normalize': [True, False]}\n",
    "param_grid_ridge = {'alpha': [0.01, 0.1, 1, 10, 100]}\n",
    "param_grid_lasso = {'alpha': [0.01, 0.1, 1, 10, 100]}\n",
    "param_grid_elastic = {'alpha': [0.01, 0.1, 1, 10, 100], 'l1_ratio': [0, 0.1, 0.5, 1]}\n",
    "param_grid_dt = {'criterion': ['mse', 'friedman_mse', 'mae'], 'max_depth': [None, 2, 3, 4, 5]}\n",
    "param_grid_rf = {'n_estimators': [10, 20, 30], 'max_depth': [None, 2, 3, 4, 5]}\n",
    "param_grid_et = {'n_estimators': [10, 20, 30], 'max_depth': [None, 2, 3, 4, 5]}\n",
    "param_grid_bagging = {'n_estimators': [10, 20, 30]}\n",
    "param_grid_adaboost = {'n_estimators': [10, 20, 30]}\n",
    "param_grid_gb = {'n_estimators': [10, 20, 30], 'learning_rate': [0.1, 0.5, 1]}\n",
    "param_grid_xgb = {'max_depth': [2, 3, 4, 5], 'learning_rate': [0.1, 0.5, 1]}\n",
    "param_grid_svr = {'kernel': ['linear', 'poly', 'rbf', 'sigmoid'], 'C': [0.1, 1, 10, 100]}\n",
    "\n",
    "models = {'Linear Regression': LinearRegression(),\n",
    "          'Ridge Regression': Ridge(),\n",
    "          'Lasso Regression': Lasso(),\n",
    "          'Elastic-Net Regression': ElasticNet(),\n",
    "          'Decision Tree Regression': DecisionTreeRegressor(),\n",
    "          'Random Forest Regression': RandomForestRegressor(),\n",
    "          'Extra Trees Regression': ExtraTreesRegressor(),\n",
    "          'Bagging Regression': BaggingRegressor(),\n",
    "          'AdaBoost Regression': AdaBoostRegressor(),\n",
    "          'Gradient Boosting Regression': GradientBoostingRegressor(),\n",
    "          'Support Vector Regression': SVR(),\n",
    "          'XGBoost Regression': xgb.XGBRegressor()}\n",
    "\n",
    "# Define a dictionary of param grids for each model\n",
    "param_grids = {'Linear Regression': param_grid_linear,\n",
    "               'Ridge Regression': param_grid_ridge,\n",
    "               'Lasso Regression': param_grid_lasso,\n",
    "               'Elastic-Net Regression': param_grid_elastic,\n",
    "               'Decision Tree Regression': param_grid_dt,\n",
    "               'Random Forest Regression': param_grid_rf,\n",
    "               'Extra Trees Regression': param_grid_et,\n",
    "               'Bagging Regression': param_grid_bagging,\n",
    "               'AdaBoost Regression': param_grid_adaboost,\n",
    "               'Gradient Boosting Regression': param_grid_gb,\n",
    "               'Support Vector Regression': param_grid_svr,\n",
    "               'XGBoost Regression': param_grid_xgb}\n",
    "\n",
    "# Loop over each model and its corresponding hyperparameters\n",
    "for model_name, model in models.items():\n",
    "    grid_search = GridSearchCV(estimator=model, param_grid=param_grids[model_name], scoring='neg_mean_squared_error', cv=5, n_jobs=-1)\n",
    "    grid_search.fit(X_train, y_train)\n",
    "    print(f'Best parameters for {model_name}: {grid_search.best_params_}')\n",
    "    print(f'Best score for {model_name}: {grid_search.best_score_}')\n",
    "    print(\"*\"*50)\n",
    "    print(\"\\n\")\n",
    "\n"
   ]
  },
  {
   "cell_type": "markdown",
   "metadata": {
    "id": "xRcuqe6U8pcC"
   },
   "source": [
    "From above information we can easily conclude that **Model XGBoost Regressor** is the best model because it has the best parameters for XGBoost Regression is `{'learning_rate': 0.1, 'max_depth': 2}` and\n",
    "best score is **`-1182.40`** as compare to others."
   ]
  }
 ],
 "metadata": {
  "accelerator": "GPU",
  "colab": {
   "provenance": []
  },
  "gpuClass": "standard",
  "kernelspec": {
   "display_name": "Python 3 (ipykernel)",
   "language": "python",
   "name": "python3"
  },
  "language_info": {
   "codemirror_mode": {
    "name": "ipython",
    "version": 3
   },
   "file_extension": ".py",
   "mimetype": "text/x-python",
   "name": "python",
   "nbconvert_exporter": "python",
   "pygments_lexer": "ipython3",
   "version": "3.9.12"
  },
  "latex_envs": {
   "LaTeX_envs_menu_present": true,
   "autoclose": false,
   "autocomplete": true,
   "bibliofile": "biblio.bib",
   "cite_by": "apalike",
   "current_citInitial": 1,
   "eqLabelWithNumbers": true,
   "eqNumInitial": 1,
   "hotkeys": {
    "equation": "Ctrl-E",
    "itemize": "Ctrl-I"
   },
   "labels_anchors": false,
   "latex_user_defs": false,
   "report_style_numbering": false,
   "user_envs_cfg": false
  },
  "nbTranslate": {
   "displayLangs": [
    "*"
   ],
   "hotkey": "alt-t",
   "langInMainMenu": true,
   "sourceLang": "en",
   "targetLang": "fr",
   "useGoogleTranslate": true
  },
  "toc": {
   "base_numbering": 1,
   "nav_menu": {},
   "number_sections": true,
   "sideBar": true,
   "skip_h1_title": false,
   "title_cell": "Table of Contents",
   "title_sidebar": "Contents",
   "toc_cell": false,
   "toc_position": {},
   "toc_section_display": true,
   "toc_window_display": false
  },
  "varInspector": {
   "cols": {
    "lenName": 16,
    "lenType": 16,
    "lenVar": 40
   },
   "kernels_config": {
    "python": {
     "delete_cmd_postfix": "",
     "delete_cmd_prefix": "del ",
     "library": "var_list.py",
     "varRefreshCmd": "print(var_dic_list())"
    },
    "r": {
     "delete_cmd_postfix": ") ",
     "delete_cmd_prefix": "rm(",
     "library": "var_list.r",
     "varRefreshCmd": "cat(var_dic_list()) "
    }
   },
   "types_to_exclude": [
    "module",
    "function",
    "builtin_function_or_method",
    "instance",
    "_Feature"
   ],
   "window_display": false
  }
 },
 "nbformat": 4,
 "nbformat_minor": 1
}
