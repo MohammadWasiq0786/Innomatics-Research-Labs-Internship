{
 "cells": [
  {
   "cell_type": "markdown",
   "id": "65c3077a",
   "metadata": {},
   "source": [
    "![irl](https://www.jobvacancyresult.com/storage/company/1976_innomatics.png)\n",
    "\n",
    "# EDA on ML Test Scores Dataset\n",
    "\n",
    "## Name: Mohammad Wasiq\n",
    "\n",
    "## E-mail: `mohammadwasiq0786@gmail.com`"
   ]
  },
  {
   "cell_type": "markdown",
   "id": "83af68bb",
   "metadata": {},
   "source": [
    "## Description of dataset\n",
    "\n",
    "* **`Batch` :** Represents the Batch Name\n",
    "* **`User_ID` :** Represents the Unique Student ID\n",
    "* **`Score` :** Represents the Score Out of 7"
   ]
  },
  {
   "cell_type": "code",
   "execution_count": 1,
   "id": "a51bbf03",
   "metadata": {
    "ExecuteTime": {
     "end_time": "2023-03-31T17:31:47.198093Z",
     "start_time": "2023-03-31T17:31:42.564540Z"
    }
   },
   "outputs": [],
   "source": [
    "# import the require libraries\n",
    "import pandas as pd\n",
    "import numpy as np\n",
    "import matplotlib.pyplot as plt\n",
    "import seaborn as sns\n",
    "from sklearn.cluster import KMeans\n",
    "import warnings\n",
    "warnings.filterwarnings('ignore')"
   ]
  },
  {
   "cell_type": "code",
   "execution_count": 2,
   "id": "c9a8dac6",
   "metadata": {
    "ExecuteTime": {
     "end_time": "2023-03-31T17:32:28.756504Z",
     "start_time": "2023-03-31T17:32:28.717608Z"
    }
   },
   "outputs": [
    {
     "data": {
      "text/html": [
       "<div>\n",
       "<style scoped>\n",
       "    .dataframe tbody tr th:only-of-type {\n",
       "        vertical-align: middle;\n",
       "    }\n",
       "\n",
       "    .dataframe tbody tr th {\n",
       "        vertical-align: top;\n",
       "    }\n",
       "\n",
       "    .dataframe thead th {\n",
       "        text-align: right;\n",
       "    }\n",
       "</style>\n",
       "<table border=\"1\" class=\"dataframe\">\n",
       "  <thead>\n",
       "    <tr style=\"text-align: right;\">\n",
       "      <th></th>\n",
       "      <th>Batch</th>\n",
       "      <th>User_ID</th>\n",
       "      <th>Score</th>\n",
       "    </tr>\n",
       "  </thead>\n",
       "  <tbody>\n",
       "    <tr>\n",
       "      <th>0</th>\n",
       "      <td>AI_ELITE_7</td>\n",
       "      <td>uid_149</td>\n",
       "      <td>6 / 7</td>\n",
       "    </tr>\n",
       "    <tr>\n",
       "      <th>1</th>\n",
       "      <td>AI_ELITE_7</td>\n",
       "      <td>uid_148</td>\n",
       "      <td>6 / 7</td>\n",
       "    </tr>\n",
       "    <tr>\n",
       "      <th>2</th>\n",
       "      <td>AI_ELITE_7</td>\n",
       "      <td>uid_147</td>\n",
       "      <td>7 / 7</td>\n",
       "    </tr>\n",
       "    <tr>\n",
       "      <th>3</th>\n",
       "      <td>AI_ELITE_7</td>\n",
       "      <td>uid_146</td>\n",
       "      <td>7 / 7</td>\n",
       "    </tr>\n",
       "    <tr>\n",
       "      <th>4</th>\n",
       "      <td>AI_ELITE_7</td>\n",
       "      <td>uid_145</td>\n",
       "      <td>4 / 7</td>\n",
       "    </tr>\n",
       "  </tbody>\n",
       "</table>\n",
       "</div>"
      ],
      "text/plain": [
       "       Batch  User_ID     Score   \n",
       "0  AI_ELITE_7  uid_149       6 / 7\n",
       "1  AI_ELITE_7  uid_148       6 / 7\n",
       "2  AI_ELITE_7  uid_147       7 / 7\n",
       "3  AI_ELITE_7  uid_146       7 / 7\n",
       "4  AI_ELITE_7  uid_145       4 / 7"
      ]
     },
     "execution_count": 2,
     "metadata": {},
     "output_type": "execute_result"
    }
   ],
   "source": [
    "# Read the data\n",
    "df= pd.read_csv('scores_data.csv')\n",
    "\n",
    "# show thw first five rows of data\n",
    "df.head()"
   ]
  },
  {
   "cell_type": "code",
   "execution_count": 3,
   "id": "61066da5",
   "metadata": {
    "ExecuteTime": {
     "end_time": "2023-03-31T17:32:34.354094Z",
     "start_time": "2023-03-31T17:32:34.343124Z"
    }
   },
   "outputs": [
    {
     "data": {
      "text/plain": [
       "(149, 3)"
      ]
     },
     "execution_count": 3,
     "metadata": {},
     "output_type": "execute_result"
    }
   ],
   "source": [
    "# Dimendion of the data \n",
    "df.shape"
   ]
  },
  {
   "cell_type": "code",
   "execution_count": 4,
   "id": "ed7bf85f",
   "metadata": {
    "ExecuteTime": {
     "end_time": "2023-03-31T17:32:59.392921Z",
     "start_time": "2023-03-31T17:32:59.379956Z"
    }
   },
   "outputs": [
    {
     "name": "stdout",
     "output_type": "stream",
     "text": [
      "Number of Rows : 149\n",
      "Number of Columns : 3\n"
     ]
    }
   ],
   "source": [
    "print('Number of Rows :', df.shape[0])       # Rows of data\n",
    "print('Number of Columns :', df.shape[1])    # Columns of data"
   ]
  },
  {
   "cell_type": "code",
   "execution_count": 5,
   "id": "6fb5eae5",
   "metadata": {
    "ExecuteTime": {
     "end_time": "2023-03-31T17:33:04.302784Z",
     "start_time": "2023-03-31T17:33:04.284829Z"
    }
   },
   "outputs": [
    {
     "name": "stdout",
     "output_type": "stream",
     "text": [
      "<class 'pandas.core.frame.DataFrame'>\n",
      "RangeIndex: 149 entries, 0 to 148\n",
      "Data columns (total 3 columns):\n",
      " #   Column       Non-Null Count  Dtype \n",
      "---  ------       --------------  ----- \n",
      " 0   Batch        149 non-null    object\n",
      " 1   User_ID      149 non-null    object\n",
      " 2      Score     149 non-null    object\n",
      "dtypes: object(3)\n",
      "memory usage: 3.6+ KB\n"
     ]
    }
   ],
   "source": [
    "# Some information about data\n",
    "df.info()"
   ]
  },
  {
   "cell_type": "code",
   "execution_count": 6,
   "id": "783e8f89",
   "metadata": {
    "ExecuteTime": {
     "end_time": "2023-03-31T17:33:09.493408Z",
     "start_time": "2023-03-31T17:33:09.478450Z"
    },
    "scrolled": true
   },
   "outputs": [
    {
     "data": {
      "text/plain": [
       "Batch          0\n",
       "User_ID        0\n",
       "   Score       0\n",
       "dtype: int64"
      ]
     },
     "execution_count": 6,
     "metadata": {},
     "output_type": "execute_result"
    }
   ],
   "source": [
    "# Check the null values of data\n",
    "df.isnull().sum()"
   ]
  },
  {
   "cell_type": "markdown",
   "id": "3076d44b",
   "metadata": {},
   "source": [
    "**Great there is no missing value in our dataset.**"
   ]
  },
  {
   "cell_type": "code",
   "execution_count": 7,
   "id": "3f6b7657",
   "metadata": {
    "ExecuteTime": {
     "end_time": "2023-03-31T17:33:13.572029Z",
     "start_time": "2023-03-31T17:33:13.551067Z"
    }
   },
   "outputs": [
    {
     "data": {
      "text/plain": [
       "0"
      ]
     },
     "execution_count": 7,
     "metadata": {},
     "output_type": "execute_result"
    }
   ],
   "source": [
    "# Check the duplicate values in the dataset\n",
    "df.duplicated().sum()"
   ]
  },
  {
   "cell_type": "markdown",
   "id": "2f10224d",
   "metadata": {},
   "source": [
    "**Great there is no duplicate value in our dataset.**"
   ]
  },
  {
   "cell_type": "code",
   "execution_count": 8,
   "id": "33b3398b",
   "metadata": {
    "ExecuteTime": {
     "end_time": "2023-03-31T17:33:21.780437Z",
     "start_time": "2023-03-31T17:33:21.761485Z"
    },
    "scrolled": true
   },
   "outputs": [
    {
     "data": {
      "text/html": [
       "<div>\n",
       "<style scoped>\n",
       "    .dataframe tbody tr th:only-of-type {\n",
       "        vertical-align: middle;\n",
       "    }\n",
       "\n",
       "    .dataframe tbody tr th {\n",
       "        vertical-align: top;\n",
       "    }\n",
       "\n",
       "    .dataframe thead th {\n",
       "        text-align: right;\n",
       "    }\n",
       "</style>\n",
       "<table border=\"1\" class=\"dataframe\">\n",
       "  <thead>\n",
       "    <tr style=\"text-align: right;\">\n",
       "      <th></th>\n",
       "      <th>count</th>\n",
       "      <th>unique</th>\n",
       "      <th>top</th>\n",
       "      <th>freq</th>\n",
       "    </tr>\n",
       "  </thead>\n",
       "  <tbody>\n",
       "    <tr>\n",
       "      <th>Batch</th>\n",
       "      <td>149</td>\n",
       "      <td>3</td>\n",
       "      <td>AI_ELITE_7</td>\n",
       "      <td>53</td>\n",
       "    </tr>\n",
       "    <tr>\n",
       "      <th>User_ID</th>\n",
       "      <td>149</td>\n",
       "      <td>149</td>\n",
       "      <td>uid_149</td>\n",
       "      <td>1</td>\n",
       "    </tr>\n",
       "    <tr>\n",
       "      <th>Score</th>\n",
       "      <td>149</td>\n",
       "      <td>8</td>\n",
       "      <td>4 / 7</td>\n",
       "      <td>40</td>\n",
       "    </tr>\n",
       "  </tbody>\n",
       "</table>\n",
       "</div>"
      ],
      "text/plain": [
       "            count unique         top freq\n",
       "Batch         149      3  AI_ELITE_7   53\n",
       "User_ID       149    149     uid_149    1\n",
       "   Score      149      8       4 / 7   40"
      ]
     },
     "execution_count": 8,
     "metadata": {},
     "output_type": "execute_result"
    }
   ],
   "source": [
    "df.describe().T"
   ]
  },
  {
   "cell_type": "markdown",
   "id": "5ba794df",
   "metadata": {},
   "source": [
    "## Data Cleaning\n",
    "**For further analysis we should clean our dataset.**"
   ]
  },
  {
   "cell_type": "code",
   "execution_count": 10,
   "id": "e93e21f0",
   "metadata": {
    "ExecuteTime": {
     "end_time": "2023-03-31T17:33:49.769553Z",
     "start_time": "2023-03-31T17:33:49.749607Z"
    }
   },
   "outputs": [],
   "source": [
    "df.columns= df.columns.str.replace(' ', '')"
   ]
  },
  {
   "cell_type": "code",
   "execution_count": 11,
   "id": "b00a44f4",
   "metadata": {
    "ExecuteTime": {
     "end_time": "2023-03-31T17:33:55.736990Z",
     "start_time": "2023-03-31T17:33:55.715049Z"
    }
   },
   "outputs": [
    {
     "data": {
      "text/plain": [
       "AI_ELITE_7    53\n",
       "AI_ELITE_6    48\n",
       "AI_ELITE_4    48\n",
       "Name: Batch, dtype: int64"
      ]
     },
     "execution_count": 11,
     "metadata": {},
     "output_type": "execute_result"
    }
   ],
   "source": [
    "df['Batch'].value_counts()"
   ]
  },
  {
   "cell_type": "code",
   "execution_count": 12,
   "id": "0b162e44",
   "metadata": {
    "ExecuteTime": {
     "end_time": "2023-03-31T17:34:05.399294Z",
     "start_time": "2023-03-31T17:34:05.384336Z"
    },
    "scrolled": true
   },
   "outputs": [],
   "source": [
    "df['Batch']= df['Batch'].str.replace('AI_ELITE_', '')"
   ]
  },
  {
   "cell_type": "code",
   "execution_count": 13,
   "id": "f31141c4",
   "metadata": {
    "ExecuteTime": {
     "end_time": "2023-03-31T17:34:09.545667Z",
     "start_time": "2023-03-31T17:34:09.525708Z"
    }
   },
   "outputs": [
    {
     "data": {
      "text/plain": [
       "7    53\n",
       "6    48\n",
       "4    48\n",
       "Name: Batch, dtype: int64"
      ]
     },
     "execution_count": 13,
     "metadata": {},
     "output_type": "execute_result"
    }
   ],
   "source": [
    "df['Batch'].value_counts()"
   ]
  },
  {
   "cell_type": "code",
   "execution_count": 14,
   "id": "e6093658",
   "metadata": {
    "ExecuteTime": {
     "end_time": "2023-03-31T17:34:13.079667Z",
     "start_time": "2023-03-31T17:34:13.061715Z"
    }
   },
   "outputs": [
    {
     "data": {
      "text/plain": [
       "array(['uid_149', 'uid_148', 'uid_147', 'uid_146', 'uid_145', 'uid_144',\n",
       "       'uid_143', 'uid_142', 'uid_141', 'uid_140', 'uid_139', 'uid_138',\n",
       "       'uid_137', 'uid_136', 'uid_135', 'uid_134', 'uid_133', 'uid_132',\n",
       "       'uid_131', 'uid_130', 'uid_129', 'uid_128', 'uid_127', 'uid_126',\n",
       "       'uid_125', 'uid_124', 'uid_123', 'uid_122', 'uid_121', 'uid_120',\n",
       "       'uid_119', 'uid_118', 'uid_117', 'uid_116', 'uid_115', 'uid_114',\n",
       "       'uid_113', 'uid_112', 'uid_111', 'uid_110', 'uid_109', 'uid_108',\n",
       "       'uid_107', 'uid_106', 'uid_105', 'uid_104', 'uid_103', 'uid_102',\n",
       "       'uid_101', 'uid_100', 'uid_99', 'uid_98', 'uid_97', 'uid_96',\n",
       "       'uid_95', 'uid_94', 'uid_93', 'uid_92', 'uid_91', 'uid_90',\n",
       "       'uid_89', 'uid_88', 'uid_87', 'uid_86', 'uid_85', 'uid_84',\n",
       "       'uid_83', 'uid_82', 'uid_81', 'uid_80', 'uid_79', 'uid_78',\n",
       "       'uid_77', 'uid_76', 'uid_75', 'uid_74', 'uid_73', 'uid_72',\n",
       "       'uid_71', 'uid_70', 'uid_69', 'uid_68', 'uid_67', 'uid_66',\n",
       "       'uid_65', 'uid_64', 'uid_63', 'uid_62', 'uid_61', 'uid_60',\n",
       "       'uid_59', 'uid_58', 'uid_57', 'uid_56', 'uid_55', 'uid_54',\n",
       "       'uid_53', 'uid_52', 'uid_51', 'uid_50', 'uid_49', 'uid_48',\n",
       "       'uid_47', 'uid_46', 'uid_45', 'uid_44', 'uid_43', 'uid_42',\n",
       "       'uid_41', 'uid_40', 'uid_39', 'uid_38', 'uid_37', 'uid_36',\n",
       "       'uid_35', 'uid_34', 'uid_33', 'uid_32', 'uid_31', 'uid_30',\n",
       "       'uid_29', 'uid_28', 'uid_27', 'uid_26', 'uid_25', 'uid_24',\n",
       "       'uid_23', 'uid_22', 'uid_21', 'uid_20', 'uid_19', 'uid_18',\n",
       "       'uid_17', 'uid_16', 'uid_15', 'uid_14', 'uid_13', 'uid_12',\n",
       "       'uid_11', 'uid_10', 'uid_9', 'uid_8', 'uid_7', 'uid_6', 'uid_5',\n",
       "       'uid_4', 'uid_3', 'uid_2', 'uid_1'], dtype=object)"
      ]
     },
     "execution_count": 14,
     "metadata": {},
     "output_type": "execute_result"
    }
   ],
   "source": [
    "df['User_ID'].unique()"
   ]
  },
  {
   "cell_type": "code",
   "execution_count": 15,
   "id": "94d29052",
   "metadata": {
    "ExecuteTime": {
     "end_time": "2023-03-31T17:34:20.857269Z",
     "start_time": "2023-03-31T17:34:20.845301Z"
    }
   },
   "outputs": [],
   "source": [
    "df['User_ID'] = df['User_ID'].str.replace('uid_', '')"
   ]
  },
  {
   "cell_type": "code",
   "execution_count": 16,
   "id": "5465fc49",
   "metadata": {
    "ExecuteTime": {
     "end_time": "2023-03-31T17:34:23.868681Z",
     "start_time": "2023-03-31T17:34:23.859706Z"
    }
   },
   "outputs": [
    {
     "data": {
      "text/plain": [
       "array(['149', '148', '147', '146', '145', '144', '143', '142', '141',\n",
       "       '140', '139', '138', '137', '136', '135', '134', '133', '132',\n",
       "       '131', '130', '129', '128', '127', '126', '125', '124', '123',\n",
       "       '122', '121', '120', '119', '118', '117', '116', '115', '114',\n",
       "       '113', '112', '111', '110', '109', '108', '107', '106', '105',\n",
       "       '104', '103', '102', '101', '100', '99', '98', '97', '96', '95',\n",
       "       '94', '93', '92', '91', '90', '89', '88', '87', '86', '85', '84',\n",
       "       '83', '82', '81', '80', '79', '78', '77', '76', '75', '74', '73',\n",
       "       '72', '71', '70', '69', '68', '67', '66', '65', '64', '63', '62',\n",
       "       '61', '60', '59', '58', '57', '56', '55', '54', '53', '52', '51',\n",
       "       '50', '49', '48', '47', '46', '45', '44', '43', '42', '41', '40',\n",
       "       '39', '38', '37', '36', '35', '34', '33', '32', '31', '30', '29',\n",
       "       '28', '27', '26', '25', '24', '23', '22', '21', '20', '19', '18',\n",
       "       '17', '16', '15', '14', '13', '12', '11', '10', '9', '8', '7', '6',\n",
       "       '5', '4', '3', '2', '1'], dtype=object)"
      ]
     },
     "execution_count": 16,
     "metadata": {},
     "output_type": "execute_result"
    }
   ],
   "source": [
    "df['User_ID'].unique()"
   ]
  },
  {
   "cell_type": "code",
   "execution_count": 17,
   "id": "7e492545",
   "metadata": {
    "ExecuteTime": {
     "end_time": "2023-03-31T17:34:27.413892Z",
     "start_time": "2023-03-31T17:34:27.391950Z"
    }
   },
   "outputs": [
    {
     "data": {
      "text/plain": [
       "4 / 7    40\n",
       "5 / 7    32\n",
       "3 / 7    24\n",
       "6 / 7    18\n",
       "7 / 7    18\n",
       "2 / 7    12\n",
       "1 / 7     3\n",
       "0 / 7     2\n",
       "Name: Score, dtype: int64"
      ]
     },
     "execution_count": 17,
     "metadata": {},
     "output_type": "execute_result"
    }
   ],
   "source": [
    "df['Score'].value_counts()"
   ]
  },
  {
   "cell_type": "code",
   "execution_count": 18,
   "id": "00940328",
   "metadata": {
    "ExecuteTime": {
     "end_time": "2023-03-31T17:34:42.087680Z",
     "start_time": "2023-03-31T17:34:42.074717Z"
    }
   },
   "outputs": [],
   "source": [
    "# Score : Represents the Score Out of 7\n",
    "df['Score']= df['Score'].str.replace('/ 7', '')"
   ]
  },
  {
   "cell_type": "code",
   "execution_count": 19,
   "id": "69ee0dd2",
   "metadata": {
    "ExecuteTime": {
     "end_time": "2023-03-31T17:34:45.628383Z",
     "start_time": "2023-03-31T17:34:45.609433Z"
    }
   },
   "outputs": [
    {
     "data": {
      "text/plain": [
       "4     40\n",
       "5     32\n",
       "3     24\n",
       "6     18\n",
       "7     18\n",
       "2     12\n",
       "1      3\n",
       "0      2\n",
       "Name: Score, dtype: int64"
      ]
     },
     "execution_count": 19,
     "metadata": {},
     "output_type": "execute_result"
    }
   ],
   "source": [
    "df['Score'].value_counts()"
   ]
  },
  {
   "cell_type": "code",
   "execution_count": 20,
   "id": "7ca7cc0d",
   "metadata": {
    "ExecuteTime": {
     "end_time": "2023-03-31T17:34:48.754090Z",
     "start_time": "2023-03-31T17:34:48.744116Z"
    }
   },
   "outputs": [
    {
     "data": {
      "text/plain": [
       "Batch      object\n",
       "User_ID    object\n",
       "Score      object\n",
       "dtype: object"
      ]
     },
     "execution_count": 20,
     "metadata": {},
     "output_type": "execute_result"
    }
   ],
   "source": [
    "df.dtypes"
   ]
  },
  {
   "cell_type": "code",
   "execution_count": 21,
   "id": "6174b829",
   "metadata": {
    "ExecuteTime": {
     "end_time": "2023-03-31T17:35:08.650676Z",
     "start_time": "2023-03-31T17:35:08.631728Z"
    }
   },
   "outputs": [],
   "source": [
    "# Change Datatypes\n",
    "df['Batch']= df['Batch'].astype('int64')\n",
    "df['User_ID']= df['User_ID'].astype('int64')\n",
    "df['Score']= df['Score'].astype('int64')"
   ]
  },
  {
   "cell_type": "code",
   "execution_count": 22,
   "id": "3d9c8aba",
   "metadata": {
    "ExecuteTime": {
     "end_time": "2023-03-31T17:35:12.069471Z",
     "start_time": "2023-03-31T17:35:12.055510Z"
    }
   },
   "outputs": [
    {
     "data": {
      "text/plain": [
       "Batch      int64\n",
       "User_ID    int64\n",
       "Score      int64\n",
       "dtype: object"
      ]
     },
     "execution_count": 22,
     "metadata": {},
     "output_type": "execute_result"
    }
   ],
   "source": [
    "df.dtypes"
   ]
  },
  {
   "cell_type": "code",
   "execution_count": 24,
   "id": "36887a1f",
   "metadata": {
    "ExecuteTime": {
     "end_time": "2023-03-31T17:35:31.295533Z",
     "start_time": "2023-03-31T17:35:31.271597Z"
    }
   },
   "outputs": [
    {
     "data": {
      "text/plain": [
       "count    149.000000\n",
       "mean       4.382550\n",
       "std        1.592199\n",
       "min        0.000000\n",
       "25%        3.000000\n",
       "50%        4.000000\n",
       "75%        5.000000\n",
       "max        7.000000\n",
       "Name: Score, dtype: float64"
      ]
     },
     "execution_count": 24,
     "metadata": {},
     "output_type": "execute_result"
    }
   ],
   "source": [
    "df['Score'].describe()"
   ]
  },
  {
   "cell_type": "markdown",
   "id": "3102d343",
   "metadata": {},
   "source": [
    "## Visualization of Data"
   ]
  },
  {
   "cell_type": "code",
   "execution_count": 25,
   "id": "64f1a9e8",
   "metadata": {
    "ExecuteTime": {
     "end_time": "2023-03-31T17:35:41.528721Z",
     "start_time": "2023-03-31T17:35:41.140125Z"
    }
   },
   "outputs": [
    {
     "data": {
      "image/png": "[encoded data removed]",
      "text/plain": [
       "<Figure size 432x288 with 1 Axes>"
      ]
     },
     "metadata": {
      "needs_background": "light"
     },
     "output_type": "display_data"
    }
   ],
   "source": [
    "sns.distplot(df['Score'])\n",
    "plt.show()"
   ]
  },
  {
   "cell_type": "code",
   "execution_count": 26,
   "id": "24141b4f",
   "metadata": {
    "ExecuteTime": {
     "end_time": "2023-03-31T17:35:45.914776Z",
     "start_time": "2023-03-31T17:35:45.896823Z"
    }
   },
   "outputs": [
    {
     "data": {
      "text/plain": [
       "7    53\n",
       "6    48\n",
       "4    48\n",
       "Name: Batch, dtype: int64"
      ]
     },
     "execution_count": 26,
     "metadata": {},
     "output_type": "execute_result"
    }
   ],
   "source": [
    "df['Batch'].value_counts()"
   ]
  },
  {
   "cell_type": "code",
   "execution_count": 27,
   "id": "b2ac182d",
   "metadata": {
    "ExecuteTime": {
     "end_time": "2023-03-31T17:35:53.626694Z",
     "start_time": "2023-03-31T17:35:53.483079Z"
    },
    "scrolled": false
   },
   "outputs": [
    {
     "data": {
      "image/png": "[encoded data removed]",
      "text/plain": [
       "<Figure size 432x288 with 1 Axes>"
      ]
     },
     "metadata": {
      "needs_background": "light"
     },
     "output_type": "display_data"
    }
   ],
   "source": [
    "sns.countplot(df['Batch'], palette= 'Set2')\n",
    "plt.show()"
   ]
  },
  {
   "cell_type": "code",
   "execution_count": 28,
   "id": "3104d975",
   "metadata": {
    "ExecuteTime": {
     "end_time": "2023-03-31T17:36:03.575871Z",
     "start_time": "2023-03-31T17:36:03.362442Z"
    }
   },
   "outputs": [
    {
     "data": {
      "image/png": "[encoded data removed]",
      "text/plain": [
       "<Figure size 432x288 with 1 Axes>"
      ]
     },
     "metadata": {
      "needs_background": "light"
     },
     "output_type": "display_data"
    }
   ],
   "source": [
    "sns.countplot(df['Score'], palette='Set2')\n",
    "plt.show()"
   ]
  },
  {
   "cell_type": "code",
   "execution_count": 29,
   "id": "82df4328",
   "metadata": {
    "ExecuteTime": {
     "end_time": "2023-03-31T17:36:10.681573Z",
     "start_time": "2023-03-31T17:36:10.393343Z"
    }
   },
   "outputs": [
    {
     "data": {
      "image/png": "[encoded data removed]",
      "text/plain": [
       "<Figure size 432x288 with 1 Axes>"
      ]
     },
     "metadata": {
      "needs_background": "light"
     },
     "output_type": "display_data"
    }
   ],
   "source": [
    "sns.scatterplot(df['Score'], df['User_ID'])\n",
    "plt.show()"
   ]
  },
  {
   "cell_type": "code",
   "execution_count": 30,
   "id": "f3521d87",
   "metadata": {
    "ExecuteTime": {
     "end_time": "2023-03-31T17:36:22.437218Z",
     "start_time": "2023-03-31T17:36:22.083164Z"
    }
   },
   "outputs": [
    {
     "data": {
      "image/png": "[encoded data removed]",
      "text/plain": [
       "<Figure size 432x288 with 1 Axes>"
      ]
     },
     "metadata": {
      "needs_background": "light"
     },
     "output_type": "display_data"
    }
   ],
   "source": [
    "sns.barplot(df['Batch'], df['User_ID'], palette= 'Set2')\n",
    "plt.show()"
   ]
  },
  {
   "cell_type": "code",
   "execution_count": 31,
   "id": "084e2986",
   "metadata": {
    "ExecuteTime": {
     "end_time": "2023-03-31T17:36:43.601444Z",
     "start_time": "2023-03-31T17:36:42.310892Z"
    }
   },
   "outputs": [
    {
     "data": {
      "image/png": "[encoded data removed]",
      "text/plain": [
       "<Figure size 432x288 with 1 Axes>"
      ]
     },
     "metadata": {
      "needs_background": "light"
     },
     "output_type": "display_data"
    }
   ],
   "source": [
    "sns.barplot(df['Batch'], df['User_ID'], hue= df['Score'], palette= 'Set2')\n",
    "plt.show()"
   ]
  },
  {
   "cell_type": "code",
   "execution_count": 32,
   "id": "ac8c2f83",
   "metadata": {
    "ExecuteTime": {
     "end_time": "2023-03-31T17:36:52.188373Z",
     "start_time": "2023-03-31T17:36:51.962962Z"
    }
   },
   "outputs": [
    {
     "data": {
      "image/png": "[encoded data removed]",
      "text/plain": [
       "<Figure size 432x288 with 1 Axes>"
      ]
     },
     "metadata": {
      "needs_background": "light"
     },
     "output_type": "display_data"
    }
   ],
   "source": [
    "sns.kdeplot(df['User_ID'])\n",
    "sns.kdeplot(df['Score'])\n",
    "plt.show()"
   ]
  },
  {
   "cell_type": "code",
   "execution_count": 33,
   "id": "acc8d7ba",
   "metadata": {
    "ExecuteTime": {
     "end_time": "2023-03-31T17:37:06.335679Z",
     "start_time": "2023-03-31T17:37:05.816069Z"
    }
   },
   "outputs": [
    {
     "data": {
      "image/png": "[encoded data removed]",
      "text/plain": [
       "<Figure size 432x288 with 1 Axes>"
      ]
     },
     "metadata": {
      "needs_background": "light"
     },
     "output_type": "display_data"
    }
   ],
   "source": [
    "sns.barplot(df['Score'], df['User_ID'])\n",
    "plt.show()"
   ]
  },
  {
   "cell_type": "code",
   "execution_count": 34,
   "id": "85884495",
   "metadata": {
    "ExecuteTime": {
     "end_time": "2023-03-31T17:37:09.428730Z",
     "start_time": "2023-03-31T17:37:09.408783Z"
    }
   },
   "outputs": [
    {
     "data": {
      "text/plain": [
       "4    40\n",
       "5    32\n",
       "3    24\n",
       "6    18\n",
       "7    18\n",
       "2    12\n",
       "1     3\n",
       "0     2\n",
       "Name: Score, dtype: int64"
      ]
     },
     "execution_count": 34,
     "metadata": {},
     "output_type": "execute_result"
    }
   ],
   "source": [
    "df['Score'].value_counts()"
   ]
  },
  {
   "cell_type": "code",
   "execution_count": 35,
   "id": "4e14e087",
   "metadata": {
    "ExecuteTime": {
     "end_time": "2023-03-31T17:37:20.421873Z",
     "start_time": "2023-03-31T17:37:19.923206Z"
    }
   },
   "outputs": [
    {
     "data": {
      "image/png": "[encoded data removed]",
      "text/plain": [
       "<Figure size 432x288 with 1 Axes>"
      ]
     },
     "metadata": {
      "needs_background": "light"
     },
     "output_type": "display_data"
    }
   ],
   "source": [
    "sns.barplot(df['Score'], df['Batch'], palette= 'Set2')\n",
    "plt.show()"
   ]
  },
  {
   "cell_type": "code",
   "execution_count": 36,
   "id": "4b9f5487",
   "metadata": {
    "ExecuteTime": {
     "end_time": "2023-03-31T17:37:24.238187Z",
     "start_time": "2023-03-31T17:37:24.224223Z"
    }
   },
   "outputs": [
    {
     "data": {
      "text/plain": [
       "array([149, 148, 147, 146, 145, 144, 143, 142, 141, 140, 139, 138, 137,\n",
       "       136, 135, 134, 133, 132, 131, 130, 129, 128, 127, 126, 125, 124,\n",
       "       123, 122, 121, 120, 119, 118, 117, 116, 115, 114, 113, 112, 111,\n",
       "       110, 109, 108, 107, 106, 105, 104, 103, 102, 101, 100,  99,  98,\n",
       "        97,  96,  95,  94,  93,  92,  91,  90,  89,  88,  87,  86,  85,\n",
       "        84,  83,  82,  81,  80,  79,  78,  77,  76,  75,  74,  73,  72,\n",
       "        71,  70,  69,  68,  67,  66,  65,  64,  63,  62,  61,  60,  59,\n",
       "        58,  57,  56,  55,  54,  53,  52,  51,  50,  49,  48,  47,  46,\n",
       "        45,  44,  43,  42,  41,  40,  39,  38,  37,  36,  35,  34,  33,\n",
       "        32,  31,  30,  29,  28,  27,  26,  25,  24,  23,  22,  21,  20,\n",
       "        19,  18,  17,  16,  15,  14,  13,  12,  11,  10,   9,   8,   7,\n",
       "         6,   5,   4,   3,   2,   1], dtype=int64)"
      ]
     },
     "execution_count": 36,
     "metadata": {},
     "output_type": "execute_result"
    }
   ],
   "source": [
    "df['User_ID'].unique()"
   ]
  },
  {
   "cell_type": "code",
   "execution_count": 37,
   "id": "2e302493",
   "metadata": {
    "ExecuteTime": {
     "end_time": "2023-03-31T17:37:35.123170Z",
     "start_time": "2023-03-31T17:37:35.111200Z"
    }
   },
   "outputs": [],
   "source": [
    "num_features= [feature for feature in df.columns]"
   ]
  },
  {
   "cell_type": "code",
   "execution_count": 39,
   "id": "fe05084a",
   "metadata": {
    "ExecuteTime": {
     "end_time": "2023-03-31T17:38:01.198737Z",
     "start_time": "2023-03-31T17:38:00.704420Z"
    }
   },
   "outputs": [
    {
     "data": {
      "image/png": "[encoded data removed]",
      "text/plain": [
       "<Figure size 1080x1080 with 3 Axes>"
      ]
     },
     "metadata": {
      "needs_background": "light"
     },
     "output_type": "display_data"
    }
   ],
   "source": [
    "plt.figure(figsize=(15,15))\n",
    "\n",
    "plt.suptitle('Univariate Analysis of Features', fontweight='bold', fontsize=15, y=1)\n",
    "\n",
    "for i in range(0,len(num_features)): \n",
    "    plt.subplot(10,4,i+1)\n",
    "    sns.kdeplot(x=df[num_features[i]], shade=True)\n",
    "    plt.tight_layout()"
   ]
  },
  {
   "cell_type": "code",
   "execution_count": 40,
   "id": "4e7bafd5",
   "metadata": {
    "ExecuteTime": {
     "end_time": "2023-03-31T17:38:25.760745Z",
     "start_time": "2023-03-31T17:38:25.316936Z"
    }
   },
   "outputs": [
    {
     "data": {
      "image/png": "[encoded data removed]",
      "text/plain": [
       "<Figure size 1080x1080 with 3 Axes>"
      ]
     },
     "metadata": {
      "needs_background": "light"
     },
     "output_type": "display_data"
    }
   ],
   "source": [
    "plt.figure(figsize = (15,15))\n",
    "\n",
    "plt.suptitle('Univariate Analysis of Features', fontweight='bold', fontsize=20, y=1)\n",
    "\n",
    "for i in range(0,len(num_features)):\n",
    "    plt.subplot(10, 4, i+1)\n",
    "    sns.boxplot(data= df, x=num_features[i])\n",
    "    plt.xlabel(num_features[i])\n",
    "    plt.tight_layout()"
   ]
  },
  {
   "cell_type": "code",
   "execution_count": 41,
   "id": "e1c2f7f2",
   "metadata": {
    "ExecuteTime": {
     "end_time": "2023-03-31T17:38:36.498154Z",
     "start_time": "2023-03-31T17:38:36.203941Z"
    }
   },
   "outputs": [
    {
     "data": {
      "image/png": "[encoded data removed]",
      "text/plain": [
       "<Figure size 432x288 with 1 Axes>"
      ]
     },
     "metadata": {
      "needs_background": "light"
     },
     "output_type": "display_data"
    }
   ],
   "source": [
    "sns.scatterplot(df['User_ID'], df['Score'])\n",
    "plt.show()"
   ]
  },
  {
   "cell_type": "code",
   "execution_count": 42,
   "id": "e30d37cb",
   "metadata": {
    "ExecuteTime": {
     "end_time": "2023-03-31T17:38:44.512888Z",
     "start_time": "2023-03-31T17:38:44.291481Z"
    }
   },
   "outputs": [
    {
     "data": {
      "image/png": "[encoded data removed]",
      "text/plain": [
       "<Figure size 432x288 with 1 Axes>"
      ]
     },
     "metadata": {
      "needs_background": "light"
     },
     "output_type": "display_data"
    }
   ],
   "source": [
    "sns.scatterplot(df['Batch'], df['Score'])\n",
    "plt.show()"
   ]
  },
  {
   "cell_type": "markdown",
   "id": "6072b099",
   "metadata": {},
   "source": [
    "### Conclusion\n",
    "* **Most of all there are many students in batch 7**\n",
    "* **The highest score is in batch 7**\n",
    "* **Since there are more students in batch 7 the score is high**\n",
    "* **Smart students are in batch 6**"
   ]
  }
 ],
 "metadata": {
  "kernelspec": {
   "display_name": "Python 3 (ipykernel)",
   "language": "python",
   "name": "python3"
  },
  "language_info": {
   "codemirror_mode": {
    "name": "ipython",
    "version": 3
   },
   "file_extension": ".py",
   "mimetype": "text/x-python",
   "name": "python",
   "nbconvert_exporter": "python",
   "pygments_lexer": "ipython3",
   "version": "3.9.12"
  },
  "latex_envs": {
   "LaTeX_envs_menu_present": true,
   "autoclose": false,
   "autocomplete": true,
   "bibliofile": "biblio.bib",
   "cite_by": "apalike",
   "current_citInitial": 1,
   "eqLabelWithNumbers": true,
   "eqNumInitial": 1,
   "hotkeys": {
    "equation": "Ctrl-E",
    "itemize": "Ctrl-I"
   },
   "labels_anchors": false,
   "latex_user_defs": false,
   "report_style_numbering": false,
   "user_envs_cfg": false
  },
  "nbTranslate": {
   "displayLangs": [
    "*"
   ],
   "hotkey": "alt-t",
   "langInMainMenu": true,
   "sourceLang": "en",
   "targetLang": "fr",
   "useGoogleTranslate": true
  },
  "toc": {
   "base_numbering": 1,
   "nav_menu": {},
   "number_sections": true,
   "sideBar": true,
   "skip_h1_title": false,
   "title_cell": "Table of Contents",
   "title_sidebar": "Contents",
   "toc_cell": false,
   "toc_position": {},
   "toc_section_display": true,
   "toc_window_display": false
  },
  "varInspector": {
   "cols": {
    "lenName": 16,
    "lenType": 16,
    "lenVar": 40
   },
   "kernels_config": {
    "python": {
     "delete_cmd_postfix": "",
     "delete_cmd_prefix": "del ",
     "library": "var_list.py",
     "varRefreshCmd": "print(var_dic_list())"
    },
    "r": {
     "delete_cmd_postfix": ") ",
     "delete_cmd_prefix": "rm(",
     "library": "var_list.r",
     "varRefreshCmd": "cat(var_dic_list()) "
    }
   },
   "types_to_exclude": [
    "module",
    "function",
    "builtin_function_or_method",
    "instance",
    "_Feature"
   ],
   "window_display": false
  }
 },
 "nbformat": 4,
 "nbformat_minor": 5
}
