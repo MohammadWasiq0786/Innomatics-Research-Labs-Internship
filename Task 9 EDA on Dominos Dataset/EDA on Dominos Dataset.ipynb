{
 "cells": [
  {
   "cell_type": "markdown",
   "metadata": {},
   "source": [
    "![irl](https://www.jobvacancyresult.com/storage/company/1976_innomatics.png)\n",
    "\n",
    "# EDA on Dominos Dataset\n",
    "\n",
    "## Name: Mohammad Wasiq\n",
    "\n",
    "## E-mail: `mohammadwasiq0786@gmail.com`"
   ]
  },
  {
   "cell_type": "code",
   "execution_count": 1,
   "metadata": {
    "ExecuteTime": {
     "end_time": "2023-03-30T16:50:01.957155Z",
     "start_time": "2023-03-30T16:49:56.874994Z"
    },
    "id": "im7b6eZ7nt3m"
   },
   "outputs": [],
   "source": [
    "# import required libraries\n",
    "\n",
    "import pandas as pd\n",
    "import numpy as np\n",
    "import seaborn as sns\n",
    "import matplotlib.pyplot as plt\n",
    "\n",
    "%matplotlib inline"
   ]
  },
  {
   "cell_type": "code",
   "execution_count": 2,
   "metadata": {
    "ExecuteTime": {
     "end_time": "2023-03-30T16:50:07.204394Z",
     "start_time": "2023-03-30T16:50:07.124606Z"
    },
    "colab": {
     "base_uri": "https://localhost:8080/",
     "height": 206
    },
    "id": "GXlWL0fvn5Lr",
    "outputId": "c70d4ec5-da8e-424d-a0fa-82e35fa26ef3"
   },
   "outputs": [
    {
     "data": {
      "text/html": [
       "<div>\n",
       "<style scoped>\n",
       "    .dataframe tbody tr th:only-of-type {\n",
       "        vertical-align: middle;\n",
       "    }\n",
       "\n",
       "    .dataframe tbody tr th {\n",
       "        vertical-align: top;\n",
       "    }\n",
       "\n",
       "    .dataframe thead th {\n",
       "        text-align: right;\n",
       "    }\n",
       "</style>\n",
       "<table border=\"1\" class=\"dataframe\">\n",
       "  <thead>\n",
       "    <tr style=\"text-align: right;\">\n",
       "      <th></th>\n",
       "      <th>order_id</th>\n",
       "      <th>order_placed_at</th>\n",
       "      <th>order_delivered_at</th>\n",
       "    </tr>\n",
       "  </thead>\n",
       "  <tbody>\n",
       "    <tr>\n",
       "      <th>0</th>\n",
       "      <td>1523111</td>\n",
       "      <td>2023-03-01 00:00:59</td>\n",
       "      <td>2023-03-01 00:18:07.443132</td>\n",
       "    </tr>\n",
       "    <tr>\n",
       "      <th>1</th>\n",
       "      <td>1523112</td>\n",
       "      <td>2023-03-01 00:03:59</td>\n",
       "      <td>2023-03-01 00:19:34.925241</td>\n",
       "    </tr>\n",
       "    <tr>\n",
       "      <th>2</th>\n",
       "      <td>1523113</td>\n",
       "      <td>2023-03-01 00:07:22</td>\n",
       "      <td>2023-03-01 00:22:28.291385</td>\n",
       "    </tr>\n",
       "    <tr>\n",
       "      <th>3</th>\n",
       "      <td>1523114</td>\n",
       "      <td>2023-03-01 00:07:47</td>\n",
       "      <td>2023-03-01 00:46:19.019399</td>\n",
       "    </tr>\n",
       "    <tr>\n",
       "      <th>4</th>\n",
       "      <td>1523115</td>\n",
       "      <td>2023-03-01 00:09:03</td>\n",
       "      <td>2023-03-01 00:25:13.619056</td>\n",
       "    </tr>\n",
       "  </tbody>\n",
       "</table>\n",
       "</div>"
      ],
      "text/plain": [
       "   order_id      order_placed_at          order_delivered_at\n",
       "0   1523111  2023-03-01 00:00:59  2023-03-01 00:18:07.443132\n",
       "1   1523112  2023-03-01 00:03:59  2023-03-01 00:19:34.925241\n",
       "2   1523113  2023-03-01 00:07:22  2023-03-01 00:22:28.291385\n",
       "3   1523114  2023-03-01 00:07:47  2023-03-01 00:46:19.019399\n",
       "4   1523115  2023-03-01 00:09:03  2023-03-01 00:25:13.619056"
      ]
     },
     "execution_count": 2,
     "metadata": {},
     "output_type": "execute_result"
    }
   ],
   "source": [
    "df= pd.read_csv(\"diminos_data.csv\")\n",
    "df.head()"
   ]
  },
  {
   "cell_type": "code",
   "execution_count": 3,
   "metadata": {
    "ExecuteTime": {
     "end_time": "2023-03-30T16:50:28.069399Z",
     "start_time": "2023-03-30T16:50:28.062419Z"
    },
    "colab": {
     "base_uri": "https://localhost:8080/"
    },
    "id": "D-BkqcgKoZCR",
    "outputId": "718d168c-8282-4dc1-89d8-ae322fd258ff"
   },
   "outputs": [
    {
     "data": {
      "text/plain": [
       "(15000, 3)"
      ]
     },
     "execution_count": 3,
     "metadata": {},
     "output_type": "execute_result"
    }
   ],
   "source": [
    "# Numbers of Rows and Columns in the dataset\n",
    "df.shape"
   ]
  },
  {
   "cell_type": "code",
   "execution_count": 4,
   "metadata": {
    "ExecuteTime": {
     "end_time": "2023-03-30T16:53:36.138178Z",
     "start_time": "2023-03-30T16:53:36.112247Z"
    },
    "colab": {
     "base_uri": "https://localhost:8080/"
    },
    "id": "Ly7FNS4ro0DU",
    "outputId": "9514a8ef-f7b8-4123-8d54-92a9c399926c"
   },
   "outputs": [
    {
     "name": "stdout",
     "output_type": "stream",
     "text": [
      "<class 'pandas.core.frame.DataFrame'>\n",
      "RangeIndex: 15000 entries, 0 to 14999\n",
      "Data columns (total 3 columns):\n",
      " #   Column              Non-Null Count  Dtype \n",
      "---  ------              --------------  ----- \n",
      " 0   order_id            15000 non-null  int64 \n",
      " 1   order_placed_at     15000 non-null  object\n",
      " 2   order_delivered_at  15000 non-null  object\n",
      "dtypes: int64(1), object(2)\n",
      "memory usage: 351.7+ KB\n"
     ]
    }
   ],
   "source": [
    "# Basic info about the dataset\n",
    "df.info()"
   ]
  },
  {
   "cell_type": "code",
   "execution_count": 5,
   "metadata": {
    "ExecuteTime": {
     "end_time": "2023-03-30T16:53:45.556838Z",
     "start_time": "2023-03-30T16:53:45.529910Z"
    },
    "colab": {
     "base_uri": "https://localhost:8080/"
    },
    "id": "5_pH2fv7o4-5",
    "outputId": "7bf97d3f-a3ec-4d59-a551-af052ac4a178"
   },
   "outputs": [
    {
     "data": {
      "text/plain": [
       "order_id              0\n",
       "order_placed_at       0\n",
       "order_delivered_at    0\n",
       "dtype: int64"
      ]
     },
     "execution_count": 5,
     "metadata": {},
     "output_type": "execute_result"
    }
   ],
   "source": [
    "# Watch the Missing values\n",
    "df.isnull().sum()"
   ]
  },
  {
   "cell_type": "markdown",
   "metadata": {},
   "source": [
    "**Great there is no missing value in this dataset.**"
   ]
  },
  {
   "cell_type": "code",
   "execution_count": 6,
   "metadata": {
    "ExecuteTime": {
     "end_time": "2023-03-30T16:54:43.002687Z",
     "start_time": "2023-03-30T16:54:42.968782Z"
    },
    "colab": {
     "base_uri": "https://localhost:8080/"
    },
    "id": "hclf5z4Qo_D0",
    "outputId": "43b22cbf-aa69-4154-846f-704528c8af4c"
   },
   "outputs": [
    {
     "data": {
      "text/plain": [
       "0"
      ]
     },
     "execution_count": 6,
     "metadata": {},
     "output_type": "execute_result"
    }
   ],
   "source": [
    "# Find the duplicate values\n",
    "df.duplicated().sum()"
   ]
  },
  {
   "cell_type": "markdown",
   "metadata": {},
   "source": [
    "**Nice! There is no duplicate value in this datset.** "
   ]
  },
  {
   "cell_type": "markdown",
   "metadata": {
    "id": "LUtXIT0zpVF7"
   },
   "source": [
    "### Feature Engineering"
   ]
  },
  {
   "cell_type": "code",
   "execution_count": 7,
   "metadata": {
    "ExecuteTime": {
     "end_time": "2023-03-30T16:56:44.282580Z",
     "start_time": "2023-03-30T16:56:44.239696Z"
    },
    "id": "zepSetPepZOS"
   },
   "outputs": [],
   "source": [
    "# Convert the 'order_placed_at' and 'order_delivered_at' columns in datetime type because these columns are in date format\n",
    "\n",
    "df['order_placed_at']= pd.to_datetime(df['order_placed_at'])\n",
    "\n",
    "df['order_delivered_at']= pd.to_datetime(df['order_delivered_at'])"
   ]
  },
  {
   "cell_type": "code",
   "execution_count": 8,
   "metadata": {
    "ExecuteTime": {
     "end_time": "2023-03-30T16:57:29.383377Z",
     "start_time": "2023-03-30T16:57:29.359443Z"
    },
    "id": "PeN7mbbdEBOq"
   },
   "outputs": [],
   "source": [
    "# Calculate the delivery time \n",
    "df['time_taken_for_delivery']= df['order_delivered_at'] - df['order_placed_at']\n",
    "df['time_taken_for_delivery']= df['time_taken_for_delivery']/np.timedelta64(1,'m')"
   ]
  },
  {
   "cell_type": "code",
   "execution_count": 9,
   "metadata": {
    "ExecuteTime": {
     "end_time": "2023-03-30T16:57:59.876210Z",
     "start_time": "2023-03-30T16:57:59.861244Z"
    },
    "colab": {
     "base_uri": "https://localhost:8080/"
    },
    "id": "QxnQ5RFnpqik",
    "outputId": "5dbefc66-e652-4a28-e485-504fa6e80cc2"
   },
   "outputs": [
    {
     "data": {
      "text/plain": [
       "order_id                            int64\n",
       "order_placed_at            datetime64[ns]\n",
       "order_delivered_at         datetime64[ns]\n",
       "time_taken_for_delivery           float64\n",
       "dtype: object"
      ]
     },
     "execution_count": 9,
     "metadata": {},
     "output_type": "execute_result"
    }
   ],
   "source": [
    "# Now again check the data type of the dataset's features\n",
    "df.dtypes"
   ]
  },
  {
   "cell_type": "code",
   "execution_count": 10,
   "metadata": {
    "ExecuteTime": {
     "end_time": "2023-03-30T16:58:06.172334Z",
     "start_time": "2023-03-30T16:58:06.160366Z"
    },
    "id": "B5pArT7ftGQO"
   },
   "outputs": [],
   "source": [
    "df['order_placed_date']= df['order_placed_at'].dt.date"
   ]
  },
  {
   "cell_type": "code",
   "execution_count": 11,
   "metadata": {
    "ExecuteTime": {
     "end_time": "2023-03-30T16:58:09.035498Z",
     "start_time": "2023-03-30T16:58:09.011562Z"
    },
    "id": "f2RJhC1BtV7b"
   },
   "outputs": [],
   "source": [
    "df['order_placed_time']= df['order_placed_at'].dt.time"
   ]
  },
  {
   "cell_type": "code",
   "execution_count": 12,
   "metadata": {
    "ExecuteTime": {
     "end_time": "2023-03-30T16:58:11.495794Z",
     "start_time": "2023-03-30T16:58:11.477841Z"
    },
    "id": "WbzFehUhtXJ6"
   },
   "outputs": [],
   "source": [
    "df['order_delivered_date']= df['order_delivered_at'].dt.date"
   ]
  },
  {
   "cell_type": "code",
   "execution_count": 13,
   "metadata": {
    "ExecuteTime": {
     "end_time": "2023-03-30T16:58:13.850423Z",
     "start_time": "2023-03-30T16:58:13.832472Z"
    },
    "id": "7nshyYNTtpWT"
   },
   "outputs": [],
   "source": [
    "df['order_delivered_time']= df['order_delivered_at'].dt.time"
   ]
  },
  {
   "cell_type": "code",
   "execution_count": 14,
   "metadata": {
    "ExecuteTime": {
     "end_time": "2023-03-30T16:58:15.253629Z",
     "start_time": "2023-03-30T16:58:15.238671Z"
    },
    "colab": {
     "base_uri": "https://localhost:8080/",
     "height": 206
    },
    "id": "JI86q1P4773h",
    "outputId": "9d516a0d-9deb-436b-d2bd-345744b4f03b"
   },
   "outputs": [
    {
     "data": {
      "text/html": [
       "<div>\n",
       "<style scoped>\n",
       "    .dataframe tbody tr th:only-of-type {\n",
       "        vertical-align: middle;\n",
       "    }\n",
       "\n",
       "    .dataframe tbody tr th {\n",
       "        vertical-align: top;\n",
       "    }\n",
       "\n",
       "    .dataframe thead th {\n",
       "        text-align: right;\n",
       "    }\n",
       "</style>\n",
       "<table border=\"1\" class=\"dataframe\">\n",
       "  <thead>\n",
       "    <tr style=\"text-align: right;\">\n",
       "      <th></th>\n",
       "      <th>order_id</th>\n",
       "      <th>order_placed_at</th>\n",
       "      <th>order_delivered_at</th>\n",
       "      <th>time_taken_for_delivery</th>\n",
       "      <th>order_placed_date</th>\n",
       "      <th>order_placed_time</th>\n",
       "      <th>order_delivered_date</th>\n",
       "      <th>order_delivered_time</th>\n",
       "    </tr>\n",
       "  </thead>\n",
       "  <tbody>\n",
       "    <tr>\n",
       "      <th>0</th>\n",
       "      <td>1523111</td>\n",
       "      <td>2023-03-01 00:00:59</td>\n",
       "      <td>2023-03-01 00:18:07.443132</td>\n",
       "      <td>17.140719</td>\n",
       "      <td>2023-03-01</td>\n",
       "      <td>00:00:59</td>\n",
       "      <td>2023-03-01</td>\n",
       "      <td>00:18:07.443132</td>\n",
       "    </tr>\n",
       "    <tr>\n",
       "      <th>1</th>\n",
       "      <td>1523112</td>\n",
       "      <td>2023-03-01 00:03:59</td>\n",
       "      <td>2023-03-01 00:19:34.925241</td>\n",
       "      <td>15.598754</td>\n",
       "      <td>2023-03-01</td>\n",
       "      <td>00:03:59</td>\n",
       "      <td>2023-03-01</td>\n",
       "      <td>00:19:34.925241</td>\n",
       "    </tr>\n",
       "    <tr>\n",
       "      <th>2</th>\n",
       "      <td>1523113</td>\n",
       "      <td>2023-03-01 00:07:22</td>\n",
       "      <td>2023-03-01 00:22:28.291385</td>\n",
       "      <td>15.104856</td>\n",
       "      <td>2023-03-01</td>\n",
       "      <td>00:07:22</td>\n",
       "      <td>2023-03-01</td>\n",
       "      <td>00:22:28.291385</td>\n",
       "    </tr>\n",
       "    <tr>\n",
       "      <th>3</th>\n",
       "      <td>1523114</td>\n",
       "      <td>2023-03-01 00:07:47</td>\n",
       "      <td>2023-03-01 00:46:19.019399</td>\n",
       "      <td>38.533657</td>\n",
       "      <td>2023-03-01</td>\n",
       "      <td>00:07:47</td>\n",
       "      <td>2023-03-01</td>\n",
       "      <td>00:46:19.019399</td>\n",
       "    </tr>\n",
       "    <tr>\n",
       "      <th>4</th>\n",
       "      <td>1523115</td>\n",
       "      <td>2023-03-01 00:09:03</td>\n",
       "      <td>2023-03-01 00:25:13.619056</td>\n",
       "      <td>16.176984</td>\n",
       "      <td>2023-03-01</td>\n",
       "      <td>00:09:03</td>\n",
       "      <td>2023-03-01</td>\n",
       "      <td>00:25:13.619056</td>\n",
       "    </tr>\n",
       "  </tbody>\n",
       "</table>\n",
       "</div>"
      ],
      "text/plain": [
       "   order_id     order_placed_at         order_delivered_at  \\\n",
       "0   1523111 2023-03-01 00:00:59 2023-03-01 00:18:07.443132   \n",
       "1   1523112 2023-03-01 00:03:59 2023-03-01 00:19:34.925241   \n",
       "2   1523113 2023-03-01 00:07:22 2023-03-01 00:22:28.291385   \n",
       "3   1523114 2023-03-01 00:07:47 2023-03-01 00:46:19.019399   \n",
       "4   1523115 2023-03-01 00:09:03 2023-03-01 00:25:13.619056   \n",
       "\n",
       "   time_taken_for_delivery order_placed_date order_placed_time  \\\n",
       "0                17.140719        2023-03-01          00:00:59   \n",
       "1                15.598754        2023-03-01          00:03:59   \n",
       "2                15.104856        2023-03-01          00:07:22   \n",
       "3                38.533657        2023-03-01          00:07:47   \n",
       "4                16.176984        2023-03-01          00:09:03   \n",
       "\n",
       "  order_delivered_date order_delivered_time  \n",
       "0           2023-03-01      00:18:07.443132  \n",
       "1           2023-03-01      00:19:34.925241  \n",
       "2           2023-03-01      00:22:28.291385  \n",
       "3           2023-03-01      00:46:19.019399  \n",
       "4           2023-03-01      00:25:13.619056  "
      ]
     },
     "execution_count": 14,
     "metadata": {},
     "output_type": "execute_result"
    }
   ],
   "source": [
    "df.head()"
   ]
  },
  {
   "cell_type": "markdown",
   "metadata": {
    "id": "2iBJkwA34kkk"
   },
   "source": [
    "Creating New Feature called time_period which will help to traffic of deliveries during differeent period of day"
   ]
  },
  {
   "cell_type": "code",
   "execution_count": 15,
   "metadata": {
    "ExecuteTime": {
     "end_time": "2023-03-30T16:59:56.544395Z",
     "start_time": "2023-03-30T16:59:56.398788Z"
    },
    "id": "3j8BSzyPwWfH"
   },
   "outputs": [],
   "source": [
    "# Now create the 'time_period' column\n",
    "df['time_period']= df['order_placed_at'].apply(lambda x: \"Late Night\" if x.hour > 1 and x.hour <= 4 else (\"Morning\" if x.hour > 4 and x.hour <= 12 else (\"Afternoon\" if x.hour > 12 and x.hour <= 16 else (\"Evening\" if x.hour > 16 and x.hour <= 19 else \"Night\"))))"
   ]
  },
  {
   "cell_type": "code",
   "execution_count": 16,
   "metadata": {
    "ExecuteTime": {
     "end_time": "2023-03-30T16:59:58.340995Z",
     "start_time": "2023-03-30T16:59:58.315064Z"
    },
    "colab": {
     "base_uri": "https://localhost:8080/",
     "height": 206
    },
    "id": "-YYi7VCtwWkY",
    "outputId": "196e27b2-72cb-4151-bd26-4458d7ce11c3"
   },
   "outputs": [
    {
     "data": {
      "text/html": [
       "<div>\n",
       "<style scoped>\n",
       "    .dataframe tbody tr th:only-of-type {\n",
       "        vertical-align: middle;\n",
       "    }\n",
       "\n",
       "    .dataframe tbody tr th {\n",
       "        vertical-align: top;\n",
       "    }\n",
       "\n",
       "    .dataframe thead th {\n",
       "        text-align: right;\n",
       "    }\n",
       "</style>\n",
       "<table border=\"1\" class=\"dataframe\">\n",
       "  <thead>\n",
       "    <tr style=\"text-align: right;\">\n",
       "      <th></th>\n",
       "      <th>order_id</th>\n",
       "      <th>order_placed_at</th>\n",
       "      <th>order_delivered_at</th>\n",
       "      <th>time_taken_for_delivery</th>\n",
       "      <th>order_placed_date</th>\n",
       "      <th>order_placed_time</th>\n",
       "      <th>order_delivered_date</th>\n",
       "      <th>order_delivered_time</th>\n",
       "      <th>time_period</th>\n",
       "    </tr>\n",
       "  </thead>\n",
       "  <tbody>\n",
       "    <tr>\n",
       "      <th>0</th>\n",
       "      <td>1523111</td>\n",
       "      <td>2023-03-01 00:00:59</td>\n",
       "      <td>2023-03-01 00:18:07.443132</td>\n",
       "      <td>17.140719</td>\n",
       "      <td>2023-03-01</td>\n",
       "      <td>00:00:59</td>\n",
       "      <td>2023-03-01</td>\n",
       "      <td>00:18:07.443132</td>\n",
       "      <td>Night</td>\n",
       "    </tr>\n",
       "    <tr>\n",
       "      <th>1</th>\n",
       "      <td>1523112</td>\n",
       "      <td>2023-03-01 00:03:59</td>\n",
       "      <td>2023-03-01 00:19:34.925241</td>\n",
       "      <td>15.598754</td>\n",
       "      <td>2023-03-01</td>\n",
       "      <td>00:03:59</td>\n",
       "      <td>2023-03-01</td>\n",
       "      <td>00:19:34.925241</td>\n",
       "      <td>Night</td>\n",
       "    </tr>\n",
       "    <tr>\n",
       "      <th>2</th>\n",
       "      <td>1523113</td>\n",
       "      <td>2023-03-01 00:07:22</td>\n",
       "      <td>2023-03-01 00:22:28.291385</td>\n",
       "      <td>15.104856</td>\n",
       "      <td>2023-03-01</td>\n",
       "      <td>00:07:22</td>\n",
       "      <td>2023-03-01</td>\n",
       "      <td>00:22:28.291385</td>\n",
       "      <td>Night</td>\n",
       "    </tr>\n",
       "    <tr>\n",
       "      <th>3</th>\n",
       "      <td>1523114</td>\n",
       "      <td>2023-03-01 00:07:47</td>\n",
       "      <td>2023-03-01 00:46:19.019399</td>\n",
       "      <td>38.533657</td>\n",
       "      <td>2023-03-01</td>\n",
       "      <td>00:07:47</td>\n",
       "      <td>2023-03-01</td>\n",
       "      <td>00:46:19.019399</td>\n",
       "      <td>Night</td>\n",
       "    </tr>\n",
       "    <tr>\n",
       "      <th>4</th>\n",
       "      <td>1523115</td>\n",
       "      <td>2023-03-01 00:09:03</td>\n",
       "      <td>2023-03-01 00:25:13.619056</td>\n",
       "      <td>16.176984</td>\n",
       "      <td>2023-03-01</td>\n",
       "      <td>00:09:03</td>\n",
       "      <td>2023-03-01</td>\n",
       "      <td>00:25:13.619056</td>\n",
       "      <td>Night</td>\n",
       "    </tr>\n",
       "  </tbody>\n",
       "</table>\n",
       "</div>"
      ],
      "text/plain": [
       "   order_id     order_placed_at         order_delivered_at  \\\n",
       "0   1523111 2023-03-01 00:00:59 2023-03-01 00:18:07.443132   \n",
       "1   1523112 2023-03-01 00:03:59 2023-03-01 00:19:34.925241   \n",
       "2   1523113 2023-03-01 00:07:22 2023-03-01 00:22:28.291385   \n",
       "3   1523114 2023-03-01 00:07:47 2023-03-01 00:46:19.019399   \n",
       "4   1523115 2023-03-01 00:09:03 2023-03-01 00:25:13.619056   \n",
       "\n",
       "   time_taken_for_delivery order_placed_date order_placed_time  \\\n",
       "0                17.140719        2023-03-01          00:00:59   \n",
       "1                15.598754        2023-03-01          00:03:59   \n",
       "2                15.104856        2023-03-01          00:07:22   \n",
       "3                38.533657        2023-03-01          00:07:47   \n",
       "4                16.176984        2023-03-01          00:09:03   \n",
       "\n",
       "  order_delivered_date order_delivered_time time_period  \n",
       "0           2023-03-01      00:18:07.443132       Night  \n",
       "1           2023-03-01      00:19:34.925241       Night  \n",
       "2           2023-03-01      00:22:28.291385       Night  \n",
       "3           2023-03-01      00:46:19.019399       Night  \n",
       "4           2023-03-01      00:25:13.619056       Night  "
      ]
     },
     "execution_count": 16,
     "metadata": {},
     "output_type": "execute_result"
    }
   ],
   "source": [
    "df.head()"
   ]
  },
  {
   "cell_type": "code",
   "execution_count": 17,
   "metadata": {
    "ExecuteTime": {
     "end_time": "2023-03-30T17:00:17.096083Z",
     "start_time": "2023-03-30T17:00:17.083117Z"
    },
    "colab": {
     "base_uri": "https://localhost:8080/"
    },
    "id": "w_UIWk_M4-BC",
    "outputId": "03a30d9c-57b1-4415-ed1e-bd7a605f7a8c"
   },
   "outputs": [
    {
     "data": {
      "text/plain": [
       "Morning       5002\n",
       "Night         3785\n",
       "Afternoon     2452\n",
       "Evening       1889\n",
       "Late Night    1872\n",
       "Name: time_period, dtype: int64"
      ]
     },
     "execution_count": 17,
     "metadata": {},
     "output_type": "execute_result"
    }
   ],
   "source": [
    "# countplot for 'time_period' column\n",
    "\n",
    "df['time_period'].value_counts()"
   ]
  },
  {
   "cell_type": "code",
   "execution_count": 18,
   "metadata": {
    "ExecuteTime": {
     "end_time": "2023-03-30T17:00:26.314710Z",
     "start_time": "2023-03-30T17:00:25.973613Z"
    },
    "colab": {
     "base_uri": "https://localhost:8080/",
     "height": 467
    },
    "id": "harmZv-c4-D6",
    "outputId": "5952462b-1035-4f68-d1d9-58b6df662512"
   },
   "outputs": [
    {
     "data": {
      "image/png": "[encoded data removed]",
      "text/plain": [
       "<Figure size 432x288 with 1 Axes>"
      ]
     },
     "metadata": {
      "needs_background": "light"
     },
     "output_type": "display_data"
    }
   ],
   "source": [
    "sns.histplot(df['time_period'])\n",
    "plt.show()"
   ]
  },
  {
   "cell_type": "markdown",
   "metadata": {
    "id": "AR2vnmGi6D32"
   },
   "source": [
    "## Report\n",
    "* **During 4am to 12pm (`Morning`) around 5002 orders are placed, 3785 at `Night` and 2452 at `Afternoon`**\n",
    "\n",
    " ### Conclusion\n",
    "* We can conclude that we should need more `delivery person` for **Morning** and **Afternoon** shift."
   ]
  },
  {
   "cell_type": "code",
   "execution_count": 19,
   "metadata": {
    "ExecuteTime": {
     "end_time": "2023-03-30T17:04:38.001039Z",
     "start_time": "2023-03-30T17:04:37.990066Z"
    },
    "id": "NvRXsLsR4g-b"
   },
   "outputs": [],
   "source": [
    "# Dropping feature 'order_placed_at' and 'order_delivered_at'\n",
    "\n",
    "df.drop(['order_placed_at', 'order_delivered_at'], axis=1, inplace=True)"
   ]
  },
  {
   "cell_type": "code",
   "execution_count": 20,
   "metadata": {
    "ExecuteTime": {
     "end_time": "2023-03-30T17:04:39.087822Z",
     "start_time": "2023-03-30T17:04:39.066880Z"
    },
    "colab": {
     "base_uri": "https://localhost:8080/",
     "height": 206
    },
    "id": "HjIKUaOi8kx3",
    "outputId": "1ca1d4db-84f2-48b6-bb8f-57841b9f8994"
   },
   "outputs": [
    {
     "data": {
      "text/html": [
       "<div>\n",
       "<style scoped>\n",
       "    .dataframe tbody tr th:only-of-type {\n",
       "        vertical-align: middle;\n",
       "    }\n",
       "\n",
       "    .dataframe tbody tr th {\n",
       "        vertical-align: top;\n",
       "    }\n",
       "\n",
       "    .dataframe thead th {\n",
       "        text-align: right;\n",
       "    }\n",
       "</style>\n",
       "<table border=\"1\" class=\"dataframe\">\n",
       "  <thead>\n",
       "    <tr style=\"text-align: right;\">\n",
       "      <th></th>\n",
       "      <th>order_id</th>\n",
       "      <th>time_taken_for_delivery</th>\n",
       "      <th>order_placed_date</th>\n",
       "      <th>order_placed_time</th>\n",
       "      <th>order_delivered_date</th>\n",
       "      <th>order_delivered_time</th>\n",
       "      <th>time_period</th>\n",
       "    </tr>\n",
       "  </thead>\n",
       "  <tbody>\n",
       "    <tr>\n",
       "      <th>0</th>\n",
       "      <td>1523111</td>\n",
       "      <td>17.140719</td>\n",
       "      <td>2023-03-01</td>\n",
       "      <td>00:00:59</td>\n",
       "      <td>2023-03-01</td>\n",
       "      <td>00:18:07.443132</td>\n",
       "      <td>Night</td>\n",
       "    </tr>\n",
       "    <tr>\n",
       "      <th>1</th>\n",
       "      <td>1523112</td>\n",
       "      <td>15.598754</td>\n",
       "      <td>2023-03-01</td>\n",
       "      <td>00:03:59</td>\n",
       "      <td>2023-03-01</td>\n",
       "      <td>00:19:34.925241</td>\n",
       "      <td>Night</td>\n",
       "    </tr>\n",
       "    <tr>\n",
       "      <th>2</th>\n",
       "      <td>1523113</td>\n",
       "      <td>15.104856</td>\n",
       "      <td>2023-03-01</td>\n",
       "      <td>00:07:22</td>\n",
       "      <td>2023-03-01</td>\n",
       "      <td>00:22:28.291385</td>\n",
       "      <td>Night</td>\n",
       "    </tr>\n",
       "    <tr>\n",
       "      <th>3</th>\n",
       "      <td>1523114</td>\n",
       "      <td>38.533657</td>\n",
       "      <td>2023-03-01</td>\n",
       "      <td>00:07:47</td>\n",
       "      <td>2023-03-01</td>\n",
       "      <td>00:46:19.019399</td>\n",
       "      <td>Night</td>\n",
       "    </tr>\n",
       "    <tr>\n",
       "      <th>4</th>\n",
       "      <td>1523115</td>\n",
       "      <td>16.176984</td>\n",
       "      <td>2023-03-01</td>\n",
       "      <td>00:09:03</td>\n",
       "      <td>2023-03-01</td>\n",
       "      <td>00:25:13.619056</td>\n",
       "      <td>Night</td>\n",
       "    </tr>\n",
       "  </tbody>\n",
       "</table>\n",
       "</div>"
      ],
      "text/plain": [
       "   order_id  time_taken_for_delivery order_placed_date order_placed_time  \\\n",
       "0   1523111                17.140719        2023-03-01          00:00:59   \n",
       "1   1523112                15.598754        2023-03-01          00:03:59   \n",
       "2   1523113                15.104856        2023-03-01          00:07:22   \n",
       "3   1523114                38.533657        2023-03-01          00:07:47   \n",
       "4   1523115                16.176984        2023-03-01          00:09:03   \n",
       "\n",
       "  order_delivered_date order_delivered_time time_period  \n",
       "0           2023-03-01      00:18:07.443132       Night  \n",
       "1           2023-03-01      00:19:34.925241       Night  \n",
       "2           2023-03-01      00:22:28.291385       Night  \n",
       "3           2023-03-01      00:46:19.019399       Night  \n",
       "4           2023-03-01      00:25:13.619056       Night  "
      ]
     },
     "execution_count": 20,
     "metadata": {},
     "output_type": "execute_result"
    }
   ],
   "source": [
    "df.head()"
   ]
  },
  {
   "cell_type": "code",
   "execution_count": 21,
   "metadata": {
    "ExecuteTime": {
     "end_time": "2023-03-30T17:04:42.214265Z",
     "start_time": "2023-03-30T17:04:42.199306Z"
    },
    "colab": {
     "base_uri": "https://localhost:8080/"
    },
    "id": "hhJ_AtUt_E02",
    "outputId": "11e11c3a-f3ea-4c33-b059-ea5de2d6527f"
   },
   "outputs": [
    {
     "data": {
      "text/plain": [
       "order_id                     int64\n",
       "time_taken_for_delivery    float64\n",
       "order_placed_date           object\n",
       "order_placed_time           object\n",
       "order_delivered_date        object\n",
       "order_delivered_time        object\n",
       "time_period                 object\n",
       "dtype: object"
      ]
     },
     "execution_count": 21,
     "metadata": {},
     "output_type": "execute_result"
    }
   ],
   "source": [
    "df.dtypes"
   ]
  },
  {
   "cell_type": "code",
   "execution_count": 22,
   "metadata": {
    "ExecuteTime": {
     "end_time": "2023-03-30T17:04:49.378693Z",
     "start_time": "2023-03-30T17:04:49.355756Z"
    },
    "id": "5O2VNcp-tw3l"
   },
   "outputs": [],
   "source": [
    "df['order_placed_day']= pd.to_datetime(df['order_placed_date']).dt.day_name()"
   ]
  },
  {
   "cell_type": "code",
   "execution_count": 23,
   "metadata": {
    "ExecuteTime": {
     "end_time": "2023-03-30T17:04:59.807786Z",
     "start_time": "2023-03-30T17:04:59.779864Z"
    },
    "id": "VmjoZAMQu4Pk"
   },
   "outputs": [],
   "source": [
    "df['order_delivered_day']= pd.to_datetime(df['order_delivered_date']).dt.day_name()"
   ]
  },
  {
   "cell_type": "code",
   "execution_count": 24,
   "metadata": {
    "ExecuteTime": {
     "end_time": "2023-03-30T17:05:00.829626Z",
     "start_time": "2023-03-30T17:05:00.797714Z"
    },
    "colab": {
     "base_uri": "https://localhost:8080/",
     "height": 206
    },
    "id": "E7WN2ZXlu_uO",
    "outputId": "84cef0f0-7c6d-4dd9-8bb7-3efc75d736b6"
   },
   "outputs": [
    {
     "data": {
      "text/html": [
       "<div>\n",
       "<style scoped>\n",
       "    .dataframe tbody tr th:only-of-type {\n",
       "        vertical-align: middle;\n",
       "    }\n",
       "\n",
       "    .dataframe tbody tr th {\n",
       "        vertical-align: top;\n",
       "    }\n",
       "\n",
       "    .dataframe thead th {\n",
       "        text-align: right;\n",
       "    }\n",
       "</style>\n",
       "<table border=\"1\" class=\"dataframe\">\n",
       "  <thead>\n",
       "    <tr style=\"text-align: right;\">\n",
       "      <th></th>\n",
       "      <th>order_id</th>\n",
       "      <th>time_taken_for_delivery</th>\n",
       "      <th>order_placed_date</th>\n",
       "      <th>order_placed_time</th>\n",
       "      <th>order_delivered_date</th>\n",
       "      <th>order_delivered_time</th>\n",
       "      <th>time_period</th>\n",
       "      <th>order_placed_day</th>\n",
       "      <th>order_delivered_day</th>\n",
       "    </tr>\n",
       "  </thead>\n",
       "  <tbody>\n",
       "    <tr>\n",
       "      <th>0</th>\n",
       "      <td>1523111</td>\n",
       "      <td>17.140719</td>\n",
       "      <td>2023-03-01</td>\n",
       "      <td>00:00:59</td>\n",
       "      <td>2023-03-01</td>\n",
       "      <td>00:18:07.443132</td>\n",
       "      <td>Night</td>\n",
       "      <td>Wednesday</td>\n",
       "      <td>Wednesday</td>\n",
       "    </tr>\n",
       "    <tr>\n",
       "      <th>1</th>\n",
       "      <td>1523112</td>\n",
       "      <td>15.598754</td>\n",
       "      <td>2023-03-01</td>\n",
       "      <td>00:03:59</td>\n",
       "      <td>2023-03-01</td>\n",
       "      <td>00:19:34.925241</td>\n",
       "      <td>Night</td>\n",
       "      <td>Wednesday</td>\n",
       "      <td>Wednesday</td>\n",
       "    </tr>\n",
       "    <tr>\n",
       "      <th>2</th>\n",
       "      <td>1523113</td>\n",
       "      <td>15.104856</td>\n",
       "      <td>2023-03-01</td>\n",
       "      <td>00:07:22</td>\n",
       "      <td>2023-03-01</td>\n",
       "      <td>00:22:28.291385</td>\n",
       "      <td>Night</td>\n",
       "      <td>Wednesday</td>\n",
       "      <td>Wednesday</td>\n",
       "    </tr>\n",
       "    <tr>\n",
       "      <th>3</th>\n",
       "      <td>1523114</td>\n",
       "      <td>38.533657</td>\n",
       "      <td>2023-03-01</td>\n",
       "      <td>00:07:47</td>\n",
       "      <td>2023-03-01</td>\n",
       "      <td>00:46:19.019399</td>\n",
       "      <td>Night</td>\n",
       "      <td>Wednesday</td>\n",
       "      <td>Wednesday</td>\n",
       "    </tr>\n",
       "    <tr>\n",
       "      <th>4</th>\n",
       "      <td>1523115</td>\n",
       "      <td>16.176984</td>\n",
       "      <td>2023-03-01</td>\n",
       "      <td>00:09:03</td>\n",
       "      <td>2023-03-01</td>\n",
       "      <td>00:25:13.619056</td>\n",
       "      <td>Night</td>\n",
       "      <td>Wednesday</td>\n",
       "      <td>Wednesday</td>\n",
       "    </tr>\n",
       "  </tbody>\n",
       "</table>\n",
       "</div>"
      ],
      "text/plain": [
       "   order_id  time_taken_for_delivery order_placed_date order_placed_time  \\\n",
       "0   1523111                17.140719        2023-03-01          00:00:59   \n",
       "1   1523112                15.598754        2023-03-01          00:03:59   \n",
       "2   1523113                15.104856        2023-03-01          00:07:22   \n",
       "3   1523114                38.533657        2023-03-01          00:07:47   \n",
       "4   1523115                16.176984        2023-03-01          00:09:03   \n",
       "\n",
       "  order_delivered_date order_delivered_time time_period order_placed_day  \\\n",
       "0           2023-03-01      00:18:07.443132       Night        Wednesday   \n",
       "1           2023-03-01      00:19:34.925241       Night        Wednesday   \n",
       "2           2023-03-01      00:22:28.291385       Night        Wednesday   \n",
       "3           2023-03-01      00:46:19.019399       Night        Wednesday   \n",
       "4           2023-03-01      00:25:13.619056       Night        Wednesday   \n",
       "\n",
       "  order_delivered_day  \n",
       "0           Wednesday  \n",
       "1           Wednesday  \n",
       "2           Wednesday  \n",
       "3           Wednesday  \n",
       "4           Wednesday  "
      ]
     },
     "execution_count": 24,
     "metadata": {},
     "output_type": "execute_result"
    }
   ],
   "source": [
    "df.head()"
   ]
  },
  {
   "cell_type": "markdown",
   "metadata": {
    "id": "grvY-VxYAAEb"
   },
   "source": [
    "## Report \n",
    "\n",
    "**Anyways delivery time will never be more than `2Hr`** OR **We can conclude that Maximum Time taken by the delivery person is 2Hr**\n",
    "\n",
    "If customer placed order at 23.50 delivary will be reached on next day that's why we created 'order_delivered_day' feature else 'order_placed_day' feature is enough."
   ]
  },
  {
   "cell_type": "code",
   "execution_count": 25,
   "metadata": {
    "ExecuteTime": {
     "end_time": "2023-03-30T17:08:00.352932Z",
     "start_time": "2023-03-30T17:08:00.335974Z"
    },
    "colab": {
     "base_uri": "https://localhost:8080/"
    },
    "id": "T8lynDDID7AX",
    "outputId": "325be28e-4fd1-4717-9ecb-a7566f981a37"
   },
   "outputs": [
    {
     "data": {
      "text/plain": [
       "Thursday     2280\n",
       "Wednesday    2259\n",
       "Monday       2256\n",
       "Friday       2223\n",
       "Saturday     2209\n",
       "Sunday       2191\n",
       "Tuesday      1582\n",
       "Name: order_placed_day, dtype: int64"
      ]
     },
     "execution_count": 25,
     "metadata": {},
     "output_type": "execute_result"
    }
   ],
   "source": [
    "# Countplot for 'order_placed_day'\n",
    "\n",
    "df['order_placed_day'].value_counts()"
   ]
  },
  {
   "cell_type": "code",
   "execution_count": 26,
   "metadata": {
    "ExecuteTime": {
     "end_time": "2023-03-30T17:08:15.756974Z",
     "start_time": "2023-03-30T17:08:15.519611Z"
    },
    "colab": {
     "base_uri": "https://localhost:8080/",
     "height": 482
    },
    "id": "h6YSrvEUBIEE",
    "outputId": "09884fe1-f104-4ba1-fceb-4fc6e068339d"
   },
   "outputs": [
    {
     "data": {
      "image/png": "[encoded data removed]",
      "text/plain": [
       "<Figure size 576x360 with 1 Axes>"
      ]
     },
     "metadata": {
      "needs_background": "light"
     },
     "output_type": "display_data"
    }
   ],
   "source": [
    "# countplot for feature order_placed_day\n",
    "plt.figure(figsize= (8,5))\n",
    "sns.histplot(df['order_placed_day'])\n",
    "plt.show()"
   ]
  },
  {
   "cell_type": "markdown",
   "metadata": {
    "id": "9YbIjIIt2v1Y"
   },
   "source": [
    "## Report\n",
    "\n",
    "Except **Tuesday** all others day has appox equal number of ordered placed\n",
    "\n",
    "On **Tuesday** we should give some discount or offers to customers to increase orders on that day."
   ]
  },
  {
   "cell_type": "code",
   "execution_count": 27,
   "metadata": {
    "ExecuteTime": {
     "end_time": "2023-03-30T17:09:28.382636Z",
     "start_time": "2023-03-30T17:09:28.363687Z"
    },
    "colab": {
     "base_uri": "https://localhost:8080/",
     "height": 81
    },
    "id": "V38gSwXb1eI4",
    "outputId": "d6166d31-8730-4438-add1-ff97c9f16577"
   },
   "outputs": [
    {
     "data": {
      "text/html": [
       "<div>\n",
       "<style scoped>\n",
       "    .dataframe tbody tr th:only-of-type {\n",
       "        vertical-align: middle;\n",
       "    }\n",
       "\n",
       "    .dataframe tbody tr th {\n",
       "        vertical-align: top;\n",
       "    }\n",
       "\n",
       "    .dataframe thead th {\n",
       "        text-align: right;\n",
       "    }\n",
       "</style>\n",
       "<table border=\"1\" class=\"dataframe\">\n",
       "  <thead>\n",
       "    <tr style=\"text-align: right;\">\n",
       "      <th></th>\n",
       "      <th>order_id</th>\n",
       "      <th>time_taken_for_delivery</th>\n",
       "      <th>order_placed_date</th>\n",
       "      <th>order_placed_time</th>\n",
       "      <th>order_delivered_date</th>\n",
       "      <th>order_delivered_time</th>\n",
       "      <th>time_period</th>\n",
       "      <th>order_placed_day</th>\n",
       "      <th>order_delivered_day</th>\n",
       "    </tr>\n",
       "  </thead>\n",
       "  <tbody>\n",
       "    <tr>\n",
       "      <th>0</th>\n",
       "      <td>1523111</td>\n",
       "      <td>17.140719</td>\n",
       "      <td>2023-03-01</td>\n",
       "      <td>00:00:59</td>\n",
       "      <td>2023-03-01</td>\n",
       "      <td>00:18:07.443132</td>\n",
       "      <td>Night</td>\n",
       "      <td>Wednesday</td>\n",
       "      <td>Wednesday</td>\n",
       "    </tr>\n",
       "  </tbody>\n",
       "</table>\n",
       "</div>"
      ],
      "text/plain": [
       "   order_id  time_taken_for_delivery order_placed_date order_placed_time  \\\n",
       "0   1523111                17.140719        2023-03-01          00:00:59   \n",
       "\n",
       "  order_delivered_date order_delivered_time time_period order_placed_day  \\\n",
       "0           2023-03-01      00:18:07.443132       Night        Wednesday   \n",
       "\n",
       "  order_delivered_day  \n",
       "0           Wednesday  "
      ]
     },
     "execution_count": 27,
     "metadata": {},
     "output_type": "execute_result"
    }
   ],
   "source": [
    "df.head(1)"
   ]
  },
  {
   "cell_type": "code",
   "execution_count": 28,
   "metadata": {
    "ExecuteTime": {
     "end_time": "2023-03-30T17:09:30.376113Z",
     "start_time": "2023-03-30T17:09:30.366138Z"
    },
    "colab": {
     "base_uri": "https://localhost:8080/"
    },
    "id": "Gh9a_Auh98SY",
    "outputId": "f00ccabc-c029-4e10-bd90-103a5e707562"
   },
   "outputs": [
    {
     "data": {
      "text/plain": [
       "order_id                     int64\n",
       "time_taken_for_delivery    float64\n",
       "order_placed_date           object\n",
       "order_placed_time           object\n",
       "order_delivered_date        object\n",
       "order_delivered_time        object\n",
       "time_period                 object\n",
       "order_placed_day            object\n",
       "order_delivered_day         object\n",
       "dtype: object"
      ]
     },
     "execution_count": 28,
     "metadata": {},
     "output_type": "execute_result"
    }
   ],
   "source": [
    "df.dtypes"
   ]
  },
  {
   "cell_type": "code",
   "execution_count": 29,
   "metadata": {
    "ExecuteTime": {
     "end_time": "2023-03-30T17:09:39.084606Z",
     "start_time": "2023-03-30T17:09:39.073624Z"
    },
    "colab": {
     "base_uri": "https://localhost:8080/"
    },
    "id": "LqorNcTKCKnQ",
    "outputId": "ca0baa12-19fb-44b6-8db3-8ee9d7f1d860"
   },
   "outputs": [
    {
     "data": {
      "text/plain": [
       "15.000010333333334"
      ]
     },
     "execution_count": 29,
     "metadata": {},
     "output_type": "execute_result"
    }
   ],
   "source": [
    "# analysing feature 'time_taken_for_delivery'\n",
    "\n",
    "df['time_taken_for_delivery'].min()"
   ]
  },
  {
   "cell_type": "markdown",
   "metadata": {},
   "source": [
    "**Minimum time taken to delivery is just `15 Min.`**"
   ]
  },
  {
   "cell_type": "code",
   "execution_count": 30,
   "metadata": {
    "ExecuteTime": {
     "end_time": "2023-03-30T17:10:35.256786Z",
     "start_time": "2023-03-30T17:10:35.236839Z"
    },
    "colab": {
     "base_uri": "https://localhost:8080/"
    },
    "id": "9lrXD_HuF43L",
    "outputId": "28ac789d-3efd-44ac-f5ef-f85dcb809c21"
   },
   "outputs": [
    {
     "data": {
      "text/plain": [
       "20.49938932646778"
      ]
     },
     "execution_count": 30,
     "metadata": {},
     "output_type": "execute_result"
    }
   ],
   "source": [
    "df['time_taken_for_delivery'].mean()"
   ]
  },
  {
   "cell_type": "markdown",
   "metadata": {},
   "source": [
    "**Average time taken to delivery is just `20 Min.`**"
   ]
  },
  {
   "cell_type": "code",
   "execution_count": 31,
   "metadata": {
    "ExecuteTime": {
     "end_time": "2023-03-30T17:11:05.156362Z",
     "start_time": "2023-03-30T17:11:05.142380Z"
    },
    "colab": {
     "base_uri": "https://localhost:8080/"
    },
    "id": "pDsa6Y2GG8d5",
    "outputId": "60cc586f-2110-423c-e5c0-f7ca2f91e1ba"
   },
   "outputs": [
    {
     "data": {
      "text/plain": [
       "15.797986066666667"
      ]
     },
     "execution_count": 31,
     "metadata": {},
     "output_type": "execute_result"
    }
   ],
   "source": [
    "df['time_taken_for_delivery'].median()"
   ]
  },
  {
   "cell_type": "markdown",
   "metadata": {},
   "source": [
    "**Median time taken to delivery is just `15.8 Min.`**"
   ]
  },
  {
   "cell_type": "code",
   "execution_count": 32,
   "metadata": {
    "ExecuteTime": {
     "end_time": "2023-03-30T17:11:35.422245Z",
     "start_time": "2023-03-30T17:11:35.412274Z"
    },
    "colab": {
     "base_uri": "https://localhost:8080/"
    },
    "id": "dy5tfZMrHAXV",
    "outputId": "1505a2a8-c248-4ab9-b797-89ff6037287a",
    "scrolled": true
   },
   "outputs": [
    {
     "data": {
      "text/plain": [
       "7299.831374933333"
      ]
     },
     "execution_count": 32,
     "metadata": {},
     "output_type": "execute_result"
    }
   ],
   "source": [
    "df['time_taken_for_delivery'].max()"
   ]
  },
  {
   "cell_type": "markdown",
   "metadata": {},
   "source": [
    "**Maximum time taken to delivery is just `7299.8 Min.`**"
   ]
  },
  {
   "cell_type": "code",
   "execution_count": 33,
   "metadata": {
    "ExecuteTime": {
     "end_time": "2023-03-30T17:12:00.664988Z",
     "start_time": "2023-03-30T17:12:00.646049Z"
    },
    "colab": {
     "base_uri": "https://localhost:8080/"
    },
    "id": "j6wbjiNfHMUb",
    "outputId": "71cf00c2-769e-405a-f398-72b16cf7b45f"
   },
   "outputs": [
    {
     "data": {
      "text/plain": [
       "27.261043996666658"
      ]
     },
     "execution_count": 33,
     "metadata": {},
     "output_type": "execute_result"
    }
   ],
   "source": [
    "df['time_taken_for_delivery'].quantile(0.95)"
   ]
  },
  {
   "cell_type": "markdown",
   "metadata": {},
   "source": [
    "**(95th Quartile of time taken to delivery is just `27.2 Min.`**"
   ]
  },
  {
   "cell_type": "code",
   "execution_count": 35,
   "metadata": {
    "ExecuteTime": {
     "end_time": "2023-03-30T17:12:57.580428Z",
     "start_time": "2023-03-30T17:12:57.437810Z"
    },
    "colab": {
     "base_uri": "https://localhost:8080/",
     "height": 462
    },
    "id": "HDoXJSjhHc4U",
    "outputId": "44b48efc-c216-44cd-df91-606d761d2d79"
   },
   "outputs": [
    {
     "name": "stderr",
     "output_type": "stream",
     "text": [
      "C:\\Users\\hp\\anaconda3\\lib\\site-packages\\seaborn\\_decorators.py:36: FutureWarning: Pass the following variable as a keyword arg: x. From version 0.12, the only valid positional argument will be `data`, and passing other arguments without an explicit keyword will result in an error or misinterpretation.\n",
      "  warnings.warn(\n"
     ]
    },
    {
     "data": {
      "image/png": "[encoded data removed]",
      "text/plain": [
       "<Figure size 864x360 with 1 Axes>"
      ]
     },
     "metadata": {
      "needs_background": "light"
     },
     "output_type": "display_data"
    }
   ],
   "source": [
    "plt.figure(figsize=(12,5))\n",
    "sns.boxplot(df['time_taken_for_delivery'])\n",
    "plt.show()"
   ]
  },
  {
   "cell_type": "code",
   "execution_count": 36,
   "metadata": {
    "ExecuteTime": {
     "end_time": "2023-03-30T17:13:13.357605Z",
     "start_time": "2023-03-30T17:13:13.001557Z"
    },
    "colab": {
     "base_uri": "https://localhost:8080/",
     "height": 523
    },
    "id": "SKfND03rrW5F",
    "outputId": "c675c296-81ac-4671-e93a-d384b6326d5f"
   },
   "outputs": [
    {
     "data": {
      "image/png": "[encoded data removed]",
      "text/plain": [
       "<Figure size 360x360 with 1 Axes>"
      ]
     },
     "metadata": {
      "needs_background": "light"
     },
     "output_type": "display_data"
    }
   ],
   "source": [
    "sns.displot(df['time_taken_for_delivery'], kind='kde')\n",
    "plt.show()"
   ]
  },
  {
   "cell_type": "code",
   "execution_count": 39,
   "metadata": {
    "ExecuteTime": {
     "end_time": "2023-03-30T17:13:53.590305Z",
     "start_time": "2023-03-30T17:13:53.574348Z"
    },
    "colab": {
     "base_uri": "https://localhost:8080/"
    },
    "id": "tWoAY-dSHpVY",
    "outputId": "c536c6d8-2ba0-427a-fca7-41133619c9ed"
   },
   "outputs": [
    {
     "name": "stdout",
     "output_type": "stream",
     "text": [
      "Out of 15k deliveries 604 deliveries are late\n"
     ]
    }
   ],
   "source": [
    "count=0\n",
    "for i in df['time_taken_for_delivery']:\n",
    "    if i > 30.00:\n",
    "        count=count+1\n",
    "print(f\"Out of 15k deliveries {count} deliveries are late\")"
   ]
  },
  {
   "cell_type": "markdown",
   "metadata": {},
   "source": [
    "**There are 604 Deliveries which are late out of 15,000.** OR **We can say that only 4% deliveries are late.**"
   ]
  },
  {
   "cell_type": "code",
   "execution_count": 40,
   "metadata": {
    "ExecuteTime": {
     "end_time": "2023-03-30T17:16:28.498851Z",
     "start_time": "2023-03-30T17:16:28.481895Z"
    },
    "colab": {
     "base_uri": "https://localhost:8080/"
    },
    "id": "wUGKxK0OIThL",
    "outputId": "7d016ee5-982e-4803-d228-d9c5bd1c53eb"
   },
   "outputs": [
    {
     "data": {
      "text/plain": [
       "(15000, 9)"
      ]
     },
     "execution_count": 40,
     "metadata": {},
     "output_type": "execute_result"
    }
   ],
   "source": [
    "df.shape"
   ]
  },
  {
   "cell_type": "code",
   "execution_count": 41,
   "metadata": {
    "ExecuteTime": {
     "end_time": "2023-03-30T17:17:00.413281Z",
     "start_time": "2023-03-30T17:17:00.384358Z"
    },
    "colab": {
     "base_uri": "https://localhost:8080/",
     "height": 206
    },
    "id": "xtMkqDBMIthP",
    "outputId": "56a2f5ea-f8df-4f18-ddbd-747d2aab6cac"
   },
   "outputs": [
    {
     "data": {
      "text/html": [
       "<div>\n",
       "<style scoped>\n",
       "    .dataframe tbody tr th:only-of-type {\n",
       "        vertical-align: middle;\n",
       "    }\n",
       "\n",
       "    .dataframe tbody tr th {\n",
       "        vertical-align: top;\n",
       "    }\n",
       "\n",
       "    .dataframe thead th {\n",
       "        text-align: right;\n",
       "    }\n",
       "</style>\n",
       "<table border=\"1\" class=\"dataframe\">\n",
       "  <thead>\n",
       "    <tr style=\"text-align: right;\">\n",
       "      <th></th>\n",
       "      <th>order_id</th>\n",
       "      <th>time_taken_for_delivery</th>\n",
       "      <th>order_placed_date</th>\n",
       "      <th>order_placed_time</th>\n",
       "      <th>order_delivered_date</th>\n",
       "      <th>order_delivered_time</th>\n",
       "      <th>time_period</th>\n",
       "      <th>order_placed_day</th>\n",
       "      <th>order_delivered_day</th>\n",
       "    </tr>\n",
       "  </thead>\n",
       "  <tbody>\n",
       "    <tr>\n",
       "      <th>4165</th>\n",
       "      <td>1527276</td>\n",
       "      <td>5867.434753</td>\n",
       "      <td>2023-03-08</td>\n",
       "      <td>09:46:43</td>\n",
       "      <td>2023-03-12</td>\n",
       "      <td>11:34:09.085175</td>\n",
       "      <td>Morning</td>\n",
       "      <td>Wednesday</td>\n",
       "      <td>Sunday</td>\n",
       "    </tr>\n",
       "    <tr>\n",
       "      <th>5499</th>\n",
       "      <td>1528610</td>\n",
       "      <td>7299.831375</td>\n",
       "      <td>2023-03-10</td>\n",
       "      <td>17:06:22</td>\n",
       "      <td>2023-03-15</td>\n",
       "      <td>18:46:11.882496</td>\n",
       "      <td>Evening</td>\n",
       "      <td>Friday</td>\n",
       "      <td>Wednesday</td>\n",
       "    </tr>\n",
       "    <tr>\n",
       "      <th>10007</th>\n",
       "      <td>1533118</td>\n",
       "      <td>2883.124250</td>\n",
       "      <td>2023-03-19</td>\n",
       "      <td>00:56:34</td>\n",
       "      <td>2023-03-21</td>\n",
       "      <td>00:59:41.454974</td>\n",
       "      <td>Night</td>\n",
       "      <td>Sunday</td>\n",
       "      <td>Tuesday</td>\n",
       "    </tr>\n",
       "    <tr>\n",
       "      <th>10225</th>\n",
       "      <td>1533336</td>\n",
       "      <td>4485.891210</td>\n",
       "      <td>2023-03-19</td>\n",
       "      <td>11:07:32</td>\n",
       "      <td>2023-03-22</td>\n",
       "      <td>13:53:25.472592</td>\n",
       "      <td>Morning</td>\n",
       "      <td>Sunday</td>\n",
       "      <td>Wednesday</td>\n",
       "    </tr>\n",
       "    <tr>\n",
       "      <th>14155</th>\n",
       "      <td>1537266</td>\n",
       "      <td>3888.444088</td>\n",
       "      <td>2023-03-26</td>\n",
       "      <td>09:54:24</td>\n",
       "      <td>2023-03-29</td>\n",
       "      <td>02:42:50.645252</td>\n",
       "      <td>Morning</td>\n",
       "      <td>Sunday</td>\n",
       "      <td>Wednesday</td>\n",
       "    </tr>\n",
       "  </tbody>\n",
       "</table>\n",
       "</div>"
      ],
      "text/plain": [
       "       order_id  time_taken_for_delivery order_placed_date order_placed_time  \\\n",
       "4165    1527276              5867.434753        2023-03-08          09:46:43   \n",
       "5499    1528610              7299.831375        2023-03-10          17:06:22   \n",
       "10007   1533118              2883.124250        2023-03-19          00:56:34   \n",
       "10225   1533336              4485.891210        2023-03-19          11:07:32   \n",
       "14155   1537266              3888.444088        2023-03-26          09:54:24   \n",
       "\n",
       "      order_delivered_date order_delivered_time time_period order_placed_day  \\\n",
       "4165            2023-03-12      11:34:09.085175     Morning        Wednesday   \n",
       "5499            2023-03-15      18:46:11.882496     Evening           Friday   \n",
       "10007           2023-03-21      00:59:41.454974       Night           Sunday   \n",
       "10225           2023-03-22      13:53:25.472592     Morning           Sunday   \n",
       "14155           2023-03-29      02:42:50.645252     Morning           Sunday   \n",
       "\n",
       "      order_delivered_day  \n",
       "4165               Sunday  \n",
       "5499            Wednesday  \n",
       "10007             Tuesday  \n",
       "10225           Wednesday  \n",
       "14155           Wednesday  "
      ]
     },
     "execution_count": 41,
     "metadata": {},
     "output_type": "execute_result"
    }
   ],
   "source": [
    "pd.set_option(\"display.max.rows\", None)\n",
    "\n",
    "df[df['time_taken_for_delivery'] > 1440]"
   ]
  },
  {
   "cell_type": "markdown",
   "metadata": {
    "id": "pNPfbRXVXLWA"
   },
   "source": [
    "## Report \n",
    "* **Most orders (5002) are placed at morning time between `4am - 12pm`.**\n",
    "* **Fastest order delivered in `15 Mins` (lowest time taken for one delivery)**\n",
    "* **Highest time taken for one delivery is `7299 Mins` (might be chance this order is placed through IRCTC service and the delivery is missied after next station avalible dominos restaurant they delivered the order)**\n",
    "* **Average time for one delivery is `20.49` Mins**\n",
    "* $95\\%$ **of the deliveries are delivered in time which is good for you Kanav sir**\n",
    "* $4.02\\%$ **deliveries are late which is less compare to on time delivered percentage**\n",
    "* $5$ **deliveries took more than 1 Day time to delivered.**\n",
    "\n",
    "\n",
    "## Conclusion:\n",
    "\n",
    "* **We can put more delivery boys in morning and afternoon as the no. of orders are more.**\n",
    "* **We can give some discount on Tuesday to increase the no.of order.**"
   ]
  }
 ],
 "metadata": {
  "colab": {
   "provenance": []
  },
  "kernelspec": {
   "display_name": "Python 3 (ipykernel)",
   "language": "python",
   "name": "python3"
  },
  "language_info": {
   "codemirror_mode": {
    "name": "ipython",
    "version": 3
   },
   "file_extension": ".py",
   "mimetype": "text/x-python",
   "name": "python",
   "nbconvert_exporter": "python",
   "pygments_lexer": "ipython3",
   "version": "3.9.12"
  },
  "latex_envs": {
   "LaTeX_envs_menu_present": true,
   "autoclose": false,
   "autocomplete": true,
   "bibliofile": "biblio.bib",
   "cite_by": "apalike",
   "current_citInitial": 1,
   "eqLabelWithNumbers": true,
   "eqNumInitial": 1,
   "hotkeys": {
    "equation": "Ctrl-E",
    "itemize": "Ctrl-I"
   },
   "labels_anchors": false,
   "latex_user_defs": false,
   "report_style_numbering": false,
   "user_envs_cfg": false
  },
  "nbTranslate": {
   "displayLangs": [
    "*"
   ],
   "hotkey": "alt-t",
   "langInMainMenu": true,
   "sourceLang": "en",
   "targetLang": "fr",
   "useGoogleTranslate": true
  },
  "toc": {
   "base_numbering": 1,
   "nav_menu": {},
   "number_sections": true,
   "sideBar": true,
   "skip_h1_title": false,
   "title_cell": "Table of Contents",
   "title_sidebar": "Contents",
   "toc_cell": false,
   "toc_position": {},
   "toc_section_display": true,
   "toc_window_display": false
  },
  "varInspector": {
   "cols": {
    "lenName": 16,
    "lenType": 16,
    "lenVar": 40
   },
   "kernels_config": {
    "python": {
     "delete_cmd_postfix": "",
     "delete_cmd_prefix": "del ",
     "library": "var_list.py",
     "varRefreshCmd": "print(var_dic_list())"
    },
    "r": {
     "delete_cmd_postfix": ") ",
     "delete_cmd_prefix": "rm(",
     "library": "var_list.r",
     "varRefreshCmd": "cat(var_dic_list()) "
    }
   },
   "types_to_exclude": [
    "module",
    "function",
    "builtin_function_or_method",
    "instance",
    "_Feature"
   ],
   "window_display": false
  }
 },
 "nbformat": 4,
 "nbformat_minor": 1
}
