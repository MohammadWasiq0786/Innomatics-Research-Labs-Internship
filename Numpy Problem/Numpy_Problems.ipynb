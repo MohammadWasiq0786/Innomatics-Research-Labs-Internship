{
  "nbformat": 4,
  "nbformat_minor": 0,
  "metadata": {
    "colab": {
      "provenance": []
    },
    "kernelspec": {
      "name": "python3",
      "display_name": "Python 3"
    },
    "language_info": {
      "name": "python"
    }
  },
  "cells": [
    {
      "cell_type": "markdown",
      "source": [
        "![irl](https://www.jobvacancyresult.com/storage/company/1976_innomatics.png)\n",
        "\n",
        "# Nummpy Problem\n",
        "\n",
        "## Name: Mohammad Wasiq\n",
        "\n",
        "## E-mail: `mohammadwasiq0786@gmail.com`"
      ],
      "metadata": {
        "id": "YkChYhYBJJ__"
      }
    },
    {
      "cell_type": "markdown",
      "source": [
        "# Numpy - Problem Solving"
      ],
      "metadata": {
        "id": "3Itt_i3dJMyt"
      }
    },
    {
      "cell_type": "code",
      "source": [
        "import numpy as np\n",
        "\n",
        "arr_1= np.array([[1, 2, 3], [4, 5, 6]])\n",
        "\n",
        "arr_1.shape"
      ],
      "metadata": {
        "colab": {
          "base_uri": "https://localhost:8080/"
        },
        "id": "Ry372dXYJLZb",
        "outputId": "f10b7a36-b16e-4a2c-b110-6c9a740ad0a2"
      },
      "execution_count": 1,
      "outputs": [
        {
          "output_type": "execute_result",
          "data": {
            "text/plain": [
              "(2, 3)"
            ]
          },
          "metadata": {},
          "execution_count": 1
        }
      ]
    },
    {
      "cell_type": "code",
      "source": [
        "arr_2= np.array([0, 1, 0])\n",
        "arr_2.shape"
      ],
      "metadata": {
        "colab": {
          "base_uri": "https://localhost:8080/"
        },
        "id": "SFHzkkjrJtAS",
        "outputId": "a875ff0f-ee9c-4ace-db3a-024f408b686b"
      },
      "execution_count": 2,
      "outputs": [
        {
          "output_type": "execute_result",
          "data": {
            "text/plain": [
              "(3,)"
            ]
          },
          "metadata": {},
          "execution_count": 2
        }
      ]
    },
    {
      "cell_type": "code",
      "source": [
        "arr_1 + arr_2"
      ],
      "metadata": {
        "colab": {
          "base_uri": "https://localhost:8080/"
        },
        "id": "CMVV0OtBKNsr",
        "outputId": "e8b2e77f-ce01-49fd-f5ed-7c9a380af156"
      },
      "execution_count": 3,
      "outputs": [
        {
          "output_type": "execute_result",
          "data": {
            "text/plain": [
              "array([[1, 3, 3],\n",
              "       [4, 6, 6]])"
            ]
          },
          "metadata": {},
          "execution_count": 3
        }
      ]
    },
    {
      "cell_type": "code",
      "source": [
        "arr_1= np.array([[1, 2, 3], [4, 5, 6]])\n",
        "\n",
        "arr_2= np.array([[1], [2], [0]])\n",
        "\n",
        "arr_1 + arr_2"
      ],
      "metadata": {
        "colab": {
          "base_uri": "https://localhost:8080/",
          "height": 201
        },
        "id": "7hOtcqP1LHtI",
        "outputId": "8e3dcb51-8d00-4e96-fa08-b13696e79837"
      },
      "execution_count": 4,
      "outputs": [
        {
          "output_type": "error",
          "ename": "ValueError",
          "evalue": "ignored",
          "traceback": [
            "\u001b[0;31m---------------------------------------------------------------------------\u001b[0m",
            "\u001b[0;31mValueError\u001b[0m                                Traceback (most recent call last)",
            "\u001b[0;32m<ipython-input-4-52ce7b7b59f9>\u001b[0m in \u001b[0;36m<cell line: 5>\u001b[0;34m()\u001b[0m\n\u001b[1;32m      3\u001b[0m \u001b[0marr_2\u001b[0m\u001b[0;34m=\u001b[0m \u001b[0mnp\u001b[0m\u001b[0;34m.\u001b[0m\u001b[0marray\u001b[0m\u001b[0;34m(\u001b[0m\u001b[0;34m[\u001b[0m\u001b[0;34m[\u001b[0m\u001b[0;36m1\u001b[0m\u001b[0;34m]\u001b[0m\u001b[0;34m,\u001b[0m \u001b[0;34m[\u001b[0m\u001b[0;36m2\u001b[0m\u001b[0;34m]\u001b[0m\u001b[0;34m,\u001b[0m \u001b[0;34m[\u001b[0m\u001b[0;36m0\u001b[0m\u001b[0;34m]\u001b[0m\u001b[0;34m]\u001b[0m\u001b[0;34m)\u001b[0m\u001b[0;34m\u001b[0m\u001b[0;34m\u001b[0m\u001b[0m\n\u001b[1;32m      4\u001b[0m \u001b[0;34m\u001b[0m\u001b[0m\n\u001b[0;32m----> 5\u001b[0;31m \u001b[0marr_1\u001b[0m \u001b[0;34m+\u001b[0m \u001b[0marr_2\u001b[0m\u001b[0;34m\u001b[0m\u001b[0;34m\u001b[0m\u001b[0m\n\u001b[0m",
            "\u001b[0;31mValueError\u001b[0m: operands could not be broadcast together with shapes (2,3) (3,1) "
          ]
        }
      ]
    },
    {
      "cell_type": "markdown",
      "source": [
        "## Broadcasting\n",
        "**Rules:** Start matching the dimensions backward (Right to Left)\n",
        "* Compatible - If same number appears or if one of them is 1.\n",
        "* Incompatible - Otherwise"
      ],
      "metadata": {
        "id": "fE5SKHWfJjTC"
      }
    },
    {
      "cell_type": "code",
      "source": [
        "arr_1= np.array([[1, 2, 3], [4, 5, 6]])\n",
        "\n",
        "arr_2= np.array([1, 2, 3])\n",
        "\n",
        "arr_1 + arr_2"
      ],
      "metadata": {
        "colab": {
          "base_uri": "https://localhost:8080/"
        },
        "id": "Do3Pe4j2Jg7p",
        "outputId": "f92b268e-9834-4cc1-dabb-de32d70187a1"
      },
      "execution_count": 5,
      "outputs": [
        {
          "output_type": "execute_result",
          "data": {
            "text/plain": [
              "array([[2, 4, 6],\n",
              "       [5, 7, 9]])"
            ]
          },
          "metadata": {},
          "execution_count": 5
        }
      ]
    },
    {
      "cell_type": "code",
      "source": [
        "arr_1= np.array([[1, 2, 3], [4, 5, 6]])\n",
        "\n",
        "arr_2= np.array([[1], [2]])\n",
        "\n",
        "arr_1 + arr_2"
      ],
      "metadata": {
        "colab": {
          "base_uri": "https://localhost:8080/"
        },
        "id": "GuP34W0lOGk3",
        "outputId": "349ce4bd-fca1-4ec5-ac32-c4012ec1aa25"
      },
      "execution_count": 6,
      "outputs": [
        {
          "output_type": "execute_result",
          "data": {
            "text/plain": [
              "array([[2, 3, 4],\n",
              "       [6, 7, 8]])"
            ]
          },
          "metadata": {},
          "execution_count": 6
        }
      ]
    },
    {
      "cell_type": "code",
      "source": [
        "arr_1= np.array([[1, 2, 3, 4, 5]])\n",
        "\n",
        "arr_2= np.array([1, 2, 3, 4])\n",
        "\n",
        "arr_1 + arr_2"
      ],
      "metadata": {
        "colab": {
          "base_uri": "https://localhost:8080/",
          "height": 201
        },
        "id": "OrIBt71OOttj",
        "outputId": "0ebe86a3-a2a2-4268-882e-a00965c709a3"
      },
      "execution_count": 7,
      "outputs": [
        {
          "output_type": "error",
          "ename": "ValueError",
          "evalue": "ignored",
          "traceback": [
            "\u001b[0;31m---------------------------------------------------------------------------\u001b[0m",
            "\u001b[0;31mValueError\u001b[0m                                Traceback (most recent call last)",
            "\u001b[0;32m<ipython-input-7-b2ca8aa687d7>\u001b[0m in \u001b[0;36m<cell line: 5>\u001b[0;34m()\u001b[0m\n\u001b[1;32m      3\u001b[0m \u001b[0marr_2\u001b[0m\u001b[0;34m=\u001b[0m \u001b[0mnp\u001b[0m\u001b[0;34m.\u001b[0m\u001b[0marray\u001b[0m\u001b[0;34m(\u001b[0m\u001b[0;34m[\u001b[0m\u001b[0;36m1\u001b[0m\u001b[0;34m,\u001b[0m \u001b[0;36m2\u001b[0m\u001b[0;34m,\u001b[0m \u001b[0;36m3\u001b[0m\u001b[0;34m,\u001b[0m \u001b[0;36m4\u001b[0m\u001b[0;34m]\u001b[0m\u001b[0;34m)\u001b[0m\u001b[0;34m\u001b[0m\u001b[0;34m\u001b[0m\u001b[0m\n\u001b[1;32m      4\u001b[0m \u001b[0;34m\u001b[0m\u001b[0m\n\u001b[0;32m----> 5\u001b[0;31m \u001b[0marr_1\u001b[0m \u001b[0;34m+\u001b[0m \u001b[0marr_2\u001b[0m\u001b[0;34m\u001b[0m\u001b[0;34m\u001b[0m\u001b[0m\n\u001b[0m",
            "\u001b[0;31mValueError\u001b[0m: operands could not be broadcast together with shapes (1,5) (4,) "
          ]
        }
      ]
    },
    {
      "cell_type": "code",
      "source": [
        "arr_1= np.array([[1], [2], [3], [4], [5]])\n",
        "\n",
        "arr_2= np.array([1, 2, 3, 4])\n",
        "\n",
        "arr_1 + arr_2"
      ],
      "metadata": {
        "colab": {
          "base_uri": "https://localhost:8080/"
        },
        "id": "wJOFXVn_O98r",
        "outputId": "e2a5efc3-b8f3-4e83-cf90-d3ca950f8689"
      },
      "execution_count": 8,
      "outputs": [
        {
          "output_type": "execute_result",
          "data": {
            "text/plain": [
              "array([[2, 3, 4, 5],\n",
              "       [3, 4, 5, 6],\n",
              "       [4, 5, 6, 7],\n",
              "       [5, 6, 7, 8],\n",
              "       [6, 7, 8, 9]])"
            ]
          },
          "metadata": {},
          "execution_count": 8
        }
      ]
    },
    {
      "cell_type": "markdown",
      "source": [
        "### Question:\n",
        "**Randomly generate a matrix of shape (1Million, 2) and perform below mentioned operations:**\n",
        "\n",
        "a. Find the distance between each 2 - \n",
        "<br> Dimensional data point from the centroid (i.e. mean) of the given dataset.\n",
        "<br> Append the newly calculated distances as new colummn with the given dataset.\n",
        "\n",
        "b. Given any data point, generate 3 closest neighbors from it.\n",
        "\n",
        "**Solution:**\n",
        "* Step 1: Generate the Matrix\n",
        "* Step 2: Compute Centroid\n",
        "* Step 3: Compute Distance"
      ],
      "metadata": {
        "id": "TLf8OYmmPn_w"
      }
    },
    {
      "cell_type": "code",
      "source": [
        "# Step 1: Generate the Matrix\n",
        "import numpy as np\n",
        "\n",
        "arr= np.random.rand(1000000, 2)\n",
        "\n",
        "arr.shape"
      ],
      "metadata": {
        "colab": {
          "base_uri": "https://localhost:8080/"
        },
        "id": "P9xf_EFaPit7",
        "outputId": "c1b65dc9-c1d0-4cff-845a-d5dc8d559f71"
      },
      "execution_count": 9,
      "outputs": [
        {
          "output_type": "execute_result",
          "data": {
            "text/plain": [
              "(1000000, 2)"
            ]
          },
          "metadata": {},
          "execution_count": 9
        }
      ]
    },
    {
      "cell_type": "code",
      "source": [
        "# Step 2: Compute Centroid\n",
        "centroid= np.mean(arr)\n",
        "\n",
        "centroid.shape"
      ],
      "metadata": {
        "colab": {
          "base_uri": "https://localhost:8080/"
        },
        "id": "dd6PJwLJpEo6",
        "outputId": "801a5cc0-e461-4ce2-85bf-c2082dd51d57"
      },
      "execution_count": 10,
      "outputs": [
        {
          "output_type": "execute_result",
          "data": {
            "text/plain": [
              "()"
            ]
          },
          "metadata": {},
          "execution_count": 10
        }
      ]
    },
    {
      "cell_type": "code",
      "source": [
        "centroid"
      ],
      "metadata": {
        "colab": {
          "base_uri": "https://localhost:8080/"
        },
        "id": "D3DwpZPFpUg7",
        "outputId": "0b9a8b09-1440-4b60-929d-cb6352eb773e"
      },
      "execution_count": 11,
      "outputs": [
        {
          "output_type": "execute_result",
          "data": {
            "text/plain": [
              "0.5001681866338552"
            ]
          },
          "metadata": {},
          "execution_count": 11
        }
      ]
    },
    {
      "cell_type": "code",
      "source": [
        "# Step 2: Compute Centroid\n",
        "centroid= np.mean(arr, axis= 0)\n",
        "\n",
        "print(centroid.shape)\n",
        "print(centroid)"
      ],
      "metadata": {
        "colab": {
          "base_uri": "https://localhost:8080/"
        },
        "id": "qgqZYbPHp3eW",
        "outputId": "41d9440d-a46b-4e60-bde8-871379fcc364"
      },
      "execution_count": 12,
      "outputs": [
        {
          "output_type": "stream",
          "name": "stdout",
          "text": [
            "(2,)\n",
            "[0.50063211 0.49970427]\n"
          ]
        }
      ]
    },
    {
      "cell_type": "markdown",
      "source": [
        "$$d= \\sqrt{(side1)^2 + (side2)^2}$$"
      ],
      "metadata": {
        "id": "n2Iz7vrCq5zH"
      }
    },
    {
      "cell_type": "code",
      "source": [
        "# Step 3: Compute Distance b/w each 2D datapoint and the centroid\n",
        "dist= np.sqrt(np.sum((arr - centroid)**2, axis= 1))\n",
        "dist.shape"
      ],
      "metadata": {
        "colab": {
          "base_uri": "https://localhost:8080/"
        },
        "id": "ZcsntGtWpWR2",
        "outputId": "634fc0ae-fa68-4ac4-b2f8-c616a3bfb9b2"
      },
      "execution_count": 13,
      "outputs": [
        {
          "output_type": "execute_result",
          "data": {
            "text/plain": [
              "(1000000,)"
            ]
          },
          "metadata": {},
          "execution_count": 13
        }
      ]
    },
    {
      "cell_type": "code",
      "source": [
        "dist"
      ],
      "metadata": {
        "colab": {
          "base_uri": "https://localhost:8080/"
        },
        "id": "O3i_Qtdspv3_",
        "outputId": "87c4605b-592c-4167-c0d7-6ccbbcb5581c"
      },
      "execution_count": 14,
      "outputs": [
        {
          "output_type": "execute_result",
          "data": {
            "text/plain": [
              "array([0.39316399, 0.57895451, 0.16314614, ..., 0.38705741, 0.47908046,\n",
              "       0.45267848])"
            ]
          },
          "metadata": {},
          "execution_count": 14
        }
      ]
    },
    {
      "cell_type": "markdown",
      "source": [
        "### Question:\n",
        "**Randomly generate a matrix of shape (1Million, 3) and perform below mentioned operations:**\n",
        "\n",
        "a. Find the distance between each 2 - \n",
        "<br> Dimensional data point from the centroid (i.e. mean) of the given dataset.\n",
        "<br> Append the newly calculated distances as new colummn with the given dataset.\n",
        "\n",
        "b. Given any data point, generate 3 closest neighbors from it.\n",
        "\n",
        "**Solution:**\n",
        "* Step 1: Generate the Matrix\n",
        "* Step 2: Compute Centroid\n",
        "* Step 3: Compute Distance"
      ],
      "metadata": {
        "id": "_xi-qUdRfmlh"
      }
    },
    {
      "cell_type": "code",
      "source": [
        "dist.reshape(-1, 1).shape"
      ],
      "metadata": {
        "colab": {
          "base_uri": "https://localhost:8080/"
        },
        "id": "1NrK1RzZmlFY",
        "outputId": "3956270b-d539-41b3-b7af-6b0fe07a26b7"
      },
      "execution_count": 15,
      "outputs": [
        {
          "output_type": "execute_result",
          "data": {
            "text/plain": [
              "(1000000, 1)"
            ]
          },
          "metadata": {},
          "execution_count": 15
        }
      ]
    },
    {
      "cell_type": "code",
      "source": [
        "new_arr= np.hstack([arr, dist.reshape(-1, 1)])\n",
        "\n",
        "new_arr.shape"
      ],
      "metadata": {
        "colab": {
          "base_uri": "https://localhost:8080/"
        },
        "id": "vV-2vBDim_uO",
        "outputId": "30dcb29f-2f3a-4694-f70d-4a68d4ce625f"
      },
      "execution_count": 16,
      "outputs": [
        {
          "output_type": "execute_result",
          "data": {
            "text/plain": [
              "(1000000, 3)"
            ]
          },
          "metadata": {},
          "execution_count": 16
        }
      ]
    },
    {
      "cell_type": "code",
      "source": [
        "new_arr[dist.argsort()][:3]"
      ],
      "metadata": {
        "colab": {
          "base_uri": "https://localhost:8080/"
        },
        "id": "EN-Ce6MTnWp8",
        "outputId": "7994f92d-663f-485e-9179-7fb3e1712fa1"
      },
      "execution_count": 17,
      "outputs": [
        {
          "output_type": "execute_result",
          "data": {
            "text/plain": [
              "array([[5.00641324e-01, 4.99588238e-01, 1.16394206e-04],\n",
              "       [5.00406617e-01, 4.99724201e-01, 2.26368438e-04],\n",
              "       [5.00012139e-01, 4.99695432e-01, 6.20029824e-04]])"
            ]
          },
          "metadata": {},
          "execution_count": 17
        }
      ]
    }
  ]
}